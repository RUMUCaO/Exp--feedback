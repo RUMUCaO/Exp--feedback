{
 "cells": [
  {
   "cell_type": "markdown",
   "metadata": {
    "formattedRanges": [],
    "cell_id": "764b5ce1321047eaa7596f8e061cc825",
    "deepnote_cell_type": "text-cell-h1"
   },
   "source": "# Immediate False Memories Analysis",
   "block_group": "4ee83e423a344c4eb887fbbda5a938d9"
  },
  {
   "cell_type": "code",
   "metadata": {
    "source_hash": null,
    "execution_start": 1717729802937,
    "execution_millis": 1227,
    "deepnote_to_be_reexecuted": false,
    "cell_id": "65a33d6c03e64f7ba1c5d13411f3c2ce",
    "deepnote_cell_type": "code",
    "ExecuteTime": {
     "end_time": "2025-03-30T11:12:54.018216Z",
     "start_time": "2025-03-30T11:12:54.005130Z"
    }
   },
   "source": [
    "import matplotlib.pyplot as plt\n",
    "import pandas as pd\n",
    "import numpy as np\n",
    "import scikit_posthocs as sp\n",
    "\n",
    "\n",
    "# Load data\n",
    "# Assuming 'df' is your DataFrame and it has columns 'none', 'survey-based', 'static-chatbot', 'chatbot' with the data\n",
    "df = pd.read_csv('main_data.csv')\n",
    "\n",
    "# # Create a new DataFrame with only the columns you need\n",
    "# df_classes = df[['none', 'survey-based', 'static-chatbot', 'chatbot']]"
   ],
   "block_group": "f6103f41975b44aeae745d8e2375305b",
   "outputs_reference": null,
   "content_dependencies": null,
   "outputs": [
    {
     "ename": "ModuleNotFoundError",
     "evalue": "No module named 'matplotlib'",
     "output_type": "error",
     "traceback": [
      "\u001B[31m---------------------------------------------------------------------------\u001B[39m",
      "\u001B[31mModuleNotFoundError\u001B[39m                       Traceback (most recent call last)",
      "\u001B[36mCell\u001B[39m\u001B[36m \u001B[39m\u001B[32mIn[4]\u001B[39m\u001B[32m, line 1\u001B[39m\n\u001B[32m----> \u001B[39m\u001B[32m1\u001B[39m \u001B[38;5;28;01mimport\u001B[39;00m\u001B[38;5;250m \u001B[39m\u001B[34;01mmatplotlib\u001B[39;00m\u001B[34;01m.\u001B[39;00m\u001B[34;01mpyplot\u001B[39;00m\u001B[38;5;250m \u001B[39m\u001B[38;5;28;01mas\u001B[39;00m\u001B[38;5;250m \u001B[39m\u001B[34;01mplt\u001B[39;00m\n\u001B[32m      2\u001B[39m \u001B[38;5;28;01mimport\u001B[39;00m\u001B[38;5;250m \u001B[39m\u001B[34;01mpandas\u001B[39;00m\u001B[38;5;250m \u001B[39m\u001B[38;5;28;01mas\u001B[39;00m\u001B[38;5;250m \u001B[39m\u001B[34;01mpd\u001B[39;00m\n\u001B[32m      3\u001B[39m \u001B[38;5;28;01mimport\u001B[39;00m\u001B[38;5;250m \u001B[39m\u001B[34;01mnumpy\u001B[39;00m\u001B[38;5;250m \u001B[39m\u001B[38;5;28;01mas\u001B[39;00m\u001B[38;5;250m \u001B[39m\u001B[34;01mnp\u001B[39;00m\n",
      "\u001B[31mModuleNotFoundError\u001B[39m: No module named 'matplotlib'"
     ]
    }
   ],
   "execution_count": 4
  },
  {
   "cell_type": "code",
   "metadata": {
    "source_hash": null,
    "execution_start": 1717729804435,
    "execution_millis": 271,
    "deepnote_table_state": {
     "sortBy": [],
     "filters": [],
     "pageSize": 10,
     "pageIndex": 11
    },
    "deepnote_table_loading": false,
    "deepnote_to_be_reexecuted": false,
    "cell_id": "cb8fd429f7d045648dc7daa0ad619776",
    "deepnote_cell_type": "code"
   },
   "source": "# Removing header rows\ndf = df.iloc[2:]\ndf",
   "block_group": "11835e7eee4d44c68273468f6c68aee2",
   "execution_count": null,
   "outputs": [
    {
     "output_type": "execute_result",
     "execution_count": 4,
     "data": {
      "application/vnd.deepnote.dataframe.v3+json": {
       "column_count": 105,
       "row_count": 278,
       "columns": [
        {
         "name": "StartDate",
         "dtype": "object",
         "stats": {
          "unique_count": 275,
          "nan_count": 0,
          "categories": [
           {
            "name": "2024-04-17 15:42:23",
            "count": 2
           },
           {
            "name": "2024-04-18 12:11:10",
            "count": 2
           },
           {
            "name": "273 others",
            "count": 274
           }
          ]
         }
        },
        {
         "name": "EndDate",
         "dtype": "object",
         "stats": {
          "unique_count": 277,
          "nan_count": 0,
          "categories": [
           {
            "name": "2024-04-17 15:59:20",
            "count": 2
           },
           {
            "name": "2024-02-29 16:25:10",
            "count": 1
           },
           {
            "name": "275 others",
            "count": 275
           }
          ]
         }
        },
        {
         "name": "Status",
         "dtype": "object",
         "stats": {
          "unique_count": 2,
          "nan_count": 0,
          "categories": [
           {
            "name": "IP Address",
            "count": 274
           },
           {
            "name": "Survey Preview",
            "count": 4
           }
          ]
         }
        },
        {
         "name": "IPAddress",
         "dtype": "object",
         "stats": {
          "unique_count": 267,
          "nan_count": 4,
          "categories": [
           {
            "name": "18.27.119.25",
            "count": 5
           },
           {
            "name": "266 others",
            "count": 269
           },
           {
            "name": "Missing",
            "count": 4
           }
          ]
         }
        },
        {
         "name": "Progress",
         "dtype": "object",
         "stats": {
          "unique_count": 14,
          "nan_count": 0,
          "categories": [
           {
            "name": "100",
            "count": 232
           },
           {
            "name": "22",
            "count": 11
           },
           {
            "name": "12 others",
            "count": 35
           }
          ]
         }
        },
        {
         "name": "Duration (in seconds)",
         "dtype": "object",
         "stats": {
          "unique_count": 262,
          "nan_count": 0,
          "categories": [
           {
            "name": "1109",
            "count": 3
           },
           {
            "name": "1069",
            "count": 2
           },
           {
            "name": "260 others",
            "count": 273
           }
          ]
         }
        },
        {
         "name": "Finished",
         "dtype": "object",
         "stats": {
          "unique_count": 2,
          "nan_count": 0,
          "categories": [
           {
            "name": "True",
            "count": 232
           },
           {
            "name": "False",
            "count": 46
           }
          ]
         }
        },
        {
         "name": "RecordedDate",
         "dtype": "object",
         "stats": {
          "unique_count": 278,
          "nan_count": 0,
          "categories": [
           {
            "name": "2024-02-29 16:25:10",
            "count": 1
           },
           {
            "name": "2024-03-11 14:14:51",
            "count": 1
           },
           {
            "name": "276 others",
            "count": 276
           }
          ]
         }
        },
        {
         "name": "ResponseId",
         "dtype": "object",
         "stats": {
          "unique_count": 278,
          "nan_count": 0,
          "categories": [
           {
            "name": "R_6redk2qxDSNl1PX",
            "count": 1
           },
           {
            "name": "R_7Qus8pbzdiz2Ijw",
            "count": 1
           },
           {
            "name": "276 others",
            "count": 276
           }
          ]
         }
        },
        {
         "name": "RecipientLastName",
         "dtype": "object",
         "stats": {
          "unique_count": 0,
          "nan_count": 278,
          "categories": [
           {
            "name": "Missing",
            "count": 278
           }
          ]
         }
        },
        {
         "name": "RecipientFirstName",
         "dtype": "object",
         "stats": {
          "unique_count": 0,
          "nan_count": 278,
          "categories": [
           {
            "name": "Missing",
            "count": 278
           }
          ]
         }
        },
        {
         "name": "RecipientEmail",
         "dtype": "object",
         "stats": {
          "unique_count": 0,
          "nan_count": 278,
          "categories": [
           {
            "name": "Missing",
            "count": 278
           }
          ]
         }
        },
        {
         "name": "ExternalReference",
         "dtype": "object",
         "stats": {
          "unique_count": 0,
          "nan_count": 278,
          "categories": [
           {
            "name": "Missing",
            "count": 278
           }
          ]
         }
        },
        {
         "name": "LocationLatitude",
         "dtype": "object",
         "stats": {
          "unique_count": 223,
          "nan_count": 46,
          "categories": [
           {
            "name": "42.3649",
            "count": 6
           },
           {
            "name": "222 others",
            "count": 226
           },
           {
            "name": "Missing",
            "count": 46
           }
          ]
         }
        },
        {
         "name": "LocationLongitude",
         "dtype": "object",
         "stats": {
          "unique_count": 223,
          "nan_count": 46,
          "categories": [
           {
            "name": "-71.0987",
            "count": 6
           },
           {
            "name": "222 others",
            "count": 226
           },
           {
            "name": "Missing",
            "count": 46
           }
          ]
         }
        },
        {
         "name": "DistributionChannel",
         "dtype": "object",
         "stats": {
          "unique_count": 2,
          "nan_count": 0,
          "categories": [
           {
            "name": "anonymous",
            "count": 274
           },
           {
            "name": "preview",
            "count": 4
           }
          ]
         }
        },
        {
         "name": "UserLanguage",
         "dtype": "object",
         "stats": {
          "unique_count": 1,
          "nan_count": 0,
          "categories": [
           {
            "name": "EN",
            "count": 278
           }
          ]
         }
        },
        {
         "name": "Q1",
         "dtype": "object",
         "stats": {
          "unique_count": 2,
          "nan_count": 0,
          "categories": [
           {
            "name": "I consent and agree to participate",
            "count": 274
           },
           {
            "name": "I do not consent, I do not wish to participate",
            "count": 4
           }
          ]
         }
        },
        {
         "name": "QID83",
         "dtype": "object",
         "stats": {
          "unique_count": 261,
          "nan_count": 10,
          "categories": [
           {
            "name": "1234",
            "count": 5
           },
           {
            "name": "260 others",
            "count": 263
           },
           {
            "name": "Missing",
            "count": 10
           }
          ]
         }
        },
        {
         "name": "Q78_First Click",
         "dtype": "object",
         "stats": {
          "unique_count": 56,
          "nan_count": 15,
          "categories": [
           {
            "name": "0",
            "count": 208
           },
           {
            "name": "55 others",
            "count": 55
           },
           {
            "name": "Missing",
            "count": 15
           }
          ]
         }
        },
        {
         "name": "Q78_Last Click",
         "dtype": "object",
         "stats": {
          "unique_count": 56,
          "nan_count": 15,
          "categories": [
           {
            "name": "0",
            "count": 208
           },
           {
            "name": "55 others",
            "count": 55
           },
           {
            "name": "Missing",
            "count": 15
           }
          ]
         }
        },
        {
         "name": "Q78_Page Submit",
         "dtype": "object",
         "stats": {
          "unique_count": 262,
          "nan_count": 15,
          "categories": [
           {
            "name": "158.886",
            "count": 2
           },
           {
            "name": "261 others",
            "count": 261
           },
           {
            "name": "Missing",
            "count": 15
           }
          ]
         }
        },
        {
         "name": "Q78_Click Count",
         "dtype": "object",
         "stats": {
          "unique_count": 8,
          "nan_count": 15,
          "categories": [
           {
            "name": "0",
            "count": 208
           },
           {
            "name": "7 others",
            "count": 55
           },
           {
            "name": "Missing",
            "count": 15
           }
          ]
         }
        },
        {
         "name": "SAM_scale_1",
         "dtype": "object",
         "stats": {
          "unique_count": 3,
          "nan_count": 50,
          "categories": [
           {
            "name": " Unpleasant",
            "count": 127
           },
           {
            "name": "2 others",
            "count": 101
           },
           {
            "name": "Missing",
            "count": 50
           }
          ]
         }
        },
        {
         "name": "SAM_scale_2",
         "dtype": "object",
         "stats": {
          "unique_count": 2,
          "nan_count": 220,
          "categories": [
           {
            "name": " Calm",
            "count": 38
           },
           {
            "name": "Excited",
            "count": 20
           },
           {
            "name": "Missing",
            "count": 220
           }
          ]
         }
        },
        {
         "name": "SAM_scale_3",
         "dtype": "object",
         "stats": {
          "unique_count": 2,
          "nan_count": 193,
          "categories": [
           {
            "name": "No Control",
            "count": 64
           },
           {
            "name": "Full Control",
            "count": 21
           },
           {
            "name": "Missing",
            "count": 193
           }
          ]
         }
        },
        {
         "name": "G1_First Click",
         "dtype": "object",
         "stats": {
          "unique_count": 110,
          "nan_count": 20,
          "categories": [
           {
            "name": "0",
            "count": 149
           },
           {
            "name": "109 others",
            "count": 109
           },
           {
            "name": "Missing",
            "count": 20
           }
          ]
         }
        },
        {
         "name": "G1_Last Click",
         "dtype": "object",
         "stats": {
          "unique_count": 110,
          "nan_count": 20,
          "categories": [
           {
            "name": "0",
            "count": 149
           },
           {
            "name": "109 others",
            "count": 109
           },
           {
            "name": "Missing",
            "count": 20
           }
          ]
         }
        },
        {
         "name": "G1_Page Submit",
         "dtype": "object",
         "stats": {
          "unique_count": 176,
          "nan_count": 20,
          "categories": [
           {
            "name": "300.138",
            "count": 6
           },
           {
            "name": "175 others",
            "count": 252
           },
           {
            "name": "Missing",
            "count": 20
           }
          ]
         }
        },
        {
         "name": "G1_Click Count",
         "dtype": "object",
         "stats": {
          "unique_count": 18,
          "nan_count": 20,
          "categories": [
           {
            "name": "0",
            "count": 149
           },
           {
            "name": "17 others",
            "count": 109
           },
           {
            "name": "Missing",
            "count": 20
           }
          ]
         }
        },
        {
         "name": "Q74_First Click",
         "dtype": "object",
         "stats": {
          "unique_count": 20,
          "nan_count": 221,
          "categories": [
           {
            "name": "0",
            "count": 38
           },
           {
            "name": "19 others",
            "count": 19
           },
           {
            "name": "Missing",
            "count": 221
           }
          ]
         }
        },
        {
         "name": "Q74_Last Click",
         "dtype": "object",
         "stats": {
          "unique_count": 20,
          "nan_count": 221,
          "categories": [
           {
            "name": "0",
            "count": 38
           },
           {
            "name": "19 others",
            "count": 19
           },
           {
            "name": "Missing",
            "count": 221
           }
          ]
         }
        },
        {
         "name": "Q74_Page Submit",
         "dtype": "object",
         "stats": {
          "unique_count": 57,
          "nan_count": 221,
          "categories": [
           {
            "name": "521.54",
            "count": 1
           },
           {
            "name": "56 others",
            "count": 56
           },
           {
            "name": "Missing",
            "count": 221
           }
          ]
         }
        },
        {
         "name": "Q74_Click Count",
         "dtype": "object",
         "stats": {
          "unique_count": 7,
          "nan_count": 221,
          "categories": [
           {
            "name": "0",
            "count": 38
           },
           {
            "name": "6 others",
            "count": 19
           },
           {
            "name": "Missing",
            "count": 221
           }
          ]
         }
        },
        {
         "name": "Q75_First Click",
         "dtype": "object",
         "stats": {
          "unique_count": 52,
          "nan_count": 220,
          "categories": [
           {
            "name": "0",
            "count": 7
           },
           {
            "name": "51 others",
            "count": 51
           },
           {
            "name": "Missing",
            "count": 220
           }
          ]
         }
        },
        {
         "name": "Q75_Last Click",
         "dtype": "object",
         "stats": {
          "unique_count": 52,
          "nan_count": 220,
          "categories": [
           {
            "name": "0",
            "count": 7
           },
           {
            "name": "51 others",
            "count": 51
           },
           {
            "name": "Missing",
            "count": 220
           }
          ]
         }
        },
        {
         "name": "Q75_Page Submit",
         "dtype": "object",
         "stats": {
          "unique_count": 58,
          "nan_count": 220,
          "categories": [
           {
            "name": "579.311",
            "count": 1
           },
           {
            "name": "57 others",
            "count": 57
           },
           {
            "name": "Missing",
            "count": 220
           }
          ]
         }
        },
        {
         "name": "Q75_Click Count",
         "dtype": "object",
         "stats": {
          "unique_count": 14,
          "nan_count": 220,
          "categories": [
           {
            "name": "1",
            "count": 21
           },
           {
            "name": "13 others",
            "count": 37
           },
           {
            "name": "Missing",
            "count": 220
           }
          ]
         }
        },
        {
         "name": "Passcode_static",
         "dtype": "object",
         "stats": {
          "unique_count": 1,
          "nan_count": 227,
          "categories": [
           {
            "name": "9560",
            "count": 51
           },
           {
            "name": "Missing",
            "count": 227
           }
          ]
         }
        },
        {
         "name": "Q76_First Click",
         "dtype": "object",
         "stats": {
          "unique_count": 55,
          "nan_count": 219,
          "categories": [
           {
            "name": "0",
            "count": 5
           },
           {
            "name": "54 others",
            "count": 54
           },
           {
            "name": "Missing",
            "count": 219
           }
          ]
         }
        },
        {
         "name": "Q76_Last Click",
         "dtype": "object",
         "stats": {
          "unique_count": 55,
          "nan_count": 219,
          "categories": [
           {
            "name": "0",
            "count": 5
           },
           {
            "name": "54 others",
            "count": 54
           },
           {
            "name": "Missing",
            "count": 219
           }
          ]
         }
        },
        {
         "name": "Q76_Page Submit",
         "dtype": "object",
         "stats": {
          "unique_count": 59,
          "nan_count": 219,
          "categories": [
           {
            "name": "409.725",
            "count": 1
           },
           {
            "name": "58 others",
            "count": 58
           },
           {
            "name": "Missing",
            "count": 219
           }
          ]
         }
        },
        {
         "name": "Q76_Click Count",
         "dtype": "object",
         "stats": {
          "unique_count": 12,
          "nan_count": 219,
          "categories": [
           {
            "name": "1",
            "count": 28
           },
           {
            "name": "11 others",
            "count": 31
           },
           {
            "name": "Missing",
            "count": 219
           }
          ]
         }
        },
        {
         "name": "Passcode_improv",
         "dtype": "object",
         "stats": {
          "unique_count": 1,
          "nan_count": 226,
          "categories": [
           {
            "name": "9560",
            "count": 52
           },
           {
            "name": "Missing",
            "count": 226
           }
          ]
         }
        },
        {
         "name": "NASA TLX_Mental_1",
         "dtype": "object",
         "stats": {
          "unique_count": 21,
          "nan_count": 47,
          "categories": [
           {
            "name": "14",
            "count": 23
           },
           {
            "name": "20 others",
            "count": 208
           },
           {
            "name": "Missing",
            "count": 47
           }
          ]
         }
        },
        {
         "name": "NASA TLX_Physical_1",
         "dtype": "object",
         "stats": {
          "unique_count": 16,
          "nan_count": 47,
          "categories": [
           {
            "name": "0",
            "count": 119
           },
           {
            "name": "15 others",
            "count": 112
           },
           {
            "name": "Missing",
            "count": 47
           }
          ]
         }
        },
        {
         "name": "NASA TLX_Temporal_1",
         "dtype": "object",
         "stats": {
          "unique_count": 20,
          "nan_count": 47,
          "categories": [
           {
            "name": "0",
            "count": 30
           },
           {
            "name": "19 others",
            "count": 201
           },
           {
            "name": "Missing",
            "count": 47
           }
          ]
         }
        },
        {
         "name": "NASA TLX_Performance_1",
         "dtype": "object",
         "stats": {
          "unique_count": 21,
          "nan_count": 47,
          "categories": [
           {
            "name": "10",
            "count": 32
           },
           {
            "name": "20 others",
            "count": 199
           },
           {
            "name": "Missing",
            "count": 47
           }
          ]
         }
        },
        {
         "name": "NASA TLX_Effort_1",
         "dtype": "object",
         "stats": {
          "unique_count": 20,
          "nan_count": 47,
          "categories": [
           {
            "name": "10",
            "count": 29
           },
           {
            "name": "19 others",
            "count": 202
           },
           {
            "name": "Missing",
            "count": 47
           }
          ]
         }
        },
        {
         "name": "NASA TLX_Frustration_1",
         "dtype": "object",
         "stats": {
          "unique_count": 20,
          "nan_count": 47,
          "categories": [
           {
            "name": "0",
            "count": 46
           },
           {
            "name": "19 others",
            "count": 185
           },
           {
            "name": "Missing",
            "count": 47
           }
          ]
         }
        },
        {
         "name": "PostQues_1",
         "dtype": "object",
         "stats": {
          "unique_count": 7,
          "nan_count": 49,
          "categories": [
           {
            "name": "Definitely yes",
            "count": 121
           },
           {
            "name": "6 others",
            "count": 108
           },
           {
            "name": "Missing",
            "count": 49
           }
          ]
         }
        },
        {
         "name": "PostQues_2",
         "dtype": "object",
         "stats": {
          "unique_count": 7,
          "nan_count": 49,
          "categories": [
           {
            "name": "Yes",
            "count": 80
           },
           {
            "name": "6 others",
            "count": 149
           },
           {
            "name": "Missing",
            "count": 49
           }
          ]
         }
        },
        {
         "name": "PostQues_3",
         "dtype": "object",
         "stats": {
          "unique_count": 7,
          "nan_count": 49,
          "categories": [
           {
            "name": "No",
            "count": 82
           },
           {
            "name": "6 others",
            "count": 147
           },
           {
            "name": "Missing",
            "count": 49
           }
          ]
         }
        },
        {
         "name": "PostQues_4",
         "dtype": "object",
         "stats": {
          "unique_count": 7,
          "nan_count": 49,
          "categories": [
           {
            "name": "Yes",
            "count": 95
           },
           {
            "name": "6 others",
            "count": 134
           },
           {
            "name": "Missing",
            "count": 49
           }
          ]
         }
        },
        {
         "name": "PostQues_5",
         "dtype": "object",
         "stats": {
          "unique_count": 7,
          "nan_count": 49,
          "categories": [
           {
            "name": "Yes",
            "count": 59
           },
           {
            "name": "6 others",
            "count": 170
           },
           {
            "name": "Missing",
            "count": 49
           }
          ]
         }
        },
        {
         "name": "PostQues_6",
         "dtype": "object",
         "stats": {
          "unique_count": 7,
          "nan_count": 49,
          "categories": [
           {
            "name": "Definitely yes",
            "count": 136
           },
           {
            "name": "6 others",
            "count": 93
           },
           {
            "name": "Missing",
            "count": 49
           }
          ]
         }
        },
        {
         "name": "PostQues_7",
         "dtype": "object",
         "stats": {
          "unique_count": 7,
          "nan_count": 49,
          "categories": [
           {
            "name": "No",
            "count": 92
           },
           {
            "name": "6 others",
            "count": 137
           },
           {
            "name": "Missing",
            "count": 49
           }
          ]
         }
        },
        {
         "name": "attention_check_1",
         "dtype": "object",
         "stats": {
          "unique_count": 3,
          "nan_count": 53,
          "categories": [
           {
            "name": "Probably not",
            "count": 222
           },
           {
            "name": "2 others",
            "count": 3
           },
           {
            "name": "Missing",
            "count": 53
           }
          ]
         }
        },
        {
         "name": "PostQues_8",
         "dtype": "object",
         "stats": {
          "unique_count": 7,
          "nan_count": 49,
          "categories": [
           {
            "name": "Definitely yes",
            "count": 132
           },
           {
            "name": "6 others",
            "count": 97
           },
           {
            "name": "Missing",
            "count": 49
           }
          ]
         }
        },
        {
         "name": "PostQues_9",
         "dtype": "object",
         "stats": {
          "unique_count": 7,
          "nan_count": 49,
          "categories": [
           {
            "name": "No",
            "count": 100
           },
           {
            "name": "6 others",
            "count": 129
           },
           {
            "name": "Missing",
            "count": 49
           }
          ]
         }
        },
        {
         "name": "PostQues_10",
         "dtype": "object",
         "stats": {
          "unique_count": 7,
          "nan_count": 49,
          "categories": [
           {
            "name": "Uncertain if yes or no",
            "count": 58
           },
           {
            "name": "6 others",
            "count": 171
           },
           {
            "name": "Missing",
            "count": 49
           }
          ]
         }
        },
        {
         "name": "PostQues_11",
         "dtype": "object",
         "stats": {
          "unique_count": 7,
          "nan_count": 49,
          "categories": [
           {
            "name": "No",
            "count": 127
           },
           {
            "name": "6 others",
            "count": 102
           },
           {
            "name": "Missing",
            "count": 49
           }
          ]
         }
        },
        {
         "name": "PostQues_12",
         "dtype": "object",
         "stats": {
          "unique_count": 7,
          "nan_count": 49,
          "categories": [
           {
            "name": "Uncertain if yes or no",
            "count": 82
           },
           {
            "name": "6 others",
            "count": 147
           },
           {
            "name": "Missing",
            "count": 49
           }
          ]
         }
        },
        {
         "name": "PostQues_13",
         "dtype": "object",
         "stats": {
          "unique_count": 7,
          "nan_count": 49,
          "categories": [
           {
            "name": "Definitely yes",
            "count": 80
           },
           {
            "name": "6 others",
            "count": 149
           },
           {
            "name": "Missing",
            "count": 49
           }
          ]
         }
        },
        {
         "name": "PostQues_14",
         "dtype": "object",
         "stats": {
          "unique_count": 7,
          "nan_count": 49,
          "categories": [
           {
            "name": "No",
            "count": 115
           },
           {
            "name": "6 others",
            "count": 114
           },
           {
            "name": "Missing",
            "count": 49
           }
          ]
         }
        },
        {
         "name": "PostQues_15",
         "dtype": "object",
         "stats": {
          "unique_count": 7,
          "nan_count": 49,
          "categories": [
           {
            "name": "Definitely yes",
            "count": 137
           },
           {
            "name": "6 others",
            "count": 92
           },
           {
            "name": "Missing",
            "count": 49
           }
          ]
         }
        },
        {
         "name": "PostQues_16",
         "dtype": "object",
         "stats": {
          "unique_count": 7,
          "nan_count": 49,
          "categories": [
           {
            "name": "No",
            "count": 104
           },
           {
            "name": "6 others",
            "count": 125
           },
           {
            "name": "Missing",
            "count": 49
           }
          ]
         }
        },
        {
         "name": "attention_check_2",
         "dtype": "object",
         "stats": {
          "unique_count": 2,
          "nan_count": 53,
          "categories": [
           {
            "name": "Yes",
            "count": 224
           },
           {
            "name": "Definitely not",
            "count": 1
           },
           {
            "name": "Missing",
            "count": 53
           }
          ]
         }
        },
        {
         "name": "PostQues_17",
         "dtype": "object",
         "stats": {
          "unique_count": 7,
          "nan_count": 49,
          "categories": [
           {
            "name": "Yes",
            "count": 97
           },
           {
            "name": "6 others",
            "count": 132
           },
           {
            "name": "Missing",
            "count": 49
           }
          ]
         }
        },
        {
         "name": "PostQues_18",
         "dtype": "object",
         "stats": {
          "unique_count": 7,
          "nan_count": 49,
          "categories": [
           {
            "name": "Definitely yes",
            "count": 147
           },
           {
            "name": "6 others",
            "count": 82
           },
           {
            "name": "Missing",
            "count": 49
           }
          ]
         }
        },
        {
         "name": "PostQues_19",
         "dtype": "object",
         "stats": {
          "unique_count": 6,
          "nan_count": 49,
          "categories": [
           {
            "name": "No",
            "count": 129
           },
           {
            "name": "5 others",
            "count": 100
           },
           {
            "name": "Missing",
            "count": 49
           }
          ]
         }
        },
        {
         "name": "PostQues_20",
         "dtype": "object",
         "stats": {
          "unique_count": 7,
          "nan_count": 49,
          "categories": [
           {
            "name": "Uncertain if yes or no",
            "count": 87
           },
           {
            "name": "6 others",
            "count": 142
           },
           {
            "name": "Missing",
            "count": 49
           }
          ]
         }
        },
        {
         "name": "PostQues_21",
         "dtype": "object",
         "stats": {
          "unique_count": 7,
          "nan_count": 49,
          "categories": [
           {
            "name": "No",
            "count": 89
           },
           {
            "name": "6 others",
            "count": 140
           },
           {
            "name": "Missing",
            "count": 49
           }
          ]
         }
        },
        {
         "name": "PostQues_22",
         "dtype": "object",
         "stats": {
          "unique_count": 7,
          "nan_count": 49,
          "categories": [
           {
            "name": "Uncertain if yes or no",
            "count": 99
           },
           {
            "name": "6 others",
            "count": 130
           },
           {
            "name": "Missing",
            "count": 49
           }
          ]
         }
        },
        {
         "name": "PostQues_23",
         "dtype": "object",
         "stats": {
          "unique_count": 4,
          "nan_count": 49,
          "categories": [
           {
            "name": "No",
            "count": 101
           },
           {
            "name": "3 others",
            "count": 128
           },
           {
            "name": "Missing",
            "count": 49
           }
          ]
         }
        },
        {
         "name": "PostQues_24",
         "dtype": "object",
         "stats": {
          "unique_count": 7,
          "nan_count": 49,
          "categories": [
           {
            "name": "Uncertain if yes or no",
            "count": 74
           },
           {
            "name": "6 others",
            "count": 155
           },
           {
            "name": "Missing",
            "count": 49
           }
          ]
         }
        },
        {
         "name": "attention_check_3",
         "dtype": "object",
         "stats": {
          "unique_count": 2,
          "nan_count": 53,
          "categories": [
           {
            "name": "Definitely not",
            "count": 224
           },
           {
            "name": "No",
            "count": 1
           },
           {
            "name": "Missing",
            "count": 53
           }
          ]
         }
        },
        {
         "name": "PostQues_25",
         "dtype": "object",
         "stats": {
          "unique_count": 7,
          "nan_count": 49,
          "categories": [
           {
            "name": "No",
            "count": 95
           },
           {
            "name": "6 others",
            "count": 134
           },
           {
            "name": "Missing",
            "count": 49
           }
          ]
         }
        },
        {
         "name": "DemModQues_age",
         "dtype": "object",
         "stats": {
          "unique_count": 51,
          "nan_count": 50,
          "categories": [
           {
            "name": "28",
            "count": 13
           },
           {
            "name": "50 others",
            "count": 215
           },
           {
            "name": "Missing",
            "count": 50
           }
          ]
         }
        },
        {
         "name": "DemModQues_education",
         "dtype": "object",
         "stats": {
          "unique_count": 7,
          "nan_count": 50,
          "categories": [
           {
            "name": "Bachelor’s degree",
            "count": 76
           },
           {
            "name": "6 others",
            "count": 152
           },
           {
            "name": "Missing",
            "count": 50
           }
          ]
         }
        },
        {
         "name": "DemModQues_gender",
         "dtype": "object",
         "stats": {
          "unique_count": 5,
          "nan_count": 50,
          "categories": [
           {
            "name": "Female",
            "count": 126
           },
           {
            "name": "4 others",
            "count": 102
           },
           {
            "name": "Missing",
            "count": 50
           }
          ]
         }
        },
        {
         "name": "DemModQues_gender_5_TEXT",
         "dtype": "object",
         "stats": {
          "unique_count": 1,
          "nan_count": 277,
          "categories": [
           {
            "name": "genderfluid",
            "count": 1
           },
           {
            "name": "Missing",
            "count": 277
           }
          ]
         }
        },
        {
         "name": "DemModQues_AI",
         "dtype": "object",
         "stats": {
          "unique_count": 7,
          "nan_count": 50,
          "categories": [
           {
            "name": "5",
            "count": 62
           },
           {
            "name": "6 others",
            "count": 166
           },
           {
            "name": "Missing",
            "count": 50
           }
          ]
         }
        },
        {
         "name": "DemModQues_Chatbot",
         "dtype": "object",
         "stats": {
          "unique_count": 7,
          "nan_count": 50,
          "categories": [
           {
            "name": "5",
            "count": 49
           },
           {
            "name": "6 others",
            "count": 179
           },
           {
            "name": "Missing",
            "count": 50
           }
          ]
         }
        },
        {
         "name": "attitude/trust in ai_1",
         "dtype": "object",
         "stats": {
          "unique_count": 7,
          "nan_count": 50,
          "categories": [
           {
            "name": "6",
            "count": 64
           },
           {
            "name": "6 others",
            "count": 164
           },
           {
            "name": "Missing",
            "count": 50
           }
          ]
         }
        },
        {
         "name": "attitude/trust in ai_2",
         "dtype": "object",
         "stats": {
          "unique_count": 7,
          "nan_count": 50,
          "categories": [
           {
            "name": "4",
            "count": 60
           },
           {
            "name": "6 others",
            "count": 168
           },
           {
            "name": "Missing",
            "count": 50
           }
          ]
         }
        },
        {
         "name": "attitude/trust in ai_3",
         "dtype": "object",
         "stats": {
          "unique_count": 7,
          "nan_count": 50,
          "categories": [
           {
            "name": "4",
            "count": 61
           },
           {
            "name": "6 others",
            "count": 167
           },
           {
            "name": "Missing",
            "count": 50
           }
          ]
         }
        },
        {
         "name": "attitude/trust in ai_4",
         "dtype": "object",
         "stats": {
          "unique_count": 7,
          "nan_count": 50,
          "categories": [
           {
            "name": "5",
            "count": 48
           },
           {
            "name": "6 others",
            "count": 180
           },
           {
            "name": "Missing",
            "count": 50
           }
          ]
         }
        },
        {
         "name": "attitude/trust in ai_5",
         "dtype": "object",
         "stats": {
          "unique_count": 7,
          "nan_count": 50,
          "categories": [
           {
            "name": "4",
            "count": 62
           },
           {
            "name": "6 others",
            "count": 166
           },
           {
            "name": "Missing",
            "count": 50
           }
          ]
         }
        },
        {
         "name": "attitude/trust in ai_6",
         "dtype": "object",
         "stats": {
          "unique_count": 7,
          "nan_count": 50,
          "categories": [
           {
            "name": "1 (strongly disagree)",
            "count": 69
           },
           {
            "name": "6 others",
            "count": 159
           },
           {
            "name": "Missing",
            "count": 50
           }
          ]
         }
        },
        {
         "name": "attitude/trust in ai_7",
         "dtype": "object",
         "stats": {
          "unique_count": 7,
          "nan_count": 50,
          "categories": [
           {
            "name": "1 (strongly disagree)",
            "count": 73
           },
           {
            "name": "6 others",
            "count": 155
           },
           {
            "name": "Missing",
            "count": 50
           }
          ]
         }
        },
        {
         "name": "attitude/trust in ai_8",
         "dtype": "object",
         "stats": {
          "unique_count": 7,
          "nan_count": 50,
          "categories": [
           {
            "name": "1 (strongly disagree)",
            "count": 119
           },
           {
            "name": "6 others",
            "count": 109
           },
           {
            "name": "Missing",
            "count": 50
           }
          ]
         }
        },
        {
         "name": "attitude/trust in ai_9",
         "dtype": "object",
         "stats": {
          "unique_count": 7,
          "nan_count": 50,
          "categories": [
           {
            "name": "4",
            "count": 72
           },
           {
            "name": "6 others",
            "count": 156
           },
           {
            "name": "Missing",
            "count": 50
           }
          ]
         }
        },
        {
         "name": "attitude/trust in ai_10",
         "dtype": "object",
         "stats": {
          "unique_count": 7,
          "nan_count": 50,
          "categories": [
           {
            "name": "4",
            "count": 89
           },
           {
            "name": "6 others",
            "count": 139
           },
           {
            "name": "Missing",
            "count": 50
           }
          ]
         }
        },
        {
         "name": "attitude/trust in ai_11",
         "dtype": "object",
         "stats": {
          "unique_count": 7,
          "nan_count": 50,
          "categories": [
           {
            "name": "1 (strongly disagree)",
            "count": 69
           },
           {
            "name": "6 others",
            "count": 159
           },
           {
            "name": "Missing",
            "count": 50
           }
          ]
         }
        },
        {
         "name": "DemModQues_personal",
         "dtype": "object",
         "stats": {
          "unique_count": 2,
          "nan_count": 50,
          "categories": [
           {
            "name": "No",
            "count": 216
           },
           {
            "name": "Yes",
            "count": 12
           },
           {
            "name": "Missing",
            "count": 50
           }
          ]
         }
        },
        {
         "name": "DemModQues_interest",
         "dtype": "object",
         "stats": {
          "unique_count": 7,
          "nan_count": 50,
          "categories": [
           {
            "name": "5",
            "count": 53
           },
           {
            "name": "6 others",
            "count": 175
           },
           {
            "name": "Missing",
            "count": 50
           }
          ]
         }
        },
        {
         "name": "DemModQues_cog_1",
         "dtype": "object",
         "stats": {
          "unique_count": 5,
          "nan_count": 50,
          "categories": [
           {
            "name": "Somewhat Characteristic",
            "count": 86
           },
           {
            "name": "4 others",
            "count": 142
           },
           {
            "name": "Missing",
            "count": 50
           }
          ]
         }
        },
        {
         "name": "DemModQues_cog_2",
         "dtype": "object",
         "stats": {
          "unique_count": 5,
          "nan_count": 50,
          "categories": [
           {
            "name": "Somewhat Characteristic",
            "count": 106
           },
           {
            "name": "4 others",
            "count": 122
           },
           {
            "name": "Missing",
            "count": 50
           }
          ]
         }
        },
        {
         "name": "DemModQues_cog_3",
         "dtype": "object",
         "stats": {
          "unique_count": 5,
          "nan_count": 50,
          "categories": [
           {
            "name": "Somewhat Uncharacteristic",
            "count": 90
           },
           {
            "name": "4 others",
            "count": 138
           },
           {
            "name": "Missing",
            "count": 50
           }
          ]
         }
        },
        {
         "name": "DemModQues_cog_4",
         "dtype": "object",
         "stats": {
          "unique_count": 5,
          "nan_count": 50,
          "categories": [
           {
            "name": "Somewhat Uncharacteristic",
            "count": 73
           },
           {
            "name": "4 others",
            "count": 155
           },
           {
            "name": "Missing",
            "count": 50
           }
          ]
         }
        },
        {
         "name": "DemModQues_cog_5",
         "dtype": "object",
         "stats": {
          "unique_count": 5,
          "nan_count": 50,
          "categories": [
           {
            "name": "Somewhat Characteristic",
            "count": 101
           },
           {
            "name": "4 others",
            "count": 127
           },
           {
            "name": "Missing",
            "count": 50
           }
          ]
         }
        },
        {
         "name": "DemModQues_cog_6",
         "dtype": "object",
         "stats": {
          "unique_count": 5,
          "nan_count": 50,
          "categories": [
           {
            "name": "Somewhat Characteristic",
            "count": 85
           },
           {
            "name": "4 others",
            "count": 143
           },
           {
            "name": "Missing",
            "count": 50
           }
          ]
         }
        },
        {
         "name": "Exp_condition",
         "dtype": "object",
         "stats": {
          "unique_count": 4,
          "nan_count": 45,
          "categories": [
           {
            "name": "none",
            "count": 59
           },
           {
            "name": "3 others",
            "count": 174
           },
           {
            "name": "Missing",
            "count": 45
           }
          ]
         }
        },
        {
         "name": "Qualtrics_code",
         "dtype": "object",
         "stats": {
          "unique_count": 128,
          "nan_count": 150,
          "categories": [
           {
            "name": "905897",
            "count": 1
           },
           {
            "name": "127 others",
            "count": 127
           },
           {
            "name": "Missing",
            "count": 150
           }
          ]
         }
        },
        {
         "name": "_deepnote_index_column",
         "dtype": "int64"
        }
       ],
       "rows": [
        {
         "StartDate": "2024-04-17 15:47:11",
         "EndDate": "2024-04-17 15:59:07",
         "Status": "IP Address",
         "IPAddress": "184.153.177.128",
         "Progress": "100",
         "Duration (in seconds)": "715",
         "Finished": "True",
         "RecordedDate": "2024-04-17 15:59:07",
         "ResponseId": "R_2DMSelykkZmMprT",
         "RecipientLastName": "nan",
         "RecipientFirstName": "nan",
         "RecipientEmail": "nan",
         "ExternalReference": "nan",
         "LocationLatitude": "43.6842",
         "LocationLongitude": "-70.2816",
         "DistributionChannel": "anonymous",
         "UserLanguage": "EN",
         "Q1": "I consent and agree to participate",
         "QID83": "61040367da20e5471678f93a",
         "Q78_First Click": "0",
         "Q78_Last Click": "0",
         "Q78_Page Submit": "158.285",
         "Q78_Click Count": "0",
         "SAM_scale_1": " Unpleasant",
         "SAM_scale_2": "nan",
         "SAM_scale_3": "No Control",
         "G1_First Click": "0",
         "G1_Last Click": "0",
         "G1_Page Submit": "300.026",
         "G1_Click Count": "0",
         "Q74_First Click": "nan",
         "Q74_Last Click": "nan",
         "Q74_Page Submit": "nan",
         "Q74_Click Count": "nan",
         "Q75_First Click": "nan",
         "Q75_Last Click": "nan",
         "Q75_Page Submit": "nan",
         "Q75_Click Count": "nan",
         "Passcode_static": "nan",
         "Q76_First Click": "nan",
         "Q76_Last Click": "nan",
         "Q76_Page Submit": "nan",
         "Q76_Click Count": "nan",
         "Passcode_improv": "nan",
         "NASA TLX_Mental_1": "14",
         "NASA TLX_Physical_1": "5",
         "NASA TLX_Temporal_1": "12",
         "NASA TLX_Performance_1": "8",
         "NASA TLX_Effort_1": "10",
         "NASA TLX_Frustration_1": "12",
         "PostQues_1": "Yes",
         "PostQues_2": "No",
         "PostQues_3": "Probably yes",
         "PostQues_4": "No",
         "PostQues_5": "Probably yes",
         "PostQues_6": "Probably not",
         "PostQues_7": "No",
         "attention_check_1": "Probably not",
         "PostQues_8": "Probably not",
         "PostQues_9": "No",
         "PostQues_10": "No",
         "PostQues_11": "No",
         "PostQues_12": "Probably yes",
         "PostQues_13": "Yes",
         "PostQues_14": "No",
         "PostQues_15": "Definitely yes",
         "PostQues_16": "Definitely not",
         "attention_check_2": "Yes",
         "PostQues_17": "Yes",
         "PostQues_18": "Definitely yes",
         "PostQues_19": "No",
         "PostQues_20": "Uncertain if yes or no",
         "PostQues_21": "No",
         "PostQues_22": "Uncertain if yes or no",
         "PostQues_23": "No",
         "PostQues_24": "Probably not",
         "attention_check_3": "Definitely not",
         "PostQues_25": "Uncertain if yes or no",
         "DemModQues_age": "31",
         "DemModQues_education": "Bachelor’s degree",
         "DemModQues_gender": "Female",
         "DemModQues_gender_5_TEXT": "nan",
         "DemModQues_AI": "4",
         "DemModQues_Chatbot": "4",
         "attitude/trust in ai_1": "6",
         "attitude/trust in ai_2": "4",
         "attitude/trust in ai_3": "4",
         "attitude/trust in ai_4": "5",
         "attitude/trust in ai_5": "5",
         "attitude/trust in ai_6": "2",
         "attitude/trust in ai_7": "3",
         "attitude/trust in ai_8": "3",
         "attitude/trust in ai_9": "4",
         "attitude/trust in ai_10": "4",
         "attitude/trust in ai_11": "2",
         "DemModQues_personal": "No",
         "DemModQues_interest": "4",
         "DemModQues_cog_1": "Somewhat Characteristic",
         "DemModQues_cog_2": "Somewhat Uncharacteristic",
         "DemModQues_cog_3": "Uncertain",
         "DemModQues_cog_4": "Uncertain",
         "DemModQues_cog_5": "Uncertain",
         "DemModQues_cog_6": "Uncertain",
         "Exp_condition": "none",
         "Qualtrics_code": "nan",
         "_deepnote_index_column": 112
        },
        {
         "StartDate": "2024-04-17 15:42:23",
         "EndDate": "2024-04-17 15:59:18",
         "Status": "IP Address",
         "IPAddress": "96.253.100.98",
         "Progress": "100",
         "Duration (in seconds)": "1014",
         "Finished": "True",
         "RecordedDate": "2024-04-17 15:59:19",
         "ResponseId": "R_2LYjExGcLxU36az",
         "RecipientLastName": "nan",
         "RecipientFirstName": "nan",
         "RecipientEmail": "nan",
         "ExternalReference": "nan",
         "LocationLatitude": "37.431",
         "LocationLongitude": "-77.6554",
         "DistributionChannel": "anonymous",
         "UserLanguage": "EN",
         "Q1": "I consent and agree to participate",
         "QID83": "6595ca2f3e864efa3a8019d8",
         "Q78_First Click": "0",
         "Q78_Last Click": "0",
         "Q78_Page Submit": "176.457",
         "Q78_Click Count": "0",
         "SAM_scale_1": " Unpleasant",
         "SAM_scale_2": "nan",
         "SAM_scale_3": "nan",
         "G1_First Click": "162.072",
         "G1_Last Click": "243",
         "G1_Page Submit": "300.157",
         "G1_Click Count": "13",
         "Q74_First Click": "nan",
         "Q74_Last Click": "nan",
         "Q74_Page Submit": "nan",
         "Q74_Click Count": "nan",
         "Q75_First Click": "nan",
         "Q75_Last Click": "nan",
         "Q75_Page Submit": "nan",
         "Q75_Click Count": "nan",
         "Passcode_static": "nan",
         "Q76_First Click": "nan",
         "Q76_Last Click": "nan",
         "Q76_Page Submit": "nan",
         "Q76_Click Count": "nan",
         "Passcode_improv": "nan",
         "NASA TLX_Mental_1": "12",
         "NASA TLX_Physical_1": "12",
         "NASA TLX_Temporal_1": "18",
         "NASA TLX_Performance_1": "10",
         "NASA TLX_Effort_1": "14",
         "NASA TLX_Frustration_1": "12",
         "PostQues_1": "Definitely yes",
         "PostQues_2": "Definitely yes",
         "PostQues_3": "Probably not",
         "PostQues_4": "Definitely yes",
         "PostQues_5": "Probably yes",
         "PostQues_6": "Definitely yes",
         "PostQues_7": "No",
         "attention_check_1": "Probably not",
         "PostQues_8": "Definitely yes",
         "PostQues_9": "Definitely not",
         "PostQues_10": "No",
         "PostQues_11": "No",
         "PostQues_12": "Probably not",
         "PostQues_13": "Definitely yes",
         "PostQues_14": "No",
         "PostQues_15": "Definitely yes",
         "PostQues_16": "Definitely not",
         "attention_check_2": "Yes",
         "PostQues_17": "Definitely yes",
         "PostQues_18": "Yes",
         "PostQues_19": "No",
         "PostQues_20": "No",
         "PostQues_21": "No",
         "PostQues_22": "Uncertain if yes or no",
         "PostQues_23": "No",
         "PostQues_24": "Probably not",
         "attention_check_3": "Definitely not",
         "PostQues_25": "No",
         "DemModQues_age": "45",
         "DemModQues_education": "Bachelor’s degree",
         "DemModQues_gender": "Female",
         "DemModQues_gender_5_TEXT": "nan",
         "DemModQues_AI": "6",
         "DemModQues_Chatbot": "6",
         "attitude/trust in ai_1": "6",
         "attitude/trust in ai_2": "4",
         "attitude/trust in ai_3": "4",
         "attitude/trust in ai_4": "6",
         "attitude/trust in ai_5": "5",
         "attitude/trust in ai_6": "1 (strongly disagree)",
         "attitude/trust in ai_7": "4",
         "attitude/trust in ai_8": "1 (strongly disagree)",
         "attitude/trust in ai_9": "4",
         "attitude/trust in ai_10": "4",
         "attitude/trust in ai_11": "4",
         "DemModQues_personal": "No",
         "DemModQues_interest": "2",
         "DemModQues_cog_1": "Extremely Characteristic",
         "DemModQues_cog_2": "Somewhat Characteristic",
         "DemModQues_cog_3": "Extremely Uncharacteristic",
         "DemModQues_cog_4": "Somewhat Uncharacteristic",
         "DemModQues_cog_5": "Somewhat Characteristic",
         "DemModQues_cog_6": "Extremely Characteristic",
         "Exp_condition": "none",
         "Qualtrics_code": "nan",
         "_deepnote_index_column": 113
        },
        {
         "StartDate": "2024-04-17 15:22:13",
         "EndDate": "2024-04-17 15:59:20",
         "Status": "IP Address",
         "IPAddress": "64.203.226.175",
         "Progress": "100",
         "Duration (in seconds)": "2226",
         "Finished": "True",
         "RecordedDate": "2024-04-17 15:59:20",
         "ResponseId": "R_7mgx7r8sVpoU2i0",
         "RecipientLastName": "nan",
         "RecipientFirstName": "nan",
         "RecipientEmail": "nan",
         "ExternalReference": "nan",
         "LocationLatitude": "32.2508",
         "LocationLongitude": "-80.8718",
         "DistributionChannel": "anonymous",
         "UserLanguage": "EN",
         "Q1": "I consent and agree to participate",
         "QID83": "5f5834134283933a1c3b42d0",
         "Q78_First Click": "12.006",
         "Q78_Last Click": "22.686",
         "Q78_Page Submit": "162.495",
         "Q78_Click Count": "2",
         "SAM_scale_1": " ",
         "SAM_scale_2": "nan",
         "SAM_scale_3": "nan",
         "G1_First Click": "0",
         "G1_Last Click": "0",
         "G1_Page Submit": "300.148",
         "G1_Click Count": "0",
         "Q74_First Click": "nan",
         "Q74_Last Click": "nan",
         "Q74_Page Submit": "nan",
         "Q74_Click Count": "nan",
         "Q75_First Click": "nan",
         "Q75_Last Click": "nan",
         "Q75_Page Submit": "nan",
         "Q75_Click Count": "nan",
         "Passcode_static": "nan",
         "Q76_First Click": "1405.001",
         "Q76_Last Click": "1405.001",
         "Q76_Page Submit": "1413.037",
         "Q76_Click Count": "1",
         "Passcode_improv": "9560",
         "NASA TLX_Mental_1": "14",
         "NASA TLX_Physical_1": "0",
         "NASA TLX_Temporal_1": "6",
         "NASA TLX_Performance_1": "6",
         "NASA TLX_Effort_1": "18",
         "NASA TLX_Frustration_1": "6",
         "PostQues_1": "Probably yes",
         "PostQues_2": "Yes",
         "PostQues_3": "Uncertain if yes or no",
         "PostQues_4": "Probably yes",
         "PostQues_5": "Yes",
         "PostQues_6": "Yes",
         "PostQues_7": "Probably not",
         "attention_check_1": "Probably not",
         "PostQues_8": "Yes",
         "PostQues_9": "No",
         "PostQues_10": "Yes",
         "PostQues_11": "No",
         "PostQues_12": "Probably not",
         "PostQues_13": "Yes",
         "PostQues_14": "No",
         "PostQues_15": "Probably yes",
         "PostQues_16": "No",
         "attention_check_2": "Yes",
         "PostQues_17": "Definitely yes",
         "PostQues_18": "Definitely yes",
         "PostQues_19": "No",
         "PostQues_20": "No",
         "PostQues_21": "No",
         "PostQues_22": "Uncertain if yes or no",
         "PostQues_23": "No",
         "PostQues_24": "Uncertain if yes or no",
         "attention_check_3": "Definitely not",
         "PostQues_25": "Uncertain if yes or no",
         "DemModQues_age": "38",
         "DemModQues_education": "Bachelor’s degree",
         "DemModQues_gender": "Male",
         "DemModQues_gender_5_TEXT": "nan",
         "DemModQues_AI": "2",
         "DemModQues_Chatbot": "2",
         "attitude/trust in ai_1": "3",
         "attitude/trust in ai_2": "2",
         "attitude/trust in ai_3": "1 (strongly disagree)",
         "attitude/trust in ai_4": "2",
         "attitude/trust in ai_5": "1 (strongly disagree)",
         "attitude/trust in ai_6": "1 (strongly disagree)",
         "attitude/trust in ai_7": "1 (strongly disagree)",
         "attitude/trust in ai_8": "1 (strongly disagree)",
         "attitude/trust in ai_9": "1 (strongly disagree)",
         "attitude/trust in ai_10": "1 (strongly disagree)",
         "attitude/trust in ai_11": "1 (strongly disagree)",
         "DemModQues_personal": "No",
         "DemModQues_interest": "2",
         "DemModQues_cog_1": "Somewhat Characteristic",
         "DemModQues_cog_2": "Somewhat Characteristic",
         "DemModQues_cog_3": "Extremely Uncharacteristic",
         "DemModQues_cog_4": "Somewhat Uncharacteristic",
         "DemModQues_cog_5": "Extremely Characteristic",
         "DemModQues_cog_6": "Somewhat Characteristic",
         "Exp_condition": "chatbot",
         "Qualtrics_code": "332988",
         "_deepnote_index_column": 114
        },
        {
         "StartDate": "2024-04-17 15:40:46",
         "EndDate": "2024-04-17 15:59:20",
         "Status": "IP Address",
         "IPAddress": "23.240.194.150",
         "Progress": "100",
         "Duration (in seconds)": "1114",
         "Finished": "True",
         "RecordedDate": "2024-04-17 15:59:21",
         "ResponseId": "R_1IaY8hyDOaG5vTR",
         "RecipientLastName": "nan",
         "RecipientFirstName": "nan",
         "RecipientEmail": "nan",
         "ExternalReference": "nan",
         "LocationLatitude": "34.1283",
         "LocationLongitude": "-118.0514",
         "DistributionChannel": "anonymous",
         "UserLanguage": "EN",
         "Q1": "I consent and agree to participate",
         "QID83": "5d33ffd948bf98001a46b26c",
         "Q78_First Click": "0",
         "Q78_Last Click": "0",
         "Q78_Page Submit": "158.093",
         "Q78_Click Count": "0",
         "SAM_scale_1": " ",
         "SAM_scale_2": "nan",
         "SAM_scale_3": "nan",
         "G1_First Click": "54.094",
         "G1_Last Click": "157.916",
         "G1_Page Submit": "300.021",
         "G1_Click Count": "2",
         "Q74_First Click": "nan",
         "Q74_Last Click": "nan",
         "Q74_Page Submit": "nan",
         "Q74_Click Count": "nan",
         "Q75_First Click": "nan",
         "Q75_Last Click": "nan",
         "Q75_Page Submit": "nan",
         "Q75_Click Count": "nan",
         "Passcode_static": "nan",
         "Q76_First Click": "458.185",
         "Q76_Last Click": "458.185",
         "Q76_Page Submit": "460.337",
         "Q76_Click Count": "1",
         "Passcode_improv": "9560",
         "NASA TLX_Mental_1": "5",
         "NASA TLX_Physical_1": "2",
         "NASA TLX_Temporal_1": "9",
         "NASA TLX_Performance_1": "12",
         "NASA TLX_Effort_1": "9",
         "NASA TLX_Frustration_1": "3",
         "PostQues_1": "Definitely yes",
         "PostQues_2": "Definitely yes",
         "PostQues_3": "Definitely yes",
         "PostQues_4": "Definitely yes",
         "PostQues_5": "No",
         "PostQues_6": "Definitely yes",
         "PostQues_7": "No",
         "attention_check_1": "Probably not",
         "PostQues_8": "Definitely yes",
         "PostQues_9": "No",
         "PostQues_10": "Uncertain if yes or no",
         "PostQues_11": "Definitely not",
         "PostQues_12": "Uncertain if yes or no",
         "PostQues_13": "Definitely yes",
         "PostQues_14": "Probably yes",
         "PostQues_15": "Definitely yes",
         "PostQues_16": "No",
         "attention_check_2": "Yes",
         "PostQues_17": "Uncertain if yes or no",
         "PostQues_18": "Yes",
         "PostQues_19": "No",
         "PostQues_20": "Uncertain if yes or no",
         "PostQues_21": "Yes",
         "PostQues_22": "Uncertain if yes or no",
         "PostQues_23": "Definitely not",
         "PostQues_24": "Definitely not",
         "attention_check_3": "Definitely not",
         "PostQues_25": "Uncertain if yes or no",
         "DemModQues_age": "22",
         "DemModQues_education": "Associates or technical degree",
         "DemModQues_gender": "Male",
         "DemModQues_gender_5_TEXT": "nan",
         "DemModQues_AI": "5",
         "DemModQues_Chatbot": "4",
         "attitude/trust in ai_1": "4",
         "attitude/trust in ai_2": "4",
         "attitude/trust in ai_3": "5",
         "attitude/trust in ai_4": "5",
         "attitude/trust in ai_5": "4",
         "attitude/trust in ai_6": "2",
         "attitude/trust in ai_7": "3",
         "attitude/trust in ai_8": "4",
         "attitude/trust in ai_9": "4",
         "attitude/trust in ai_10": "4",
         "attitude/trust in ai_11": "5",
         "DemModQues_personal": "No",
         "DemModQues_interest": "4",
         "DemModQues_cog_1": "Somewhat Characteristic",
         "DemModQues_cog_2": "Uncertain",
         "DemModQues_cog_3": "Somewhat Characteristic",
         "DemModQues_cog_4": "Somewhat Uncharacteristic",
         "DemModQues_cog_5": "Uncertain",
         "DemModQues_cog_6": "Somewhat Characteristic",
         "Exp_condition": "chatbot",
         "Qualtrics_code": "935806",
         "_deepnote_index_column": 115
        },
        {
         "StartDate": "2024-04-17 15:39:09",
         "EndDate": "2024-04-17 15:59:31",
         "Status": "IP Address",
         "IPAddress": "69.112.240.212",
         "Progress": "100",
         "Duration (in seconds)": "1222",
         "Finished": "True",
         "RecordedDate": "2024-04-17 15:59:31",
         "ResponseId": "R_75XHr57onpl6lSb",
         "RecipientLastName": "nan",
         "RecipientFirstName": "nan",
         "RecipientEmail": "nan",
         "ExternalReference": "nan",
         "LocationLatitude": "40.7606",
         "LocationLongitude": "-72.9844",
         "DistributionChannel": "anonymous",
         "UserLanguage": "EN",
         "Q1": "I consent and agree to participate",
         "QID83": "6413599d52dc6500b2430165",
         "Q78_First Click": "0",
         "Q78_Last Click": "0",
         "Q78_Page Submit": "167.065",
         "Q78_Click Count": "0",
         "SAM_scale_1": " Unpleasant",
         "SAM_scale_2": "nan",
         "SAM_scale_3": "No Control",
         "G1_First Click": "20.809",
         "G1_Last Click": "144.673",
         "G1_Page Submit": "300.259",
         "G1_Click Count": "2",
         "Q74_First Click": "nan",
         "Q74_Last Click": "nan",
         "Q74_Page Submit": "nan",
         "Q74_Click Count": "nan",
         "Q75_First Click": "nan",
         "Q75_Last Click": "nan",
         "Q75_Page Submit": "nan",
         "Q75_Click Count": "nan",
         "Passcode_static": "nan",
         "Q76_First Click": "475.716",
         "Q76_Last Click": "475.93",
         "Q76_Page Submit": "478.158",
         "Q76_Click Count": "2",
         "Passcode_improv": "9560",
         "NASA TLX_Mental_1": "6",
         "NASA TLX_Physical_1": "0",
         "NASA TLX_Temporal_1": "4",
         "NASA TLX_Performance_1": "6",
         "NASA TLX_Effort_1": "10",
         "NASA TLX_Frustration_1": "5",
         "PostQues_1": "Yes",
         "PostQues_2": "Yes",
         "PostQues_3": "Yes",
         "PostQues_4": "Definitely yes",
         "PostQues_5": "Definitely yes",
         "PostQues_6": "Definitely yes",
         "PostQues_7": "No",
         "attention_check_1": "Probably not",
         "PostQues_8": "Yes",
         "PostQues_9": "Probably not",
         "PostQues_10": "Uncertain if yes or no",
         "PostQues_11": "Probably yes",
         "PostQues_12": "Probably not",
         "PostQues_13": "Probably yes",
         "PostQues_14": "Probably not",
         "PostQues_15": "Yes",
         "PostQues_16": "No",
         "attention_check_2": "Yes",
         "PostQues_17": "Yes",
         "PostQues_18": "Yes",
         "PostQues_19": "Uncertain if yes or no",
         "PostQues_20": "Probably yes",
         "PostQues_21": "No",
         "PostQues_22": "Probably yes",
         "PostQues_23": "Definitely not",
         "PostQues_24": "Yes",
         "attention_check_3": "Definitely not",
         "PostQues_25": "Probably yes",
         "DemModQues_age": "45",
         "DemModQues_education": "Associates or technical degree",
         "DemModQues_gender": "Female",
         "DemModQues_gender_5_TEXT": "nan",
         "DemModQues_AI": "2",
         "DemModQues_Chatbot": "4",
         "attitude/trust in ai_1": "1 (strongly disagree)",
         "attitude/trust in ai_2": "1 (strongly disagree)",
         "attitude/trust in ai_3": "1 (strongly disagree)",
         "attitude/trust in ai_4": "1 (strongly disagree)",
         "attitude/trust in ai_5": "1 (strongly disagree)",
         "attitude/trust in ai_6": "1 (strongly disagree)",
         "attitude/trust in ai_7": "1 (strongly disagree)",
         "attitude/trust in ai_8": "1 (strongly disagree)",
         "attitude/trust in ai_9": "1 (strongly disagree)",
         "attitude/trust in ai_10": "1 (strongly disagree)",
         "attitude/trust in ai_11": "1 (strongly disagree)",
         "DemModQues_personal": "No",
         "DemModQues_interest": "1-Not interested at all",
         "DemModQues_cog_1": "Extremely Uncharacteristic",
         "DemModQues_cog_2": "Extremely Uncharacteristic",
         "DemModQues_cog_3": "Extremely Characteristic",
         "DemModQues_cog_4": "Extremely Characteristic",
         "DemModQues_cog_5": "Extremely Uncharacteristic",
         "DemModQues_cog_6": "Extremely Uncharacteristic",
         "Exp_condition": "chatbot",
         "Qualtrics_code": "503067",
         "_deepnote_index_column": 116
        },
        {
         "StartDate": "2024-04-17 15:30:00",
         "EndDate": "2024-04-17 16:00:07",
         "Status": "IP Address",
         "IPAddress": "47.42.165.110",
         "Progress": "100",
         "Duration (in seconds)": "1806",
         "Finished": "True",
         "RecordedDate": "2024-04-17 16:00:07",
         "ResponseId": "R_5Ddy3HG6BZYLJAJ",
         "RecipientLastName": "nan",
         "RecipientFirstName": "nan",
         "RecipientEmail": "nan",
         "ExternalReference": "nan",
         "LocationLatitude": "43.2246",
         "LocationLongitude": "-123.5053",
         "DistributionChannel": "anonymous",
         "UserLanguage": "EN",
         "Q1": "I consent and agree to participate",
         "QID83": "5907f9e49ae6ed000160dc4b",
         "Q78_First Click": "0",
         "Q78_Last Click": "0",
         "Q78_Page Submit": "163.702",
         "Q78_Click Count": "0",
         "SAM_scale_1": " Unpleasant",
         "SAM_scale_2": "nan",
         "SAM_scale_3": "nan",
         "G1_First Click": "0",
         "G1_Last Click": "0",
         "G1_Page Submit": "300.026",
         "G1_Click Count": "0",
         "Q74_First Click": "nan",
         "Q74_Last Click": "nan",
         "Q74_Page Submit": "nan",
         "Q74_Click Count": "nan",
         "Q75_First Click": "nan",
         "Q75_Last Click": "nan",
         "Q75_Page Submit": "nan",
         "Q75_Click Count": "nan",
         "Passcode_static": "nan",
         "Q76_First Click": "987.605",
         "Q76_Last Click": "987.966",
         "Q76_Page Submit": "993.148",
         "Q76_Click Count": "2",
         "Passcode_improv": "9560",
         "NASA TLX_Mental_1": "16",
         "NASA TLX_Physical_1": "0",
         "NASA TLX_Temporal_1": "0",
         "NASA TLX_Performance_1": "4",
         "NASA TLX_Effort_1": "14",
         "NASA TLX_Frustration_1": "4",
         "PostQues_1": "No",
         "PostQues_2": "Probably yes",
         "PostQues_3": "Uncertain if yes or no",
         "PostQues_4": "Yes",
         "PostQues_5": "Definitely yes",
         "PostQues_6": "Definitely yes",
         "PostQues_7": "No",
         "attention_check_1": "Probably not",
         "PostQues_8": "Definitely yes",
         "PostQues_9": "Definitely not",
         "PostQues_10": "Yes",
         "PostQues_11": "Definitely not",
         "PostQues_12": "Uncertain if yes or no",
         "PostQues_13": "Definitely yes",
         "PostQues_14": "Uncertain if yes or no",
         "PostQues_15": "Definitely yes",
         "PostQues_16": "No",
         "attention_check_2": "Yes",
         "PostQues_17": "Yes",
         "PostQues_18": "Definitely yes",
         "PostQues_19": "Definitely not",
         "PostQues_20": "Definitely yes",
         "PostQues_21": "No",
         "PostQues_22": "Definitely not",
         "PostQues_23": "Definitely not",
         "PostQues_24": "Probably yes",
         "attention_check_3": "Definitely not",
         "PostQues_25": "Uncertain if yes or no",
         "DemModQues_age": "50",
         "DemModQues_education": "Some college, but no degree",
         "DemModQues_gender": "Female",
         "DemModQues_gender_5_TEXT": "nan",
         "DemModQues_AI": "4",
         "DemModQues_Chatbot": "4",
         "attitude/trust in ai_1": "6",
         "attitude/trust in ai_2": "4",
         "attitude/trust in ai_3": "4",
         "attitude/trust in ai_4": "5",
         "attitude/trust in ai_5": "4",
         "attitude/trust in ai_6": "1 (strongly disagree)",
         "attitude/trust in ai_7": "4",
         "attitude/trust in ai_8": "1 (strongly disagree)",
         "attitude/trust in ai_9": "1 (strongly disagree)",
         "attitude/trust in ai_10": "5",
         "attitude/trust in ai_11": "5",
         "DemModQues_personal": "No",
         "DemModQues_interest": "4",
         "DemModQues_cog_1": "Extremely Uncharacteristic",
         "DemModQues_cog_2": "Extremely Uncharacteristic",
         "DemModQues_cog_3": "Somewhat Uncharacteristic",
         "DemModQues_cog_4": "Somewhat Characteristic",
         "DemModQues_cog_5": "Somewhat Uncharacteristic",
         "DemModQues_cog_6": "Extremely Uncharacteristic",
         "Exp_condition": "chatbot",
         "Qualtrics_code": "536502",
         "_deepnote_index_column": 117
        },
        {
         "StartDate": "2024-04-17 15:40:26",
         "EndDate": "2024-04-17 16:00:09",
         "Status": "IP Address",
         "IPAddress": "97.145.33.162",
         "Progress": "100",
         "Duration (in seconds)": "1182",
         "Finished": "True",
         "RecordedDate": "2024-04-17 16:00:09",
         "ResponseId": "R_5mkO7VhRuyGa8qi",
         "RecipientLastName": "nan",
         "RecipientFirstName": "nan",
         "RecipientEmail": "nan",
         "ExternalReference": "nan",
         "LocationLatitude": "40.6657",
         "LocationLongitude": "-75.3364",
         "DistributionChannel": "anonymous",
         "UserLanguage": "EN",
         "Q1": "I consent and agree to participate",
         "QID83": "5d94d2ab9ac1cb001775fac2",
         "Q78_First Click": "0",
         "Q78_Last Click": "0",
         "Q78_Page Submit": "158.1",
         "Q78_Click Count": "0",
         "SAM_scale_1": " Neutral",
         "SAM_scale_2": "nan",
         "SAM_scale_3": "nan",
         "G1_First Click": "0",
         "G1_Last Click": "0",
         "G1_Page Submit": "300.078",
         "G1_Click Count": "0",
         "Q74_First Click": "nan",
         "Q74_Last Click": "nan",
         "Q74_Page Submit": "nan",
         "Q74_Click Count": "nan",
         "Q75_First Click": "484.401",
         "Q75_Last Click": "484.401",
         "Q75_Page Submit": "489.54",
         "Q75_Click Count": "1",
         "Passcode_static": "9560",
         "Q76_First Click": "nan",
         "Q76_Last Click": "nan",
         "Q76_Page Submit": "nan",
         "Q76_Click Count": "nan",
         "Passcode_improv": "nan",
         "NASA TLX_Mental_1": "5",
         "NASA TLX_Physical_1": "0",
         "NASA TLX_Temporal_1": "3",
         "NASA TLX_Performance_1": "10",
         "NASA TLX_Effort_1": "6",
         "NASA TLX_Frustration_1": "2",
         "PostQues_1": "Probably yes",
         "PostQues_2": "Uncertain if yes or no",
         "PostQues_3": "Definitely not",
         "PostQues_4": "Yes",
         "PostQues_5": "Uncertain if yes or no",
         "PostQues_6": "Yes",
         "PostQues_7": "Probably not",
         "attention_check_1": "Probably not",
         "PostQues_8": "Definitely yes",
         "PostQues_9": "No",
         "PostQues_10": "No",
         "PostQues_11": "No",
         "PostQues_12": "Probably not",
         "PostQues_13": "Definitely yes",
         "PostQues_14": "Definitely not",
         "PostQues_15": "Yes",
         "PostQues_16": "No",
         "attention_check_2": "Yes",
         "PostQues_17": "Uncertain if yes or no",
         "PostQues_18": "Probably yes",
         "PostQues_19": "Definitely not",
         "PostQues_20": "No",
         "PostQues_21": "No",
         "PostQues_22": "Probably yes",
         "PostQues_23": "No",
         "PostQues_24": "Uncertain if yes or no",
         "attention_check_3": "Definitely not",
         "PostQues_25": "No",
         "DemModQues_age": "28",
         "DemModQues_education": "Some college, but no degree",
         "DemModQues_gender": "Female",
         "DemModQues_gender_5_TEXT": "nan",
         "DemModQues_AI": "5",
         "DemModQues_Chatbot": "5",
         "attitude/trust in ai_1": "4",
         "attitude/trust in ai_2": "4",
         "attitude/trust in ai_3": "1 (strongly disagree)",
         "attitude/trust in ai_4": "2",
         "attitude/trust in ai_5": "1 (strongly disagree)",
         "attitude/trust in ai_6": "1 (strongly disagree)",
         "attitude/trust in ai_7": "1 (strongly disagree)",
         "attitude/trust in ai_8": "1 (strongly disagree)",
         "attitude/trust in ai_9": "1 (strongly disagree)",
         "attitude/trust in ai_10": "1 (strongly disagree)",
         "attitude/trust in ai_11": "1 (strongly disagree)",
         "DemModQues_personal": "No",
         "DemModQues_interest": "5",
         "DemModQues_cog_1": "Somewhat Characteristic",
         "DemModQues_cog_2": "Somewhat Characteristic",
         "DemModQues_cog_3": "Somewhat Uncharacteristic",
         "DemModQues_cog_4": "Somewhat Uncharacteristic",
         "DemModQues_cog_5": "Somewhat Characteristic",
         "DemModQues_cog_6": "Somewhat Characteristic",
         "Exp_condition": "static-chatbot",
         "Qualtrics_code": "678698",
         "_deepnote_index_column": 118
        },
        {
         "StartDate": "2024-04-17 15:40:55",
         "EndDate": "2024-04-17 16:00:12",
         "Status": "IP Address",
         "IPAddress": "69.143.96.195",
         "Progress": "100",
         "Duration (in seconds)": "1156",
         "Finished": "True",
         "RecordedDate": "2024-04-17 16:00:12",
         "ResponseId": "R_18P0J13gjnDxOZb",
         "RecipientLastName": "nan",
         "RecipientFirstName": "nan",
         "RecipientEmail": "nan",
         "ExternalReference": "nan",
         "LocationLatitude": "39.6249",
         "LocationLongitude": "-75.8351",
         "DistributionChannel": "anonymous",
         "UserLanguage": "EN",
         "Q1": "I consent and agree to participate",
         "QID83": "653d3b418bce22526d2639b4",
         "Q78_First Click": "0",
         "Q78_Last Click": "0",
         "Q78_Page Submit": "157.932",
         "Q78_Click Count": "0",
         "SAM_scale_1": " ",
         "SAM_scale_2": "nan",
         "SAM_scale_3": "nan",
         "G1_First Click": "155.858",
         "G1_Last Click": "155.858",
         "G1_Page Submit": "300.125",
         "G1_Click Count": "1",
         "Q74_First Click": "119.362",
         "Q74_Last Click": "303.824",
         "Q74_Page Submit": "306.005",
         "Q74_Click Count": "2",
         "Q75_First Click": "nan",
         "Q75_Last Click": "nan",
         "Q75_Page Submit": "nan",
         "Q75_Click Count": "nan",
         "Passcode_static": "nan",
         "Q76_First Click": "nan",
         "Q76_Last Click": "nan",
         "Q76_Page Submit": "nan",
         "Q76_Click Count": "nan",
         "Passcode_improv": "nan",
         "NASA TLX_Mental_1": "4",
         "NASA TLX_Physical_1": "0",
         "NASA TLX_Temporal_1": "3",
         "NASA TLX_Performance_1": "13",
         "NASA TLX_Effort_1": "13",
         "NASA TLX_Frustration_1": "2",
         "PostQues_1": "Definitely yes",
         "PostQues_2": "Uncertain if yes or no",
         "PostQues_3": "Definitely yes",
         "PostQues_4": "Definitely yes",
         "PostQues_5": "Definitely yes",
         "PostQues_6": "Definitely yes",
         "PostQues_7": "Probably not",
         "attention_check_1": "Probably not",
         "PostQues_8": "Definitely yes",
         "PostQues_9": "Uncertain if yes or no",
         "PostQues_10": "Yes",
         "PostQues_11": "No",
         "PostQues_12": "Yes",
         "PostQues_13": "Yes",
         "PostQues_14": "No",
         "PostQues_15": "Definitely yes",
         "PostQues_16": "No",
         "attention_check_2": "Yes",
         "PostQues_17": "Definitely yes",
         "PostQues_18": "Definitely yes",
         "PostQues_19": "No",
         "PostQues_20": "Uncertain if yes or no",
         "PostQues_21": "Uncertain if yes or no",
         "PostQues_22": "No",
         "PostQues_23": "No",
         "PostQues_24": "Uncertain if yes or no",
         "attention_check_3": "Definitely not",
         "PostQues_25": "No",
         "DemModQues_age": "32",
         "DemModQues_education": "Some college, but no degree",
         "DemModQues_gender": "Male",
         "DemModQues_gender_5_TEXT": "nan",
         "DemModQues_AI": "3",
         "DemModQues_Chatbot": "4",
         "attitude/trust in ai_1": "7 (strongly agree)",
         "attitude/trust in ai_2": "4",
         "attitude/trust in ai_3": "3",
         "attitude/trust in ai_4": "6",
         "attitude/trust in ai_5": "7 (strongly agree)",
         "attitude/trust in ai_6": "5",
         "attitude/trust in ai_7": "4",
         "attitude/trust in ai_8": "2",
         "attitude/trust in ai_9": "4",
         "attitude/trust in ai_10": "5",
         "attitude/trust in ai_11": "2",
         "DemModQues_personal": "No",
         "DemModQues_interest": "6",
         "DemModQues_cog_1": "Somewhat Characteristic",
         "DemModQues_cog_2": "Somewhat Characteristic",
         "DemModQues_cog_3": "Somewhat Uncharacteristic",
         "DemModQues_cog_4": "Somewhat Uncharacteristic",
         "DemModQues_cog_5": "Somewhat Characteristic",
         "DemModQues_cog_6": "Somewhat Characteristic",
         "Exp_condition": "survey-based",
         "Qualtrics_code": "nan",
         "_deepnote_index_column": 119
        },
        {
         "StartDate": "2024-04-17 15:41:44",
         "EndDate": "2024-04-17 16:00:14",
         "Status": "IP Address",
         "IPAddress": "67.2.32.135",
         "Progress": "100",
         "Duration (in seconds)": "1109",
         "Finished": "True",
         "RecordedDate": "2024-04-17 16:00:15",
         "ResponseId": "R_2AKXiZ6PbHCjEMG",
         "RecipientLastName": "nan",
         "RecipientFirstName": "nan",
         "RecipientEmail": "nan",
         "ExternalReference": "nan",
         "LocationLatitude": "40.6979",
         "LocationLongitude": "-112.0865",
         "DistributionChannel": "anonymous",
         "UserLanguage": "EN",
         "Q1": "I consent and agree to participate",
         "QID83": "651ed17c366df83eeabae9dd",
         "Q78_First Click": "0",
         "Q78_Last Click": "0",
         "Q78_Page Submit": "163.676",
         "Q78_Click Count": "0",
         "SAM_scale_1": " Unpleasant",
         "SAM_scale_2": "Excited",
         "SAM_scale_3": "nan",
         "G1_First Click": "0",
         "G1_Last Click": "0",
         "G1_Page Submit": "300.185",
         "G1_Click Count": "0",
         "Q74_First Click": "nan",
         "Q74_Last Click": "nan",
         "Q74_Page Submit": "nan",
         "Q74_Click Count": "nan",
         "Q75_First Click": "207.299",
         "Q75_Last Click": "213.19",
         "Q75_Page Submit": "305.602",
         "Q75_Click Count": "3",
         "Passcode_static": "9560",
         "Q76_First Click": "nan",
         "Q76_Last Click": "nan",
         "Q76_Page Submit": "nan",
         "Q76_Click Count": "nan",
         "Passcode_improv": "nan",
         "NASA TLX_Mental_1": "10",
         "NASA TLX_Physical_1": "2",
         "NASA TLX_Temporal_1": "9",
         "NASA TLX_Performance_1": "12",
         "NASA TLX_Effort_1": "11",
         "NASA TLX_Frustration_1": "4",
         "PostQues_1": "Yes",
         "PostQues_2": "Definitely yes",
         "PostQues_3": "Definitely not",
         "PostQues_4": "Probably not",
         "PostQues_5": "No",
         "PostQues_6": "Definitely yes",
         "PostQues_7": "Yes",
         "attention_check_1": "Probably not",
         "PostQues_8": "Probably yes",
         "PostQues_9": "Probably not",
         "PostQues_10": "Yes",
         "PostQues_11": "No",
         "PostQues_12": "Uncertain if yes or no",
         "PostQues_13": "Yes",
         "PostQues_14": "No",
         "PostQues_15": "Uncertain if yes or no",
         "PostQues_16": "No",
         "attention_check_2": "Yes",
         "PostQues_17": "Yes",
         "PostQues_18": "Yes",
         "PostQues_19": "No",
         "PostQues_20": "Yes",
         "PostQues_21": "Uncertain if yes or no",
         "PostQues_22": "Uncertain if yes or no",
         "PostQues_23": "No",
         "PostQues_24": "No",
         "attention_check_3": "Definitely not",
         "PostQues_25": "Uncertain if yes or no",
         "DemModQues_age": "55",
         "DemModQues_education": "Bachelor’s degree",
         "DemModQues_gender": "Female",
         "DemModQues_gender_5_TEXT": "nan",
         "DemModQues_AI": "5",
         "DemModQues_Chatbot": "5",
         "attitude/trust in ai_1": "5",
         "attitude/trust in ai_2": "4",
         "attitude/trust in ai_3": "3",
         "attitude/trust in ai_4": "3",
         "attitude/trust in ai_5": "3",
         "attitude/trust in ai_6": "3",
         "attitude/trust in ai_7": "3",
         "attitude/trust in ai_8": "2",
         "attitude/trust in ai_9": "2",
         "attitude/trust in ai_10": "2",
         "attitude/trust in ai_11": "2",
         "DemModQues_personal": "No",
         "DemModQues_interest": "5",
         "DemModQues_cog_1": "Somewhat Characteristic",
         "DemModQues_cog_2": "Somewhat Characteristic",
         "DemModQues_cog_3": "Somewhat Uncharacteristic",
         "DemModQues_cog_4": "Somewhat Characteristic",
         "DemModQues_cog_5": "Somewhat Characteristic",
         "DemModQues_cog_6": "Somewhat Characteristic",
         "Exp_condition": "static-chatbot",
         "Qualtrics_code": "586655",
         "_deepnote_index_column": 120
        },
        {
         "StartDate": "2024-04-17 15:44:34",
         "EndDate": "2024-04-17 16:00:44",
         "Status": "IP Address",
         "IPAddress": "76.82.119.106",
         "Progress": "100",
         "Duration (in seconds)": "970",
         "Finished": "True",
         "RecordedDate": "2024-04-17 16:00:44",
         "ResponseId": "R_71oTfGgbuAIWjYV",
         "RecipientLastName": "nan",
         "RecipientFirstName": "nan",
         "RecipientEmail": "nan",
         "ExternalReference": "nan",
         "LocationLatitude": "34.113",
         "LocationLongitude": "-118.1888",
         "DistributionChannel": "anonymous",
         "UserLanguage": "EN",
         "Q1": "I consent and agree to participate",
         "QID83": "61046b6d3d25b3020c55998b",
         "Q78_First Click": "0",
         "Q78_Last Click": "0",
         "Q78_Page Submit": "155.671",
         "Q78_Click Count": "0",
         "SAM_scale_1": " Unpleasant",
         "SAM_scale_2": "nan",
         "SAM_scale_3": "nan",
         "G1_First Click": "0",
         "G1_Last Click": "0",
         "G1_Page Submit": "300.232",
         "G1_Click Count": "0",
         "Q74_First Click": "nan",
         "Q74_Last Click": "nan",
         "Q74_Page Submit": "nan",
         "Q74_Click Count": "nan",
         "Q75_First Click": "147.56",
         "Q75_Last Click": "149.154",
         "Q75_Page Submit": "303.16",
         "Q75_Click Count": "2",
         "Passcode_static": "9560",
         "Q76_First Click": "nan",
         "Q76_Last Click": "nan",
         "Q76_Page Submit": "nan",
         "Q76_Click Count": "nan",
         "Passcode_improv": "nan",
         "NASA TLX_Mental_1": "4",
         "NASA TLX_Physical_1": "0",
         "NASA TLX_Temporal_1": "0",
         "NASA TLX_Performance_1": "11",
         "NASA TLX_Effort_1": "6",
         "NASA TLX_Frustration_1": "0",
         "PostQues_1": "Probably yes",
         "PostQues_2": "Yes",
         "PostQues_3": "No",
         "PostQues_4": "Yes",
         "PostQues_5": "Uncertain if yes or no",
         "PostQues_6": "Yes",
         "PostQues_7": "Uncertain if yes or no",
         "attention_check_1": "Probably not",
         "PostQues_8": "Probably yes",
         "PostQues_9": "Uncertain if yes or no",
         "PostQues_10": "Probably not",
         "PostQues_11": "Probably not",
         "PostQues_12": "Uncertain if yes or no",
         "PostQues_13": "Definitely yes",
         "PostQues_14": "Uncertain if yes or no",
         "PostQues_15": "Definitely yes",
         "PostQues_16": "No",
         "attention_check_2": "Yes",
         "PostQues_17": "Uncertain if yes or no",
         "PostQues_18": "Definitely yes",
         "PostQues_19": "Uncertain if yes or no",
         "PostQues_20": "Uncertain if yes or no",
         "PostQues_21": "Uncertain if yes or no",
         "PostQues_22": "Uncertain if yes or no",
         "PostQues_23": "Definitely not",
         "PostQues_24": "Uncertain if yes or no",
         "attention_check_3": "Definitely not",
         "PostQues_25": "Uncertain if yes or no",
         "DemModQues_age": "34",
         "DemModQues_education": "Bachelor’s degree",
         "DemModQues_gender": "Female",
         "DemModQues_gender_5_TEXT": "nan",
         "DemModQues_AI": "1-Not familiar at all",
         "DemModQues_Chatbot": "4",
         "attitude/trust in ai_1": "5",
         "attitude/trust in ai_2": "5",
         "attitude/trust in ai_3": "5",
         "attitude/trust in ai_4": "5",
         "attitude/trust in ai_5": "5",
         "attitude/trust in ai_6": "1 (strongly disagree)",
         "attitude/trust in ai_7": "4",
         "attitude/trust in ai_8": "1 (strongly disagree)",
         "attitude/trust in ai_9": "3",
         "attitude/trust in ai_10": "3",
         "attitude/trust in ai_11": "2",
         "DemModQues_personal": "No",
         "DemModQues_interest": "1-Not interested at all",
         "DemModQues_cog_1": "Extremely Characteristic",
         "DemModQues_cog_2": "Extremely Characteristic",
         "DemModQues_cog_3": "Extremely Uncharacteristic",
         "DemModQues_cog_4": "Somewhat Uncharacteristic",
         "DemModQues_cog_5": "Extremely Characteristic",
         "DemModQues_cog_6": "Extremely Characteristic",
         "Exp_condition": "static-chatbot",
         "Qualtrics_code": "363030",
         "_deepnote_index_column": 121
        }
       ]
      },
      "text/plain": "               StartDate              EndDate          Status  \\\n2    2024-02-29 16:25:05  2024-02-29 16:25:10  Survey Preview   \n3    2024-03-04 07:58:42  2024-03-04 13:14:50      IP Address   \n4    2024-03-13 12:42:55  2024-03-13 12:56:42      IP Address   \n5    2024-03-14 08:47:52  2024-03-14 09:15:06      IP Address   \n6    2024-03-14 11:19:10  2024-03-14 11:34:29      IP Address   \n..                   ...                  ...             ...   \n275  2024-04-21 15:50:02  2024-04-21 16:39:42      IP Address   \n276  2024-04-21 15:59:44  2024-04-21 16:45:58      IP Address   \n277  2024-04-21 15:44:20  2024-04-21 18:56:55      IP Address   \n278  2024-04-22 16:50:35  2024-04-22 16:58:53      IP Address   \n279  2024-04-21 15:32:10  2024-04-25 20:06:15      IP Address   \n\n           IPAddress Progress Duration (in seconds) Finished  \\\n2                NaN      100                     4     True   \n3       18.27.119.25       82                 18967    False   \n4      18.29.193.220      100                   827     True   \n5      84.247.59.150      100                  1634     True   \n6      18.29.221.229      100                   918     True   \n..               ...      ...                   ...      ...   \n275     99.89.95.138       23                  2979    False   \n276   47.232.113.197       22                  2774    False   \n277  108.237.118.149       23                 11555    False   \n278     71.229.4.222       23                   498    False   \n279  208.104.102.197       23                362045    False   \n\n            RecordedDate         ResponseId RecipientLastName  ...  \\\n2    2024-02-29 16:25:10  R_6redk2qxDSNl1PX               NaN  ...   \n3    2024-03-11 14:14:51  R_7Qus8pbzdiz2Ijw               NaN  ...   \n4    2024-03-13 12:56:43  R_3PYNLQvzsJ2eCKx               NaN  ...   \n5    2024-03-14 09:15:07  R_30hrKPLDOo9JN6x               NaN  ...   \n6    2024-03-14 11:34:30  R_5RWJOf3VmaBk1kx               NaN  ...   \n..                   ...                ...               ...  ...   \n275  2024-04-28 16:39:44  R_3RwvhTzdJuNRkRc               NaN  ...   \n276  2024-04-28 16:45:59  R_39pisOEgzS3hd8x               NaN  ...   \n277  2024-04-28 18:56:57  R_33kVUMvlUxuVdr1               NaN  ...   \n278  2024-04-29 16:58:54  R_1CsqcDX9MvH934Q               NaN  ...   \n279  2024-05-02 20:06:20  R_7ascCCEcRh2OuKR               NaN  ...   \n\n    DemModQues_personal DemModQues_interest           DemModQues_cog_1  \\\n2                   NaN                 NaN                        NaN   \n3                   NaN                 NaN                        NaN   \n4                    No                   5    Somewhat Characteristic   \n5                    No                   5  Somewhat Uncharacteristic   \n6                    No                   3    Somewhat Characteristic   \n..                  ...                 ...                        ...   \n275                 NaN                 NaN                        NaN   \n276                 NaN                 NaN                        NaN   \n277                 NaN                 NaN                        NaN   \n278                 NaN                 NaN                        NaN   \n279                 NaN                 NaN                        NaN   \n\n            DemModQues_cog_2            DemModQues_cog_3  \\\n2                        NaN                         NaN   \n3                        NaN                         NaN   \n4    Somewhat Characteristic  Extremely Uncharacteristic   \n5    Somewhat Characteristic  Extremely Uncharacteristic   \n6    Somewhat Characteristic   Somewhat Uncharacteristic   \n..                       ...                         ...   \n275                      NaN                         NaN   \n276                      NaN                         NaN   \n277                      NaN                         NaN   \n278                      NaN                         NaN   \n279                      NaN                         NaN   \n\n               DemModQues_cog_4          DemModQues_cog_5  \\\n2                           NaN                       NaN   \n3                           NaN                       NaN   \n4     Somewhat Uncharacteristic  Extremely Characteristic   \n5     Somewhat Uncharacteristic  Extremely Characteristic   \n6    Extremely Uncharacteristic   Somewhat Characteristic   \n..                          ...                       ...   \n275                         NaN                       NaN   \n276                         NaN                       NaN   \n277                         NaN                       NaN   \n278                         NaN                       NaN   \n279                         NaN                       NaN   \n\n             DemModQues_cog_6   Exp_condition Qualtrics_code  \n2                         NaN             NaN            NaN  \n3                         NaN    survey-based            NaN  \n4     Somewhat Characteristic            none            NaN  \n5    Extremely Characteristic  static-chatbot         905897  \n6    Extremely Characteristic            none            NaN  \n..                        ...             ...            ...  \n275                       NaN             NaN            NaN  \n276                       NaN             NaN         634998  \n277                       NaN             NaN            NaN  \n278                       NaN             NaN            NaN  \n279                       NaN             NaN            NaN  \n\n[278 rows x 105 columns]",
      "text/html": "<div>\n<style scoped>\n    .dataframe tbody tr th:only-of-type {\n        vertical-align: middle;\n    }\n\n    .dataframe tbody tr th {\n        vertical-align: top;\n    }\n\n    .dataframe thead th {\n        text-align: right;\n    }\n</style>\n<table border=\"1\" class=\"dataframe\">\n  <thead>\n    <tr style=\"text-align: right;\">\n      <th></th>\n      <th>StartDate</th>\n      <th>EndDate</th>\n      <th>Status</th>\n      <th>IPAddress</th>\n      <th>Progress</th>\n      <th>Duration (in seconds)</th>\n      <th>Finished</th>\n      <th>RecordedDate</th>\n      <th>ResponseId</th>\n      <th>RecipientLastName</th>\n      <th>...</th>\n      <th>DemModQues_personal</th>\n      <th>DemModQues_interest</th>\n      <th>DemModQues_cog_1</th>\n      <th>DemModQues_cog_2</th>\n      <th>DemModQues_cog_3</th>\n      <th>DemModQues_cog_4</th>\n      <th>DemModQues_cog_5</th>\n      <th>DemModQues_cog_6</th>\n      <th>Exp_condition</th>\n      <th>Qualtrics_code</th>\n    </tr>\n  </thead>\n  <tbody>\n    <tr>\n      <th>2</th>\n      <td>2024-02-29 16:25:05</td>\n      <td>2024-02-29 16:25:10</td>\n      <td>Survey Preview</td>\n      <td>NaN</td>\n      <td>100</td>\n      <td>4</td>\n      <td>True</td>\n      <td>2024-02-29 16:25:10</td>\n      <td>R_6redk2qxDSNl1PX</td>\n      <td>NaN</td>\n      <td>...</td>\n      <td>NaN</td>\n      <td>NaN</td>\n      <td>NaN</td>\n      <td>NaN</td>\n      <td>NaN</td>\n      <td>NaN</td>\n      <td>NaN</td>\n      <td>NaN</td>\n      <td>NaN</td>\n      <td>NaN</td>\n    </tr>\n    <tr>\n      <th>3</th>\n      <td>2024-03-04 07:58:42</td>\n      <td>2024-03-04 13:14:50</td>\n      <td>IP Address</td>\n      <td>18.27.119.25</td>\n      <td>82</td>\n      <td>18967</td>\n      <td>False</td>\n      <td>2024-03-11 14:14:51</td>\n      <td>R_7Qus8pbzdiz2Ijw</td>\n      <td>NaN</td>\n      <td>...</td>\n      <td>NaN</td>\n      <td>NaN</td>\n      <td>NaN</td>\n      <td>NaN</td>\n      <td>NaN</td>\n      <td>NaN</td>\n      <td>NaN</td>\n      <td>NaN</td>\n      <td>survey-based</td>\n      <td>NaN</td>\n    </tr>\n    <tr>\n      <th>4</th>\n      <td>2024-03-13 12:42:55</td>\n      <td>2024-03-13 12:56:42</td>\n      <td>IP Address</td>\n      <td>18.29.193.220</td>\n      <td>100</td>\n      <td>827</td>\n      <td>True</td>\n      <td>2024-03-13 12:56:43</td>\n      <td>R_3PYNLQvzsJ2eCKx</td>\n      <td>NaN</td>\n      <td>...</td>\n      <td>No</td>\n      <td>5</td>\n      <td>Somewhat Characteristic</td>\n      <td>Somewhat Characteristic</td>\n      <td>Extremely Uncharacteristic</td>\n      <td>Somewhat Uncharacteristic</td>\n      <td>Extremely Characteristic</td>\n      <td>Somewhat Characteristic</td>\n      <td>none</td>\n      <td>NaN</td>\n    </tr>\n    <tr>\n      <th>5</th>\n      <td>2024-03-14 08:47:52</td>\n      <td>2024-03-14 09:15:06</td>\n      <td>IP Address</td>\n      <td>84.247.59.150</td>\n      <td>100</td>\n      <td>1634</td>\n      <td>True</td>\n      <td>2024-03-14 09:15:07</td>\n      <td>R_30hrKPLDOo9JN6x</td>\n      <td>NaN</td>\n      <td>...</td>\n      <td>No</td>\n      <td>5</td>\n      <td>Somewhat Uncharacteristic</td>\n      <td>Somewhat Characteristic</td>\n      <td>Extremely Uncharacteristic</td>\n      <td>Somewhat Uncharacteristic</td>\n      <td>Extremely Characteristic</td>\n      <td>Extremely Characteristic</td>\n      <td>static-chatbot</td>\n      <td>905897</td>\n    </tr>\n    <tr>\n      <th>6</th>\n      <td>2024-03-14 11:19:10</td>\n      <td>2024-03-14 11:34:29</td>\n      <td>IP Address</td>\n      <td>18.29.221.229</td>\n      <td>100</td>\n      <td>918</td>\n      <td>True</td>\n      <td>2024-03-14 11:34:30</td>\n      <td>R_5RWJOf3VmaBk1kx</td>\n      <td>NaN</td>\n      <td>...</td>\n      <td>No</td>\n      <td>3</td>\n      <td>Somewhat Characteristic</td>\n      <td>Somewhat Characteristic</td>\n      <td>Somewhat Uncharacteristic</td>\n      <td>Extremely Uncharacteristic</td>\n      <td>Somewhat Characteristic</td>\n      <td>Extremely Characteristic</td>\n      <td>none</td>\n      <td>NaN</td>\n    </tr>\n    <tr>\n      <th>...</th>\n      <td>...</td>\n      <td>...</td>\n      <td>...</td>\n      <td>...</td>\n      <td>...</td>\n      <td>...</td>\n      <td>...</td>\n      <td>...</td>\n      <td>...</td>\n      <td>...</td>\n      <td>...</td>\n      <td>...</td>\n      <td>...</td>\n      <td>...</td>\n      <td>...</td>\n      <td>...</td>\n      <td>...</td>\n      <td>...</td>\n      <td>...</td>\n      <td>...</td>\n      <td>...</td>\n    </tr>\n    <tr>\n      <th>275</th>\n      <td>2024-04-21 15:50:02</td>\n      <td>2024-04-21 16:39:42</td>\n      <td>IP Address</td>\n      <td>99.89.95.138</td>\n      <td>23</td>\n      <td>2979</td>\n      <td>False</td>\n      <td>2024-04-28 16:39:44</td>\n      <td>R_3RwvhTzdJuNRkRc</td>\n      <td>NaN</td>\n      <td>...</td>\n      <td>NaN</td>\n      <td>NaN</td>\n      <td>NaN</td>\n      <td>NaN</td>\n      <td>NaN</td>\n      <td>NaN</td>\n      <td>NaN</td>\n      <td>NaN</td>\n      <td>NaN</td>\n      <td>NaN</td>\n    </tr>\n    <tr>\n      <th>276</th>\n      <td>2024-04-21 15:59:44</td>\n      <td>2024-04-21 16:45:58</td>\n      <td>IP Address</td>\n      <td>47.232.113.197</td>\n      <td>22</td>\n      <td>2774</td>\n      <td>False</td>\n      <td>2024-04-28 16:45:59</td>\n      <td>R_39pisOEgzS3hd8x</td>\n      <td>NaN</td>\n      <td>...</td>\n      <td>NaN</td>\n      <td>NaN</td>\n      <td>NaN</td>\n      <td>NaN</td>\n      <td>NaN</td>\n      <td>NaN</td>\n      <td>NaN</td>\n      <td>NaN</td>\n      <td>NaN</td>\n      <td>634998</td>\n    </tr>\n    <tr>\n      <th>277</th>\n      <td>2024-04-21 15:44:20</td>\n      <td>2024-04-21 18:56:55</td>\n      <td>IP Address</td>\n      <td>108.237.118.149</td>\n      <td>23</td>\n      <td>11555</td>\n      <td>False</td>\n      <td>2024-04-28 18:56:57</td>\n      <td>R_33kVUMvlUxuVdr1</td>\n      <td>NaN</td>\n      <td>...</td>\n      <td>NaN</td>\n      <td>NaN</td>\n      <td>NaN</td>\n      <td>NaN</td>\n      <td>NaN</td>\n      <td>NaN</td>\n      <td>NaN</td>\n      <td>NaN</td>\n      <td>NaN</td>\n      <td>NaN</td>\n    </tr>\n    <tr>\n      <th>278</th>\n      <td>2024-04-22 16:50:35</td>\n      <td>2024-04-22 16:58:53</td>\n      <td>IP Address</td>\n      <td>71.229.4.222</td>\n      <td>23</td>\n      <td>498</td>\n      <td>False</td>\n      <td>2024-04-29 16:58:54</td>\n      <td>R_1CsqcDX9MvH934Q</td>\n      <td>NaN</td>\n      <td>...</td>\n      <td>NaN</td>\n      <td>NaN</td>\n      <td>NaN</td>\n      <td>NaN</td>\n      <td>NaN</td>\n      <td>NaN</td>\n      <td>NaN</td>\n      <td>NaN</td>\n      <td>NaN</td>\n      <td>NaN</td>\n    </tr>\n    <tr>\n      <th>279</th>\n      <td>2024-04-21 15:32:10</td>\n      <td>2024-04-25 20:06:15</td>\n      <td>IP Address</td>\n      <td>208.104.102.197</td>\n      <td>23</td>\n      <td>362045</td>\n      <td>False</td>\n      <td>2024-05-02 20:06:20</td>\n      <td>R_7ascCCEcRh2OuKR</td>\n      <td>NaN</td>\n      <td>...</td>\n      <td>NaN</td>\n      <td>NaN</td>\n      <td>NaN</td>\n      <td>NaN</td>\n      <td>NaN</td>\n      <td>NaN</td>\n      <td>NaN</td>\n      <td>NaN</td>\n      <td>NaN</td>\n      <td>NaN</td>\n    </tr>\n  </tbody>\n</table>\n<p>278 rows × 105 columns</p>\n</div>"
     },
     "metadata": {}
    }
   ],
   "outputs_reference": "s3:deepnote-cell-outputs-production/651439c6-25dc-4229-b036-6c8d3024ed3c",
   "content_dependencies": null
  },
  {
   "cell_type": "code",
   "metadata": {
    "source_hash": null,
    "execution_start": 1717729804628,
    "execution_millis": 435,
    "deepnote_to_be_reexecuted": false,
    "cell_id": "60dd8a934e2d490089fddd78ae8d7927",
    "deepnote_cell_type": "code"
   },
   "source": "# Convert 'StartDate' to datetime using .loc to avoid SettingWithCopyWarning\ndf.loc[:, 'StartDate'] = pd.to_datetime(df['StartDate'])",
   "block_group": "3c28d4842e4e49c8a474034d4eb0772d",
   "execution_count": null,
   "outputs": [],
   "outputs_reference": null,
   "content_dependencies": null
  },
  {
   "cell_type": "code",
   "metadata": {
    "source_hash": null,
    "execution_start": 1717729804829,
    "execution_millis": 469,
    "deepnote_to_be_reexecuted": false,
    "cell_id": "fa36d757de7f492d924f22d34d1fa570",
    "deepnote_cell_type": "code"
   },
   "source": "# Convert 'StartDate' to datetime using .loc to avoid SettingWithCopyWarning\ndf.loc[:, 'StartDate'] = pd.to_datetime(df['StartDate'])\n\n# Example filter: All entries after March 1, 2024\nfilter_date = pd.Timestamp('15-04-2024')\n\n# Assuming 'ResponseId' might be used as a placeholder for an ID filter\n# This is just a demonstration since we don't have specifics about the prolific ID.\n# filtered_df = df[(df['StartDate'] >= filter_date) & (df['Status'] != 'Survey Preview') & ((df['attention_check_1'] != 'Probably not') or (df['attention_check_2'] != 'Yes') or (df['attention_check_3'] != 'Definitely not'))]\n\nfiltered_df = df[\n    (df['StartDate'] >= filter_date) &\n    (df['Status'] != 'Survey Preview') &\n    (\n        (df['attention_check_1'] == 'Probably not') &\n        (df['attention_check_2'] == 'Yes') &\n        (df['attention_check_3'] == 'Definitely not')\n    )\n]\n",
   "block_group": "9175d2d25472458c9d19c7823f7e912d",
   "execution_count": null,
   "outputs": [],
   "outputs_reference": null,
   "content_dependencies": null
  },
  {
   "cell_type": "code",
   "metadata": {
    "source_hash": null,
    "execution_start": 1717729805066,
    "execution_millis": 510,
    "deepnote_to_be_reexecuted": false,
    "cell_id": "f8be4b2675eb46d9a2401e20d2121e4d",
    "deepnote_cell_type": "code"
   },
   "source": "latest_index_1 = filtered_df[filtered_df['Exp_condition'] == 'none'].index[-1]\nlatest_index_2 = filtered_df[filtered_df['Exp_condition'] == 'chatbot'].index[-1]\nfiltered_df = filtered_df.drop(index=latest_index_1)\nfiltered_df = filtered_df.drop(index=latest_index_2)",
   "block_group": "6c85bcc5ec974eeca4c4a29e75b52eaf",
   "execution_count": null,
   "outputs": [],
   "outputs_reference": null,
   "content_dependencies": null
  },
  {
   "cell_type": "code",
   "metadata": {
    "source_hash": null,
    "execution_start": 1717729805093,
    "execution_millis": 483,
    "deepnote_to_be_reexecuted": false,
    "cell_id": "2336b1959e6248bc806bf8db920d3a61",
    "deepnote_cell_type": "code"
   },
   "source": "# Specifying the columns to keep\ncolumns_to_keep = ['Exp_condition', 'PostQues_3', 'PostQues_10', 'PostQues_14', 'PostQues_20', 'PostQues_25']\n\n# Creating a new DataFrame with only the selected columns\nfiltered_columns_df = filtered_df[columns_to_keep]",
   "block_group": "8f5af35f9d254e8dae905096e68f1072",
   "execution_count": null,
   "outputs": [],
   "outputs_reference": null,
   "content_dependencies": null
  },
  {
   "cell_type": "code",
   "metadata": {
    "source_hash": null,
    "execution_start": 1717729805120,
    "execution_millis": 457,
    "deepnote_to_be_reexecuted": false,
    "cell_id": "3f6797168c744e94bb924a5cd94fe246",
    "deepnote_cell_type": "code"
   },
   "source": "filtered_columns_df",
   "block_group": "52bc90f75a8b4bc28a2ec53ee0774b9f",
   "execution_count": null,
   "outputs": [
    {
     "output_type": "execute_result",
     "execution_count": 13,
     "data": {
      "application/vnd.deepnote.dataframe.v3+json": {
       "column_count": 6,
       "row_count": 200,
       "columns": [
        {
         "name": "Exp_condition",
         "dtype": "object",
         "stats": {
          "unique_count": 4,
          "nan_count": 0,
          "categories": [
           {
            "name": "survey-based",
            "count": 50
           },
           {
            "name": "static-chatbot",
            "count": 50
           },
           {
            "name": "2 others",
            "count": 100
           }
          ]
         }
        },
        {
         "name": "PostQues_3",
         "dtype": "object",
         "stats": {
          "unique_count": 7,
          "nan_count": 0,
          "categories": [
           {
            "name": "No",
            "count": 73
           },
           {
            "name": "Uncertain if yes or no",
            "count": 39
           },
           {
            "name": "5 others",
            "count": 88
           }
          ]
         }
        },
        {
         "name": "PostQues_10",
         "dtype": "object",
         "stats": {
          "unique_count": 7,
          "nan_count": 0,
          "categories": [
           {
            "name": "Uncertain if yes or no",
            "count": 48
           },
           {
            "name": "No",
            "count": 43
           },
           {
            "name": "5 others",
            "count": 109
           }
          ]
         }
        },
        {
         "name": "PostQues_14",
         "dtype": "object",
         "stats": {
          "unique_count": 7,
          "nan_count": 0,
          "categories": [
           {
            "name": "No",
            "count": 102
           },
           {
            "name": "Uncertain if yes or no",
            "count": 30
           },
           {
            "name": "5 others",
            "count": 68
           }
          ]
         }
        },
        {
         "name": "PostQues_20",
         "dtype": "object",
         "stats": {
          "unique_count": 7,
          "nan_count": 0,
          "categories": [
           {
            "name": "Uncertain if yes or no",
            "count": 76
           },
           {
            "name": "Probably yes",
            "count": 33
           },
           {
            "name": "5 others",
            "count": 91
           }
          ]
         }
        },
        {
         "name": "PostQues_25",
         "dtype": "object",
         "stats": {
          "unique_count": 7,
          "nan_count": 0,
          "categories": [
           {
            "name": "No",
            "count": 85
           },
           {
            "name": "Uncertain if yes or no",
            "count": 60
           },
           {
            "name": "5 others",
            "count": 55
           }
          ]
         }
        },
        {
         "name": "_deepnote_index_column",
         "dtype": "int64"
        }
       ],
       "rows": [
        {
         "Exp_condition": "survey-based",
         "PostQues_3": "Uncertain if yes or no",
         "PostQues_10": "Probably yes",
         "PostQues_14": "Uncertain if yes or no",
         "PostQues_20": "Uncertain if yes or no",
         "PostQues_25": "No",
         "_deepnote_index_column": 36
        },
        {
         "Exp_condition": "static-chatbot",
         "PostQues_3": "Uncertain if yes or no",
         "PostQues_10": "Probably not",
         "PostQues_14": "No",
         "PostQues_20": "Uncertain if yes or no",
         "PostQues_25": "No",
         "_deepnote_index_column": 37
        },
        {
         "Exp_condition": "none",
         "PostQues_3": "Definitely not",
         "PostQues_10": "No",
         "PostQues_14": "No",
         "PostQues_20": "Uncertain if yes or no",
         "PostQues_25": "Definitely not",
         "_deepnote_index_column": 38
        },
        {
         "Exp_condition": "chatbot",
         "PostQues_3": "Uncertain if yes or no",
         "PostQues_10": "Probably not",
         "PostQues_14": "No",
         "PostQues_20": "No",
         "PostQues_25": "No",
         "_deepnote_index_column": 39
        },
        {
         "Exp_condition": "none",
         "PostQues_3": "No",
         "PostQues_10": "Yes",
         "PostQues_14": "No",
         "PostQues_20": "Uncertain if yes or no",
         "PostQues_25": "No",
         "_deepnote_index_column": 40
        },
        {
         "Exp_condition": "chatbot",
         "PostQues_3": "Uncertain if yes or no",
         "PostQues_10": "Uncertain if yes or no",
         "PostQues_14": "Uncertain if yes or no",
         "PostQues_20": "Uncertain if yes or no",
         "PostQues_25": "Probably not",
         "_deepnote_index_column": 41
        },
        {
         "Exp_condition": "static-chatbot",
         "PostQues_3": "Definitely not",
         "PostQues_10": "No",
         "PostQues_14": "No",
         "PostQues_20": "Uncertain if yes or no",
         "PostQues_25": "Uncertain if yes or no",
         "_deepnote_index_column": 42
        },
        {
         "Exp_condition": "none",
         "PostQues_3": "No",
         "PostQues_10": "No",
         "PostQues_14": "Definitely not",
         "PostQues_20": "Uncertain if yes or no",
         "PostQues_25": "Definitely not",
         "_deepnote_index_column": 43
        },
        {
         "Exp_condition": "none",
         "PostQues_3": "Definitely not",
         "PostQues_10": "No",
         "PostQues_14": "No",
         "PostQues_20": "No",
         "PostQues_25": "Definitely not",
         "_deepnote_index_column": 44
        },
        {
         "Exp_condition": "chatbot",
         "PostQues_3": "No",
         "PostQues_10": "Probably yes",
         "PostQues_14": "Probably yes",
         "PostQues_20": "No",
         "PostQues_25": "Definitely not",
         "_deepnote_index_column": 45
        }
       ]
      },
      "text/plain": "      Exp_condition              PostQues_3     PostQues_10  \\\n36     survey-based  Uncertain if yes or no    Probably yes   \n37   static-chatbot  Uncertain if yes or no    Probably not   \n38             none          Definitely not              No   \n39          chatbot  Uncertain if yes or no    Probably not   \n40             none                      No             Yes   \n..              ...                     ...             ...   \n236  static-chatbot            Probably yes  Definitely yes   \n237  static-chatbot          Definitely not    Probably yes   \n239    survey-based  Uncertain if yes or no              No   \n240         chatbot  Uncertain if yes or no             Yes   \n242    survey-based  Uncertain if yes or no    Probably yes   \n\n                PostQues_14             PostQues_20             PostQues_25  \n36   Uncertain if yes or no  Uncertain if yes or no                      No  \n37                       No  Uncertain if yes or no                      No  \n38                       No  Uncertain if yes or no          Definitely not  \n39                       No                      No                      No  \n40                       No  Uncertain if yes or no                      No  \n..                      ...                     ...                     ...  \n236                      No                     Yes  Uncertain if yes or no  \n237            Probably not                     Yes  Uncertain if yes or no  \n239          Definitely not          Definitely yes          Definitely not  \n240                      No  Uncertain if yes or no                      No  \n242  Uncertain if yes or no  Uncertain if yes or no                      No  \n\n[200 rows x 6 columns]",
      "text/html": "<div>\n<style scoped>\n    .dataframe tbody tr th:only-of-type {\n        vertical-align: middle;\n    }\n\n    .dataframe tbody tr th {\n        vertical-align: top;\n    }\n\n    .dataframe thead th {\n        text-align: right;\n    }\n</style>\n<table border=\"1\" class=\"dataframe\">\n  <thead>\n    <tr style=\"text-align: right;\">\n      <th></th>\n      <th>Exp_condition</th>\n      <th>PostQues_3</th>\n      <th>PostQues_10</th>\n      <th>PostQues_14</th>\n      <th>PostQues_20</th>\n      <th>PostQues_25</th>\n    </tr>\n  </thead>\n  <tbody>\n    <tr>\n      <th>36</th>\n      <td>survey-based</td>\n      <td>Uncertain if yes or no</td>\n      <td>Probably yes</td>\n      <td>Uncertain if yes or no</td>\n      <td>Uncertain if yes or no</td>\n      <td>No</td>\n    </tr>\n    <tr>\n      <th>37</th>\n      <td>static-chatbot</td>\n      <td>Uncertain if yes or no</td>\n      <td>Probably not</td>\n      <td>No</td>\n      <td>Uncertain if yes or no</td>\n      <td>No</td>\n    </tr>\n    <tr>\n      <th>38</th>\n      <td>none</td>\n      <td>Definitely not</td>\n      <td>No</td>\n      <td>No</td>\n      <td>Uncertain if yes or no</td>\n      <td>Definitely not</td>\n    </tr>\n    <tr>\n      <th>39</th>\n      <td>chatbot</td>\n      <td>Uncertain if yes or no</td>\n      <td>Probably not</td>\n      <td>No</td>\n      <td>No</td>\n      <td>No</td>\n    </tr>\n    <tr>\n      <th>40</th>\n      <td>none</td>\n      <td>No</td>\n      <td>Yes</td>\n      <td>No</td>\n      <td>Uncertain if yes or no</td>\n      <td>No</td>\n    </tr>\n    <tr>\n      <th>...</th>\n      <td>...</td>\n      <td>...</td>\n      <td>...</td>\n      <td>...</td>\n      <td>...</td>\n      <td>...</td>\n    </tr>\n    <tr>\n      <th>236</th>\n      <td>static-chatbot</td>\n      <td>Probably yes</td>\n      <td>Definitely yes</td>\n      <td>No</td>\n      <td>Yes</td>\n      <td>Uncertain if yes or no</td>\n    </tr>\n    <tr>\n      <th>237</th>\n      <td>static-chatbot</td>\n      <td>Definitely not</td>\n      <td>Probably yes</td>\n      <td>Probably not</td>\n      <td>Yes</td>\n      <td>Uncertain if yes or no</td>\n    </tr>\n    <tr>\n      <th>239</th>\n      <td>survey-based</td>\n      <td>Uncertain if yes or no</td>\n      <td>No</td>\n      <td>Definitely not</td>\n      <td>Definitely yes</td>\n      <td>Definitely not</td>\n    </tr>\n    <tr>\n      <th>240</th>\n      <td>chatbot</td>\n      <td>Uncertain if yes or no</td>\n      <td>Yes</td>\n      <td>No</td>\n      <td>Uncertain if yes or no</td>\n      <td>No</td>\n    </tr>\n    <tr>\n      <th>242</th>\n      <td>survey-based</td>\n      <td>Uncertain if yes or no</td>\n      <td>Probably yes</td>\n      <td>Uncertain if yes or no</td>\n      <td>Uncertain if yes or no</td>\n      <td>No</td>\n    </tr>\n  </tbody>\n</table>\n<p>200 rows × 6 columns</p>\n</div>"
     },
     "metadata": {}
    }
   ],
   "outputs_reference": "s3:deepnote-cell-outputs-production/5ac59dec-3eae-4d62-84c8-9011559a6c4f",
   "content_dependencies": null
  },
  {
   "cell_type": "code",
   "metadata": {
    "source_hash": null,
    "execution_start": 1717729805154,
    "execution_millis": 423,
    "deepnote_to_be_reexecuted": false,
    "cell_id": "d3539036a1284bd6ab86f7c18ffe8e04",
    "deepnote_cell_type": "code"
   },
   "source": " # Define the mapping from text to numeric values\nreplacement_map = {\n    'Definitely yes': 7,\n    'Yes': 6,\n    'Probably yes': 5,\n    'Uncertain if yes or no': 4,\n    'Probably not': 3,\n    'No': 2,\n    'Definitely not': 1\n}\n\n# Replace the categorical responses with numeric values across the DataFrame\nfiltered_columns_df.replace(replacement_map, inplace=True)\n\n# Display the first few rows to confirm the replacements\nfiltered_columns_df",
   "block_group": "5114f6e4d72c4e998b7c0d7cf3e614e6",
   "execution_count": null,
   "outputs": [
    {
     "name": "stderr",
     "text": "/tmp/ipykernel_261/3021226403.py:13: SettingWithCopyWarning: \nA value is trying to be set on a copy of a slice from a DataFrame\n\nSee the caveats in the documentation: https://pandas.pydata.org/pandas-docs/stable/user_guide/indexing.html#returning-a-view-versus-a-copy\n  filtered_columns_df.replace(replacement_map, inplace=True)\n",
     "output_type": "stream"
    },
    {
     "output_type": "execute_result",
     "execution_count": 14,
     "data": {
      "application/vnd.deepnote.dataframe.v3+json": {
       "column_count": 6,
       "row_count": 200,
       "columns": [
        {
         "name": "Exp_condition",
         "dtype": "object",
         "stats": {
          "unique_count": 4,
          "nan_count": 0,
          "categories": [
           {
            "name": "survey-based",
            "count": 50
           },
           {
            "name": "static-chatbot",
            "count": 50
           },
           {
            "name": "2 others",
            "count": 100
           }
          ]
         }
        },
        {
         "name": "PostQues_3",
         "dtype": "int64",
         "stats": {
          "unique_count": 7,
          "nan_count": 0,
          "min": "1",
          "max": "7",
          "histogram": [
           {
            "bin_start": 1,
            "bin_end": 1.6,
            "count": 36
           },
           {
            "bin_start": 1.6,
            "bin_end": 2.2,
            "count": 73
           },
           {
            "bin_start": 2.2,
            "bin_end": 2.8,
            "count": 0
           },
           {
            "bin_start": 2.8,
            "bin_end": 3.4,
            "count": 13
           },
           {
            "bin_start": 3.4,
            "bin_end": 4,
            "count": 0
           },
           {
            "bin_start": 4,
            "bin_end": 4.6,
            "count": 39
           },
           {
            "bin_start": 4.6,
            "bin_end": 5.2,
            "count": 15
           },
           {
            "bin_start": 5.2,
            "bin_end": 5.8,
            "count": 0
           },
           {
            "bin_start": 5.8,
            "bin_end": 6.3999999999999995,
            "count": 13
           },
           {
            "bin_start": 6.3999999999999995,
            "bin_end": 7,
            "count": 11
           }
          ]
         }
        },
        {
         "name": "PostQues_10",
         "dtype": "int64",
         "stats": {
          "unique_count": 7,
          "nan_count": 0,
          "min": "1",
          "max": "7",
          "histogram": [
           {
            "bin_start": 1,
            "bin_end": 1.6,
            "count": 1
           },
           {
            "bin_start": 1.6,
            "bin_end": 2.2,
            "count": 43
           },
           {
            "bin_start": 2.2,
            "bin_end": 2.8,
            "count": 0
           },
           {
            "bin_start": 2.8,
            "bin_end": 3.4,
            "count": 23
           },
           {
            "bin_start": 3.4,
            "bin_end": 4,
            "count": 0
           },
           {
            "bin_start": 4,
            "bin_end": 4.6,
            "count": 48
           },
           {
            "bin_start": 4.6,
            "bin_end": 5.2,
            "count": 39
           },
           {
            "bin_start": 5.2,
            "bin_end": 5.8,
            "count": 0
           },
           {
            "bin_start": 5.8,
            "bin_end": 6.3999999999999995,
            "count": 34
           },
           {
            "bin_start": 6.3999999999999995,
            "bin_end": 7,
            "count": 12
           }
          ]
         }
        },
        {
         "name": "PostQues_14",
         "dtype": "int64",
         "stats": {
          "unique_count": 7,
          "nan_count": 0,
          "min": "1",
          "max": "7",
          "histogram": [
           {
            "bin_start": 1,
            "bin_end": 1.6,
            "count": 17
           },
           {
            "bin_start": 1.6,
            "bin_end": 2.2,
            "count": 102
           },
           {
            "bin_start": 2.2,
            "bin_end": 2.8,
            "count": 0
           },
           {
            "bin_start": 2.8,
            "bin_end": 3.4,
            "count": 24
           },
           {
            "bin_start": 3.4,
            "bin_end": 4,
            "count": 0
           },
           {
            "bin_start": 4,
            "bin_end": 4.6,
            "count": 30
           },
           {
            "bin_start": 4.6,
            "bin_end": 5.2,
            "count": 11
           },
           {
            "bin_start": 5.2,
            "bin_end": 5.8,
            "count": 0
           },
           {
            "bin_start": 5.8,
            "bin_end": 6.3999999999999995,
            "count": 10
           },
           {
            "bin_start": 6.3999999999999995,
            "bin_end": 7,
            "count": 6
           }
          ]
         }
        },
        {
         "name": "PostQues_20",
         "dtype": "int64",
         "stats": {
          "unique_count": 7,
          "nan_count": 0,
          "min": "1",
          "max": "7",
          "histogram": [
           {
            "bin_start": 1,
            "bin_end": 1.6,
            "count": 5
           },
           {
            "bin_start": 1.6,
            "bin_end": 2.2,
            "count": 29
           },
           {
            "bin_start": 2.2,
            "bin_end": 2.8,
            "count": 0
           },
           {
            "bin_start": 2.8,
            "bin_end": 3.4,
            "count": 14
           },
           {
            "bin_start": 3.4,
            "bin_end": 4,
            "count": 0
           },
           {
            "bin_start": 4,
            "bin_end": 4.6,
            "count": 76
           },
           {
            "bin_start": 4.6,
            "bin_end": 5.2,
            "count": 33
           },
           {
            "bin_start": 5.2,
            "bin_end": 5.8,
            "count": 0
           },
           {
            "bin_start": 5.8,
            "bin_end": 6.3999999999999995,
            "count": 31
           },
           {
            "bin_start": 6.3999999999999995,
            "bin_end": 7,
            "count": 12
           }
          ]
         }
        },
        {
         "name": "PostQues_25",
         "dtype": "int64",
         "stats": {
          "unique_count": 7,
          "nan_count": 0,
          "min": "1",
          "max": "7",
          "histogram": [
           {
            "bin_start": 1,
            "bin_end": 1.6,
            "count": 28
           },
           {
            "bin_start": 1.6,
            "bin_end": 2.2,
            "count": 85
           },
           {
            "bin_start": 2.2,
            "bin_end": 2.8,
            "count": 0
           },
           {
            "bin_start": 2.8,
            "bin_end": 3.4,
            "count": 15
           },
           {
            "bin_start": 3.4,
            "bin_end": 4,
            "count": 0
           },
           {
            "bin_start": 4,
            "bin_end": 4.6,
            "count": 60
           },
           {
            "bin_start": 4.6,
            "bin_end": 5.2,
            "count": 8
           },
           {
            "bin_start": 5.2,
            "bin_end": 5.8,
            "count": 0
           },
           {
            "bin_start": 5.8,
            "bin_end": 6.3999999999999995,
            "count": 1
           },
           {
            "bin_start": 6.3999999999999995,
            "bin_end": 7,
            "count": 3
           }
          ]
         }
        },
        {
         "name": "_deepnote_index_column",
         "dtype": "int64"
        }
       ],
       "rows": [
        {
         "Exp_condition": "survey-based",
         "PostQues_3": 4,
         "PostQues_10": 5,
         "PostQues_14": 4,
         "PostQues_20": 4,
         "PostQues_25": 2,
         "_deepnote_index_column": 36
        },
        {
         "Exp_condition": "static-chatbot",
         "PostQues_3": 4,
         "PostQues_10": 3,
         "PostQues_14": 2,
         "PostQues_20": 4,
         "PostQues_25": 2,
         "_deepnote_index_column": 37
        },
        {
         "Exp_condition": "none",
         "PostQues_3": 1,
         "PostQues_10": 2,
         "PostQues_14": 2,
         "PostQues_20": 4,
         "PostQues_25": 1,
         "_deepnote_index_column": 38
        },
        {
         "Exp_condition": "chatbot",
         "PostQues_3": 4,
         "PostQues_10": 3,
         "PostQues_14": 2,
         "PostQues_20": 2,
         "PostQues_25": 2,
         "_deepnote_index_column": 39
        },
        {
         "Exp_condition": "none",
         "PostQues_3": 2,
         "PostQues_10": 6,
         "PostQues_14": 2,
         "PostQues_20": 4,
         "PostQues_25": 2,
         "_deepnote_index_column": 40
        },
        {
         "Exp_condition": "chatbot",
         "PostQues_3": 4,
         "PostQues_10": 4,
         "PostQues_14": 4,
         "PostQues_20": 4,
         "PostQues_25": 3,
         "_deepnote_index_column": 41
        },
        {
         "Exp_condition": "static-chatbot",
         "PostQues_3": 1,
         "PostQues_10": 2,
         "PostQues_14": 2,
         "PostQues_20": 4,
         "PostQues_25": 4,
         "_deepnote_index_column": 42
        },
        {
         "Exp_condition": "none",
         "PostQues_3": 2,
         "PostQues_10": 2,
         "PostQues_14": 1,
         "PostQues_20": 4,
         "PostQues_25": 1,
         "_deepnote_index_column": 43
        },
        {
         "Exp_condition": "none",
         "PostQues_3": 1,
         "PostQues_10": 2,
         "PostQues_14": 2,
         "PostQues_20": 2,
         "PostQues_25": 1,
         "_deepnote_index_column": 44
        },
        {
         "Exp_condition": "chatbot",
         "PostQues_3": 2,
         "PostQues_10": 5,
         "PostQues_14": 5,
         "PostQues_20": 2,
         "PostQues_25": 1,
         "_deepnote_index_column": 45
        }
       ]
      },
      "text/plain": "      Exp_condition  PostQues_3  PostQues_10  PostQues_14  PostQues_20  \\\n36     survey-based           4            5            4            4   \n37   static-chatbot           4            3            2            4   \n38             none           1            2            2            4   \n39          chatbot           4            3            2            2   \n40             none           2            6            2            4   \n..              ...         ...          ...          ...          ...   \n236  static-chatbot           5            7            2            6   \n237  static-chatbot           1            5            3            6   \n239    survey-based           4            2            1            7   \n240         chatbot           4            6            2            4   \n242    survey-based           4            5            4            4   \n\n     PostQues_25  \n36             2  \n37             2  \n38             1  \n39             2  \n40             2  \n..           ...  \n236            4  \n237            4  \n239            1  \n240            2  \n242            2  \n\n[200 rows x 6 columns]",
      "text/html": "<div>\n<style scoped>\n    .dataframe tbody tr th:only-of-type {\n        vertical-align: middle;\n    }\n\n    .dataframe tbody tr th {\n        vertical-align: top;\n    }\n\n    .dataframe thead th {\n        text-align: right;\n    }\n</style>\n<table border=\"1\" class=\"dataframe\">\n  <thead>\n    <tr style=\"text-align: right;\">\n      <th></th>\n      <th>Exp_condition</th>\n      <th>PostQues_3</th>\n      <th>PostQues_10</th>\n      <th>PostQues_14</th>\n      <th>PostQues_20</th>\n      <th>PostQues_25</th>\n    </tr>\n  </thead>\n  <tbody>\n    <tr>\n      <th>36</th>\n      <td>survey-based</td>\n      <td>4</td>\n      <td>5</td>\n      <td>4</td>\n      <td>4</td>\n      <td>2</td>\n    </tr>\n    <tr>\n      <th>37</th>\n      <td>static-chatbot</td>\n      <td>4</td>\n      <td>3</td>\n      <td>2</td>\n      <td>4</td>\n      <td>2</td>\n    </tr>\n    <tr>\n      <th>38</th>\n      <td>none</td>\n      <td>1</td>\n      <td>2</td>\n      <td>2</td>\n      <td>4</td>\n      <td>1</td>\n    </tr>\n    <tr>\n      <th>39</th>\n      <td>chatbot</td>\n      <td>4</td>\n      <td>3</td>\n      <td>2</td>\n      <td>2</td>\n      <td>2</td>\n    </tr>\n    <tr>\n      <th>40</th>\n      <td>none</td>\n      <td>2</td>\n      <td>6</td>\n      <td>2</td>\n      <td>4</td>\n      <td>2</td>\n    </tr>\n    <tr>\n      <th>...</th>\n      <td>...</td>\n      <td>...</td>\n      <td>...</td>\n      <td>...</td>\n      <td>...</td>\n      <td>...</td>\n    </tr>\n    <tr>\n      <th>236</th>\n      <td>static-chatbot</td>\n      <td>5</td>\n      <td>7</td>\n      <td>2</td>\n      <td>6</td>\n      <td>4</td>\n    </tr>\n    <tr>\n      <th>237</th>\n      <td>static-chatbot</td>\n      <td>1</td>\n      <td>5</td>\n      <td>3</td>\n      <td>6</td>\n      <td>4</td>\n    </tr>\n    <tr>\n      <th>239</th>\n      <td>survey-based</td>\n      <td>4</td>\n      <td>2</td>\n      <td>1</td>\n      <td>7</td>\n      <td>1</td>\n    </tr>\n    <tr>\n      <th>240</th>\n      <td>chatbot</td>\n      <td>4</td>\n      <td>6</td>\n      <td>2</td>\n      <td>4</td>\n      <td>2</td>\n    </tr>\n    <tr>\n      <th>242</th>\n      <td>survey-based</td>\n      <td>4</td>\n      <td>5</td>\n      <td>4</td>\n      <td>4</td>\n      <td>2</td>\n    </tr>\n  </tbody>\n</table>\n<p>200 rows × 6 columns</p>\n</div>"
     },
     "metadata": {}
    }
   ],
   "outputs_reference": "s3:deepnote-cell-outputs-production/d11eb455-bdc1-4889-9564-ded38cceed21",
   "content_dependencies": null
  },
  {
   "cell_type": "code",
   "metadata": {
    "source_hash": null,
    "execution_start": 1717729805219,
    "execution_millis": 358,
    "deepnote_table_state": {
     "sortBy": [],
     "filters": [],
     "pageSize": 50,
     "pageIndex": 0
    },
    "deepnote_table_loading": false,
    "deepnote_to_be_reexecuted": false,
    "cell_id": "e8c4b769821a4fdc8783404e1469a397",
    "deepnote_cell_type": "code"
   },
   "source": "filtered_columns_df",
   "block_group": "9b16ba19f8e543ad92a82a48309c18e3",
   "execution_count": null,
   "outputs": [
    {
     "output_type": "execute_result",
     "execution_count": 15,
     "data": {
      "application/vnd.deepnote.dataframe.v3+json": {
       "column_count": 6,
       "row_count": 200,
       "columns": [
        {
         "name": "Exp_condition",
         "dtype": "object",
         "stats": {
          "unique_count": 4,
          "nan_count": 0,
          "categories": [
           {
            "name": "survey-based",
            "count": 50
           },
           {
            "name": "static-chatbot",
            "count": 50
           },
           {
            "name": "2 others",
            "count": 100
           }
          ]
         }
        },
        {
         "name": "PostQues_3",
         "dtype": "int64",
         "stats": {
          "unique_count": 7,
          "nan_count": 0,
          "min": "1",
          "max": "7",
          "histogram": [
           {
            "bin_start": 1,
            "bin_end": 1.6,
            "count": 36
           },
           {
            "bin_start": 1.6,
            "bin_end": 2.2,
            "count": 73
           },
           {
            "bin_start": 2.2,
            "bin_end": 2.8,
            "count": 0
           },
           {
            "bin_start": 2.8,
            "bin_end": 3.4,
            "count": 13
           },
           {
            "bin_start": 3.4,
            "bin_end": 4,
            "count": 0
           },
           {
            "bin_start": 4,
            "bin_end": 4.6,
            "count": 39
           },
           {
            "bin_start": 4.6,
            "bin_end": 5.2,
            "count": 15
           },
           {
            "bin_start": 5.2,
            "bin_end": 5.8,
            "count": 0
           },
           {
            "bin_start": 5.8,
            "bin_end": 6.3999999999999995,
            "count": 13
           },
           {
            "bin_start": 6.3999999999999995,
            "bin_end": 7,
            "count": 11
           }
          ]
         }
        },
        {
         "name": "PostQues_10",
         "dtype": "int64",
         "stats": {
          "unique_count": 7,
          "nan_count": 0,
          "min": "1",
          "max": "7",
          "histogram": [
           {
            "bin_start": 1,
            "bin_end": 1.6,
            "count": 1
           },
           {
            "bin_start": 1.6,
            "bin_end": 2.2,
            "count": 43
           },
           {
            "bin_start": 2.2,
            "bin_end": 2.8,
            "count": 0
           },
           {
            "bin_start": 2.8,
            "bin_end": 3.4,
            "count": 23
           },
           {
            "bin_start": 3.4,
            "bin_end": 4,
            "count": 0
           },
           {
            "bin_start": 4,
            "bin_end": 4.6,
            "count": 48
           },
           {
            "bin_start": 4.6,
            "bin_end": 5.2,
            "count": 39
           },
           {
            "bin_start": 5.2,
            "bin_end": 5.8,
            "count": 0
           },
           {
            "bin_start": 5.8,
            "bin_end": 6.3999999999999995,
            "count": 34
           },
           {
            "bin_start": 6.3999999999999995,
            "bin_end": 7,
            "count": 12
           }
          ]
         }
        },
        {
         "name": "PostQues_14",
         "dtype": "int64",
         "stats": {
          "unique_count": 7,
          "nan_count": 0,
          "min": "1",
          "max": "7",
          "histogram": [
           {
            "bin_start": 1,
            "bin_end": 1.6,
            "count": 17
           },
           {
            "bin_start": 1.6,
            "bin_end": 2.2,
            "count": 102
           },
           {
            "bin_start": 2.2,
            "bin_end": 2.8,
            "count": 0
           },
           {
            "bin_start": 2.8,
            "bin_end": 3.4,
            "count": 24
           },
           {
            "bin_start": 3.4,
            "bin_end": 4,
            "count": 0
           },
           {
            "bin_start": 4,
            "bin_end": 4.6,
            "count": 30
           },
           {
            "bin_start": 4.6,
            "bin_end": 5.2,
            "count": 11
           },
           {
            "bin_start": 5.2,
            "bin_end": 5.8,
            "count": 0
           },
           {
            "bin_start": 5.8,
            "bin_end": 6.3999999999999995,
            "count": 10
           },
           {
            "bin_start": 6.3999999999999995,
            "bin_end": 7,
            "count": 6
           }
          ]
         }
        },
        {
         "name": "PostQues_20",
         "dtype": "int64",
         "stats": {
          "unique_count": 7,
          "nan_count": 0,
          "min": "1",
          "max": "7",
          "histogram": [
           {
            "bin_start": 1,
            "bin_end": 1.6,
            "count": 5
           },
           {
            "bin_start": 1.6,
            "bin_end": 2.2,
            "count": 29
           },
           {
            "bin_start": 2.2,
            "bin_end": 2.8,
            "count": 0
           },
           {
            "bin_start": 2.8,
            "bin_end": 3.4,
            "count": 14
           },
           {
            "bin_start": 3.4,
            "bin_end": 4,
            "count": 0
           },
           {
            "bin_start": 4,
            "bin_end": 4.6,
            "count": 76
           },
           {
            "bin_start": 4.6,
            "bin_end": 5.2,
            "count": 33
           },
           {
            "bin_start": 5.2,
            "bin_end": 5.8,
            "count": 0
           },
           {
            "bin_start": 5.8,
            "bin_end": 6.3999999999999995,
            "count": 31
           },
           {
            "bin_start": 6.3999999999999995,
            "bin_end": 7,
            "count": 12
           }
          ]
         }
        },
        {
         "name": "PostQues_25",
         "dtype": "int64",
         "stats": {
          "unique_count": 7,
          "nan_count": 0,
          "min": "1",
          "max": "7",
          "histogram": [
           {
            "bin_start": 1,
            "bin_end": 1.6,
            "count": 28
           },
           {
            "bin_start": 1.6,
            "bin_end": 2.2,
            "count": 85
           },
           {
            "bin_start": 2.2,
            "bin_end": 2.8,
            "count": 0
           },
           {
            "bin_start": 2.8,
            "bin_end": 3.4,
            "count": 15
           },
           {
            "bin_start": 3.4,
            "bin_end": 4,
            "count": 0
           },
           {
            "bin_start": 4,
            "bin_end": 4.6,
            "count": 60
           },
           {
            "bin_start": 4.6,
            "bin_end": 5.2,
            "count": 8
           },
           {
            "bin_start": 5.2,
            "bin_end": 5.8,
            "count": 0
           },
           {
            "bin_start": 5.8,
            "bin_end": 6.3999999999999995,
            "count": 1
           },
           {
            "bin_start": 6.3999999999999995,
            "bin_end": 7,
            "count": 3
           }
          ]
         }
        },
        {
         "name": "_deepnote_index_column",
         "dtype": "int64"
        }
       ],
       "rows": [
        {
         "Exp_condition": "survey-based",
         "PostQues_3": 4,
         "PostQues_10": 5,
         "PostQues_14": 4,
         "PostQues_20": 4,
         "PostQues_25": 2,
         "_deepnote_index_column": 36
        },
        {
         "Exp_condition": "static-chatbot",
         "PostQues_3": 4,
         "PostQues_10": 3,
         "PostQues_14": 2,
         "PostQues_20": 4,
         "PostQues_25": 2,
         "_deepnote_index_column": 37
        },
        {
         "Exp_condition": "none",
         "PostQues_3": 1,
         "PostQues_10": 2,
         "PostQues_14": 2,
         "PostQues_20": 4,
         "PostQues_25": 1,
         "_deepnote_index_column": 38
        },
        {
         "Exp_condition": "chatbot",
         "PostQues_3": 4,
         "PostQues_10": 3,
         "PostQues_14": 2,
         "PostQues_20": 2,
         "PostQues_25": 2,
         "_deepnote_index_column": 39
        },
        {
         "Exp_condition": "none",
         "PostQues_3": 2,
         "PostQues_10": 6,
         "PostQues_14": 2,
         "PostQues_20": 4,
         "PostQues_25": 2,
         "_deepnote_index_column": 40
        },
        {
         "Exp_condition": "chatbot",
         "PostQues_3": 4,
         "PostQues_10": 4,
         "PostQues_14": 4,
         "PostQues_20": 4,
         "PostQues_25": 3,
         "_deepnote_index_column": 41
        },
        {
         "Exp_condition": "static-chatbot",
         "PostQues_3": 1,
         "PostQues_10": 2,
         "PostQues_14": 2,
         "PostQues_20": 4,
         "PostQues_25": 4,
         "_deepnote_index_column": 42
        },
        {
         "Exp_condition": "none",
         "PostQues_3": 2,
         "PostQues_10": 2,
         "PostQues_14": 1,
         "PostQues_20": 4,
         "PostQues_25": 1,
         "_deepnote_index_column": 43
        },
        {
         "Exp_condition": "none",
         "PostQues_3": 1,
         "PostQues_10": 2,
         "PostQues_14": 2,
         "PostQues_20": 2,
         "PostQues_25": 1,
         "_deepnote_index_column": 44
        },
        {
         "Exp_condition": "chatbot",
         "PostQues_3": 2,
         "PostQues_10": 5,
         "PostQues_14": 5,
         "PostQues_20": 2,
         "PostQues_25": 1,
         "_deepnote_index_column": 45
        },
        {
         "Exp_condition": "chatbot",
         "PostQues_3": 1,
         "PostQues_10": 5,
         "PostQues_14": 3,
         "PostQues_20": 4,
         "PostQues_25": 2,
         "_deepnote_index_column": 46
        },
        {
         "Exp_condition": "none",
         "PostQues_3": 2,
         "PostQues_10": 2,
         "PostQues_14": 2,
         "PostQues_20": 3,
         "PostQues_25": 1,
         "_deepnote_index_column": 47
        },
        {
         "Exp_condition": "static-chatbot",
         "PostQues_3": 4,
         "PostQues_10": 4,
         "PostQues_14": 2,
         "PostQues_20": 5,
         "PostQues_25": 2,
         "_deepnote_index_column": 48
        },
        {
         "Exp_condition": "none",
         "PostQues_3": 2,
         "PostQues_10": 6,
         "PostQues_14": 2,
         "PostQues_20": 6,
         "PostQues_25": 4,
         "_deepnote_index_column": 49
        },
        {
         "Exp_condition": "static-chatbot",
         "PostQues_3": 2,
         "PostQues_10": 2,
         "PostQues_14": 2,
         "PostQues_20": 4,
         "PostQues_25": 2,
         "_deepnote_index_column": 50
        },
        {
         "Exp_condition": "survey-based",
         "PostQues_3": 2,
         "PostQues_10": 2,
         "PostQues_14": 2,
         "PostQues_20": 6,
         "PostQues_25": 2,
         "_deepnote_index_column": 51
        },
        {
         "Exp_condition": "none",
         "PostQues_3": 2,
         "PostQues_10": 4,
         "PostQues_14": 2,
         "PostQues_20": 3,
         "PostQues_25": 1,
         "_deepnote_index_column": 52
        },
        {
         "Exp_condition": "none",
         "PostQues_3": 2,
         "PostQues_10": 3,
         "PostQues_14": 2,
         "PostQues_20": 5,
         "PostQues_25": 2,
         "_deepnote_index_column": 53
        },
        {
         "Exp_condition": "chatbot",
         "PostQues_3": 4,
         "PostQues_10": 4,
         "PostQues_14": 4,
         "PostQues_20": 4,
         "PostQues_25": 2,
         "_deepnote_index_column": 54
        },
        {
         "Exp_condition": "none",
         "PostQues_3": 2,
         "PostQues_10": 2,
         "PostQues_14": 2,
         "PostQues_20": 4,
         "PostQues_25": 2,
         "_deepnote_index_column": 55
        },
        {
         "Exp_condition": "none",
         "PostQues_3": 2,
         "PostQues_10": 3,
         "PostQues_14": 1,
         "PostQues_20": 4,
         "PostQues_25": 1,
         "_deepnote_index_column": 56
        },
        {
         "Exp_condition": "survey-based",
         "PostQues_3": 5,
         "PostQues_10": 2,
         "PostQues_14": 2,
         "PostQues_20": 2,
         "PostQues_25": 2,
         "_deepnote_index_column": 57
        },
        {
         "Exp_condition": "static-chatbot",
         "PostQues_3": 6,
         "PostQues_10": 2,
         "PostQues_14": 2,
         "PostQues_20": 4,
         "PostQues_25": 1,
         "_deepnote_index_column": 58
        },
        {
         "Exp_condition": "survey-based",
         "PostQues_3": 4,
         "PostQues_10": 4,
         "PostQues_14": 3,
         "PostQues_20": 3,
         "PostQues_25": 2,
         "_deepnote_index_column": 59
        },
        {
         "Exp_condition": "survey-based",
         "PostQues_3": 2,
         "PostQues_10": 6,
         "PostQues_14": 2,
         "PostQues_20": 2,
         "PostQues_25": 2,
         "_deepnote_index_column": 60
        },
        {
         "Exp_condition": "none",
         "PostQues_3": 5,
         "PostQues_10": 4,
         "PostQues_14": 3,
         "PostQues_20": 4,
         "PostQues_25": 2,
         "_deepnote_index_column": 61
        },
        {
         "Exp_condition": "none",
         "PostQues_3": 4,
         "PostQues_10": 5,
         "PostQues_14": 4,
         "PostQues_20": 5,
         "PostQues_25": 2,
         "_deepnote_index_column": 62
        },
        {
         "Exp_condition": "static-chatbot",
         "PostQues_3": 5,
         "PostQues_10": 5,
         "PostQues_14": 4,
         "PostQues_20": 5,
         "PostQues_25": 2,
         "_deepnote_index_column": 63
        },
        {
         "Exp_condition": "chatbot",
         "PostQues_3": 7,
         "PostQues_10": 7,
         "PostQues_14": 7,
         "PostQues_20": 4,
         "PostQues_25": 7,
         "_deepnote_index_column": 64
        },
        {
         "Exp_condition": "survey-based",
         "PostQues_3": 3,
         "PostQues_10": 5,
         "PostQues_14": 3,
         "PostQues_20": 4,
         "PostQues_25": 3,
         "_deepnote_index_column": 65
        },
        {
         "Exp_condition": "static-chatbot",
         "PostQues_3": 1,
         "PostQues_10": 7,
         "PostQues_14": 1,
         "PostQues_20": 7,
         "PostQues_25": 2,
         "_deepnote_index_column": 66
        },
        {
         "Exp_condition": "chatbot",
         "PostQues_3": 2,
         "PostQues_10": 3,
         "PostQues_14": 2,
         "PostQues_20": 4,
         "PostQues_25": 2,
         "_deepnote_index_column": 67
        },
        {
         "Exp_condition": "none",
         "PostQues_3": 1,
         "PostQues_10": 2,
         "PostQues_14": 2,
         "PostQues_20": 2,
         "PostQues_25": 2,
         "_deepnote_index_column": 68
        },
        {
         "Exp_condition": "survey-based",
         "PostQues_3": 1,
         "PostQues_10": 2,
         "PostQues_14": 1,
         "PostQues_20": 5,
         "PostQues_25": 2,
         "_deepnote_index_column": 69
        },
        {
         "Exp_condition": "static-chatbot",
         "PostQues_3": 1,
         "PostQues_10": 3,
         "PostQues_14": 2,
         "PostQues_20": 5,
         "PostQues_25": 4,
         "_deepnote_index_column": 70
        },
        {
         "Exp_condition": "none",
         "PostQues_3": 2,
         "PostQues_10": 5,
         "PostQues_14": 4,
         "PostQues_20": 4,
         "PostQues_25": 4,
         "_deepnote_index_column": 71
        },
        {
         "Exp_condition": "survey-based",
         "PostQues_3": 2,
         "PostQues_10": 5,
         "PostQues_14": 4,
         "PostQues_20": 4,
         "PostQues_25": 4,
         "_deepnote_index_column": 72
        },
        {
         "Exp_condition": "chatbot",
         "PostQues_3": 1,
         "PostQues_10": 7,
         "PostQues_14": 7,
         "PostQues_20": 7,
         "PostQues_25": 4,
         "_deepnote_index_column": 73
        },
        {
         "Exp_condition": "none",
         "PostQues_3": 1,
         "PostQues_10": 4,
         "PostQues_14": 1,
         "PostQues_20": 4,
         "PostQues_25": 1,
         "_deepnote_index_column": 74
        },
        {
         "Exp_condition": "survey-based",
         "PostQues_3": 2,
         "PostQues_10": 4,
         "PostQues_14": 2,
         "PostQues_20": 5,
         "PostQues_25": 4,
         "_deepnote_index_column": 75
        },
        {
         "Exp_condition": "survey-based",
         "PostQues_3": 4,
         "PostQues_10": 6,
         "PostQues_14": 5,
         "PostQues_20": 2,
         "PostQues_25": 2,
         "_deepnote_index_column": 76
        },
        {
         "Exp_condition": "none",
         "PostQues_3": 1,
         "PostQues_10": 6,
         "PostQues_14": 2,
         "PostQues_20": 6,
         "PostQues_25": 1,
         "_deepnote_index_column": 77
        },
        {
         "Exp_condition": "static-chatbot",
         "PostQues_3": 2,
         "PostQues_10": 2,
         "PostQues_14": 2,
         "PostQues_20": 2,
         "PostQues_25": 2,
         "_deepnote_index_column": 78
        },
        {
         "Exp_condition": "none",
         "PostQues_3": 2,
         "PostQues_10": 3,
         "PostQues_14": 6,
         "PostQues_20": 6,
         "PostQues_25": 2,
         "_deepnote_index_column": 79
        },
        {
         "Exp_condition": "static-chatbot",
         "PostQues_3": 6,
         "PostQues_10": 6,
         "PostQues_14": 6,
         "PostQues_20": 7,
         "PostQues_25": 2,
         "_deepnote_index_column": 80
        },
        {
         "Exp_condition": "static-chatbot",
         "PostQues_3": 4,
         "PostQues_10": 4,
         "PostQues_14": 4,
         "PostQues_20": 4,
         "PostQues_25": 4,
         "_deepnote_index_column": 81
        },
        {
         "Exp_condition": "none",
         "PostQues_3": 2,
         "PostQues_10": 4,
         "PostQues_14": 4,
         "PostQues_20": 4,
         "PostQues_25": 2,
         "_deepnote_index_column": 82
        },
        {
         "Exp_condition": "chatbot",
         "PostQues_3": 1,
         "PostQues_10": 5,
         "PostQues_14": 2,
         "PostQues_20": 6,
         "PostQues_25": 4,
         "_deepnote_index_column": 83
        },
        {
         "Exp_condition": "none",
         "PostQues_3": 2,
         "PostQues_10": 4,
         "PostQues_14": 2,
         "PostQues_20": 4,
         "PostQues_25": 1,
         "_deepnote_index_column": 84
        },
        {
         "Exp_condition": "survey-based",
         "PostQues_3": 5,
         "PostQues_10": 5,
         "PostQues_14": 3,
         "PostQues_20": 5,
         "PostQues_25": 2,
         "_deepnote_index_column": 85
        }
       ]
      },
      "text/plain": "      Exp_condition  PostQues_3  PostQues_10  PostQues_14  PostQues_20  \\\n36     survey-based           4            5            4            4   \n37   static-chatbot           4            3            2            4   \n38             none           1            2            2            4   \n39          chatbot           4            3            2            2   \n40             none           2            6            2            4   \n..              ...         ...          ...          ...          ...   \n236  static-chatbot           5            7            2            6   \n237  static-chatbot           1            5            3            6   \n239    survey-based           4            2            1            7   \n240         chatbot           4            6            2            4   \n242    survey-based           4            5            4            4   \n\n     PostQues_25  \n36             2  \n37             2  \n38             1  \n39             2  \n40             2  \n..           ...  \n236            4  \n237            4  \n239            1  \n240            2  \n242            2  \n\n[200 rows x 6 columns]",
      "text/html": "<div>\n<style scoped>\n    .dataframe tbody tr th:only-of-type {\n        vertical-align: middle;\n    }\n\n    .dataframe tbody tr th {\n        vertical-align: top;\n    }\n\n    .dataframe thead th {\n        text-align: right;\n    }\n</style>\n<table border=\"1\" class=\"dataframe\">\n  <thead>\n    <tr style=\"text-align: right;\">\n      <th></th>\n      <th>Exp_condition</th>\n      <th>PostQues_3</th>\n      <th>PostQues_10</th>\n      <th>PostQues_14</th>\n      <th>PostQues_20</th>\n      <th>PostQues_25</th>\n    </tr>\n  </thead>\n  <tbody>\n    <tr>\n      <th>36</th>\n      <td>survey-based</td>\n      <td>4</td>\n      <td>5</td>\n      <td>4</td>\n      <td>4</td>\n      <td>2</td>\n    </tr>\n    <tr>\n      <th>37</th>\n      <td>static-chatbot</td>\n      <td>4</td>\n      <td>3</td>\n      <td>2</td>\n      <td>4</td>\n      <td>2</td>\n    </tr>\n    <tr>\n      <th>38</th>\n      <td>none</td>\n      <td>1</td>\n      <td>2</td>\n      <td>2</td>\n      <td>4</td>\n      <td>1</td>\n    </tr>\n    <tr>\n      <th>39</th>\n      <td>chatbot</td>\n      <td>4</td>\n      <td>3</td>\n      <td>2</td>\n      <td>2</td>\n      <td>2</td>\n    </tr>\n    <tr>\n      <th>40</th>\n      <td>none</td>\n      <td>2</td>\n      <td>6</td>\n      <td>2</td>\n      <td>4</td>\n      <td>2</td>\n    </tr>\n    <tr>\n      <th>...</th>\n      <td>...</td>\n      <td>...</td>\n      <td>...</td>\n      <td>...</td>\n      <td>...</td>\n      <td>...</td>\n    </tr>\n    <tr>\n      <th>236</th>\n      <td>static-chatbot</td>\n      <td>5</td>\n      <td>7</td>\n      <td>2</td>\n      <td>6</td>\n      <td>4</td>\n    </tr>\n    <tr>\n      <th>237</th>\n      <td>static-chatbot</td>\n      <td>1</td>\n      <td>5</td>\n      <td>3</td>\n      <td>6</td>\n      <td>4</td>\n    </tr>\n    <tr>\n      <th>239</th>\n      <td>survey-based</td>\n      <td>4</td>\n      <td>2</td>\n      <td>1</td>\n      <td>7</td>\n      <td>1</td>\n    </tr>\n    <tr>\n      <th>240</th>\n      <td>chatbot</td>\n      <td>4</td>\n      <td>6</td>\n      <td>2</td>\n      <td>4</td>\n      <td>2</td>\n    </tr>\n    <tr>\n      <th>242</th>\n      <td>survey-based</td>\n      <td>4</td>\n      <td>5</td>\n      <td>4</td>\n      <td>4</td>\n      <td>2</td>\n    </tr>\n  </tbody>\n</table>\n<p>200 rows × 6 columns</p>\n</div>"
     },
     "metadata": {}
    }
   ],
   "outputs_reference": "s3:deepnote-cell-outputs-production/a34a5aaf-7f5f-4c11-a1d7-8b10c6aeccb0",
   "content_dependencies": null
  },
  {
   "cell_type": "code",
   "metadata": {
    "source_hash": null,
    "execution_start": 1717729805284,
    "execution_millis": 294,
    "deepnote_to_be_reexecuted": false,
    "cell_id": "918a6680fe8c48eab778baf3a2eff259",
    "deepnote_cell_type": "code"
   },
   "source": "filtered_columns_df['false_memories'] = filtered_columns_df.apply(lambda row: (row.iloc[1:] > 4).sum(), axis=1)",
   "block_group": "32da022bdacb4f58802c2cc640087e45",
   "execution_count": null,
   "outputs": [
    {
     "name": "stderr",
     "text": "/tmp/ipykernel_261/4278997254.py:1: SettingWithCopyWarning: \nA value is trying to be set on a copy of a slice from a DataFrame.\nTry using .loc[row_indexer,col_indexer] = value instead\n\nSee the caveats in the documentation: https://pandas.pydata.org/pandas-docs/stable/user_guide/indexing.html#returning-a-view-versus-a-copy\n  filtered_columns_df['false_memories'] = filtered_columns_df.apply(lambda row: (row.iloc[1:] > 4).sum(), axis=1)\n",
     "output_type": "stream"
    }
   ],
   "outputs_reference": "dbtable:cell_outputs/99140282-da09-4942-815b-28a3e643f998",
   "content_dependencies": null
  },
  {
   "cell_type": "code",
   "metadata": {
    "source_hash": null,
    "execution_start": 1717729805326,
    "execution_millis": 630,
    "deepnote_table_state": {
     "sortBy": [],
     "filters": [],
     "pageSize": 5,
     "pageIndex": 0
    },
    "deepnote_table_loading": false,
    "deepnote_to_be_reexecuted": false,
    "cell_id": "546de37f5e2b4f2f90c26e158b4b4044",
    "deepnote_cell_type": "code"
   },
   "source": "filtered_columns_df",
   "block_group": "d2250d71498e4a34b79969b605e6ec0e",
   "execution_count": null,
   "outputs": [
    {
     "output_type": "execute_result",
     "execution_count": 17,
     "data": {
      "application/vnd.deepnote.dataframe.v3+json": {
       "column_count": 7,
       "row_count": 200,
       "columns": [
        {
         "name": "Exp_condition",
         "dtype": "object",
         "stats": {
          "unique_count": 4,
          "nan_count": 0,
          "categories": [
           {
            "name": "survey-based",
            "count": 50
           },
           {
            "name": "static-chatbot",
            "count": 50
           },
           {
            "name": "2 others",
            "count": 100
           }
          ]
         }
        },
        {
         "name": "PostQues_3",
         "dtype": "int64",
         "stats": {
          "unique_count": 7,
          "nan_count": 0,
          "min": "1",
          "max": "7",
          "histogram": [
           {
            "bin_start": 1,
            "bin_end": 1.6,
            "count": 36
           },
           {
            "bin_start": 1.6,
            "bin_end": 2.2,
            "count": 73
           },
           {
            "bin_start": 2.2,
            "bin_end": 2.8,
            "count": 0
           },
           {
            "bin_start": 2.8,
            "bin_end": 3.4,
            "count": 13
           },
           {
            "bin_start": 3.4,
            "bin_end": 4,
            "count": 0
           },
           {
            "bin_start": 4,
            "bin_end": 4.6,
            "count": 39
           },
           {
            "bin_start": 4.6,
            "bin_end": 5.2,
            "count": 15
           },
           {
            "bin_start": 5.2,
            "bin_end": 5.8,
            "count": 0
           },
           {
            "bin_start": 5.8,
            "bin_end": 6.3999999999999995,
            "count": 13
           },
           {
            "bin_start": 6.3999999999999995,
            "bin_end": 7,
            "count": 11
           }
          ]
         }
        },
        {
         "name": "PostQues_10",
         "dtype": "int64",
         "stats": {
          "unique_count": 7,
          "nan_count": 0,
          "min": "1",
          "max": "7",
          "histogram": [
           {
            "bin_start": 1,
            "bin_end": 1.6,
            "count": 1
           },
           {
            "bin_start": 1.6,
            "bin_end": 2.2,
            "count": 43
           },
           {
            "bin_start": 2.2,
            "bin_end": 2.8,
            "count": 0
           },
           {
            "bin_start": 2.8,
            "bin_end": 3.4,
            "count": 23
           },
           {
            "bin_start": 3.4,
            "bin_end": 4,
            "count": 0
           },
           {
            "bin_start": 4,
            "bin_end": 4.6,
            "count": 48
           },
           {
            "bin_start": 4.6,
            "bin_end": 5.2,
            "count": 39
           },
           {
            "bin_start": 5.2,
            "bin_end": 5.8,
            "count": 0
           },
           {
            "bin_start": 5.8,
            "bin_end": 6.3999999999999995,
            "count": 34
           },
           {
            "bin_start": 6.3999999999999995,
            "bin_end": 7,
            "count": 12
           }
          ]
         }
        },
        {
         "name": "PostQues_14",
         "dtype": "int64",
         "stats": {
          "unique_count": 7,
          "nan_count": 0,
          "min": "1",
          "max": "7",
          "histogram": [
           {
            "bin_start": 1,
            "bin_end": 1.6,
            "count": 17
           },
           {
            "bin_start": 1.6,
            "bin_end": 2.2,
            "count": 102
           },
           {
            "bin_start": 2.2,
            "bin_end": 2.8,
            "count": 0
           },
           {
            "bin_start": 2.8,
            "bin_end": 3.4,
            "count": 24
           },
           {
            "bin_start": 3.4,
            "bin_end": 4,
            "count": 0
           },
           {
            "bin_start": 4,
            "bin_end": 4.6,
            "count": 30
           },
           {
            "bin_start": 4.6,
            "bin_end": 5.2,
            "count": 11
           },
           {
            "bin_start": 5.2,
            "bin_end": 5.8,
            "count": 0
           },
           {
            "bin_start": 5.8,
            "bin_end": 6.3999999999999995,
            "count": 10
           },
           {
            "bin_start": 6.3999999999999995,
            "bin_end": 7,
            "count": 6
           }
          ]
         }
        },
        {
         "name": "PostQues_20",
         "dtype": "int64",
         "stats": {
          "unique_count": 7,
          "nan_count": 0,
          "min": "1",
          "max": "7",
          "histogram": [
           {
            "bin_start": 1,
            "bin_end": 1.6,
            "count": 5
           },
           {
            "bin_start": 1.6,
            "bin_end": 2.2,
            "count": 29
           },
           {
            "bin_start": 2.2,
            "bin_end": 2.8,
            "count": 0
           },
           {
            "bin_start": 2.8,
            "bin_end": 3.4,
            "count": 14
           },
           {
            "bin_start": 3.4,
            "bin_end": 4,
            "count": 0
           },
           {
            "bin_start": 4,
            "bin_end": 4.6,
            "count": 76
           },
           {
            "bin_start": 4.6,
            "bin_end": 5.2,
            "count": 33
           },
           {
            "bin_start": 5.2,
            "bin_end": 5.8,
            "count": 0
           },
           {
            "bin_start": 5.8,
            "bin_end": 6.3999999999999995,
            "count": 31
           },
           {
            "bin_start": 6.3999999999999995,
            "bin_end": 7,
            "count": 12
           }
          ]
         }
        },
        {
         "name": "PostQues_25",
         "dtype": "int64",
         "stats": {
          "unique_count": 7,
          "nan_count": 0,
          "min": "1",
          "max": "7",
          "histogram": [
           {
            "bin_start": 1,
            "bin_end": 1.6,
            "count": 28
           },
           {
            "bin_start": 1.6,
            "bin_end": 2.2,
            "count": 85
           },
           {
            "bin_start": 2.2,
            "bin_end": 2.8,
            "count": 0
           },
           {
            "bin_start": 2.8,
            "bin_end": 3.4,
            "count": 15
           },
           {
            "bin_start": 3.4,
            "bin_end": 4,
            "count": 0
           },
           {
            "bin_start": 4,
            "bin_end": 4.6,
            "count": 60
           },
           {
            "bin_start": 4.6,
            "bin_end": 5.2,
            "count": 8
           },
           {
            "bin_start": 5.2,
            "bin_end": 5.8,
            "count": 0
           },
           {
            "bin_start": 5.8,
            "bin_end": 6.3999999999999995,
            "count": 1
           },
           {
            "bin_start": 6.3999999999999995,
            "bin_end": 7,
            "count": 3
           }
          ]
         }
        },
        {
         "name": "false_memories",
         "dtype": "int64",
         "stats": {
          "unique_count": 6,
          "nan_count": 0,
          "min": "0",
          "max": "5",
          "histogram": [
           {
            "bin_start": 0,
            "bin_end": 0.5,
            "count": 71
           },
           {
            "bin_start": 0.5,
            "bin_end": 1,
            "count": 0
           },
           {
            "bin_start": 1,
            "bin_end": 1.5,
            "count": 58
           },
           {
            "bin_start": 1.5,
            "bin_end": 2,
            "count": 0
           },
           {
            "bin_start": 2,
            "bin_end": 2.5,
            "count": 42
           },
           {
            "bin_start": 2.5,
            "bin_end": 3,
            "count": 0
           },
           {
            "bin_start": 3,
            "bin_end": 3.5,
            "count": 20
           },
           {
            "bin_start": 3.5,
            "bin_end": 4,
            "count": 0
           },
           {
            "bin_start": 4,
            "bin_end": 4.5,
            "count": 8
           },
           {
            "bin_start": 4.5,
            "bin_end": 5,
            "count": 1
           }
          ]
         }
        },
        {
         "name": "_deepnote_index_column",
         "dtype": "int64"
        }
       ],
       "rows": [
        {
         "Exp_condition": "survey-based",
         "PostQues_3": 4,
         "PostQues_10": 5,
         "PostQues_14": 4,
         "PostQues_20": 4,
         "PostQues_25": 2,
         "false_memories": 1,
         "_deepnote_index_column": 36
        },
        {
         "Exp_condition": "static-chatbot",
         "PostQues_3": 4,
         "PostQues_10": 3,
         "PostQues_14": 2,
         "PostQues_20": 4,
         "PostQues_25": 2,
         "false_memories": 0,
         "_deepnote_index_column": 37
        },
        {
         "Exp_condition": "none",
         "PostQues_3": 1,
         "PostQues_10": 2,
         "PostQues_14": 2,
         "PostQues_20": 4,
         "PostQues_25": 1,
         "false_memories": 0,
         "_deepnote_index_column": 38
        },
        {
         "Exp_condition": "chatbot",
         "PostQues_3": 4,
         "PostQues_10": 3,
         "PostQues_14": 2,
         "PostQues_20": 2,
         "PostQues_25": 2,
         "false_memories": 0,
         "_deepnote_index_column": 39
        },
        {
         "Exp_condition": "none",
         "PostQues_3": 2,
         "PostQues_10": 6,
         "PostQues_14": 2,
         "PostQues_20": 4,
         "PostQues_25": 2,
         "false_memories": 1,
         "_deepnote_index_column": 40
        }
       ]
      },
      "text/plain": "      Exp_condition  PostQues_3  PostQues_10  PostQues_14  PostQues_20  \\\n36     survey-based           4            5            4            4   \n37   static-chatbot           4            3            2            4   \n38             none           1            2            2            4   \n39          chatbot           4            3            2            2   \n40             none           2            6            2            4   \n..              ...         ...          ...          ...          ...   \n236  static-chatbot           5            7            2            6   \n237  static-chatbot           1            5            3            6   \n239    survey-based           4            2            1            7   \n240         chatbot           4            6            2            4   \n242    survey-based           4            5            4            4   \n\n     PostQues_25  false_memories  \n36             2               1  \n37             2               0  \n38             1               0  \n39             2               0  \n40             2               1  \n..           ...             ...  \n236            4               3  \n237            4               2  \n239            1               1  \n240            2               1  \n242            2               1  \n\n[200 rows x 7 columns]",
      "text/html": "<div>\n<style scoped>\n    .dataframe tbody tr th:only-of-type {\n        vertical-align: middle;\n    }\n\n    .dataframe tbody tr th {\n        vertical-align: top;\n    }\n\n    .dataframe thead th {\n        text-align: right;\n    }\n</style>\n<table border=\"1\" class=\"dataframe\">\n  <thead>\n    <tr style=\"text-align: right;\">\n      <th></th>\n      <th>Exp_condition</th>\n      <th>PostQues_3</th>\n      <th>PostQues_10</th>\n      <th>PostQues_14</th>\n      <th>PostQues_20</th>\n      <th>PostQues_25</th>\n      <th>false_memories</th>\n    </tr>\n  </thead>\n  <tbody>\n    <tr>\n      <th>36</th>\n      <td>survey-based</td>\n      <td>4</td>\n      <td>5</td>\n      <td>4</td>\n      <td>4</td>\n      <td>2</td>\n      <td>1</td>\n    </tr>\n    <tr>\n      <th>37</th>\n      <td>static-chatbot</td>\n      <td>4</td>\n      <td>3</td>\n      <td>2</td>\n      <td>4</td>\n      <td>2</td>\n      <td>0</td>\n    </tr>\n    <tr>\n      <th>38</th>\n      <td>none</td>\n      <td>1</td>\n      <td>2</td>\n      <td>2</td>\n      <td>4</td>\n      <td>1</td>\n      <td>0</td>\n    </tr>\n    <tr>\n      <th>39</th>\n      <td>chatbot</td>\n      <td>4</td>\n      <td>3</td>\n      <td>2</td>\n      <td>2</td>\n      <td>2</td>\n      <td>0</td>\n    </tr>\n    <tr>\n      <th>40</th>\n      <td>none</td>\n      <td>2</td>\n      <td>6</td>\n      <td>2</td>\n      <td>4</td>\n      <td>2</td>\n      <td>1</td>\n    </tr>\n    <tr>\n      <th>...</th>\n      <td>...</td>\n      <td>...</td>\n      <td>...</td>\n      <td>...</td>\n      <td>...</td>\n      <td>...</td>\n      <td>...</td>\n    </tr>\n    <tr>\n      <th>236</th>\n      <td>static-chatbot</td>\n      <td>5</td>\n      <td>7</td>\n      <td>2</td>\n      <td>6</td>\n      <td>4</td>\n      <td>3</td>\n    </tr>\n    <tr>\n      <th>237</th>\n      <td>static-chatbot</td>\n      <td>1</td>\n      <td>5</td>\n      <td>3</td>\n      <td>6</td>\n      <td>4</td>\n      <td>2</td>\n    </tr>\n    <tr>\n      <th>239</th>\n      <td>survey-based</td>\n      <td>4</td>\n      <td>2</td>\n      <td>1</td>\n      <td>7</td>\n      <td>1</td>\n      <td>1</td>\n    </tr>\n    <tr>\n      <th>240</th>\n      <td>chatbot</td>\n      <td>4</td>\n      <td>6</td>\n      <td>2</td>\n      <td>4</td>\n      <td>2</td>\n      <td>1</td>\n    </tr>\n    <tr>\n      <th>242</th>\n      <td>survey-based</td>\n      <td>4</td>\n      <td>5</td>\n      <td>4</td>\n      <td>4</td>\n      <td>2</td>\n      <td>1</td>\n    </tr>\n  </tbody>\n</table>\n<p>200 rows × 7 columns</p>\n</div>"
     },
     "metadata": {}
    }
   ],
   "outputs_reference": "s3:deepnote-cell-outputs-production/e11ef4d9-5b91-4846-951f-c21ebd5dc663",
   "content_dependencies": null
  },
  {
   "cell_type": "code",
   "metadata": {
    "source_hash": null,
    "execution_start": 1717729805352,
    "execution_millis": 604,
    "deepnote_to_be_reexecuted": false,
    "cell_id": "27093d4f2ea443bd9a3a472f43b93ccc",
    "deepnote_cell_type": "code"
   },
   "source": "control_df = filtered_columns_df.loc[filtered_columns_df['Exp_condition'] == 'none']\nsurvey_df = filtered_columns_df.loc[filtered_columns_df['Exp_condition'] == 'survey-based']\nprescripted_df = filtered_columns_df.loc[filtered_columns_df['Exp_condition'] == 'static-chatbot']\ngenerative_df = filtered_columns_df.loc[filtered_columns_df['Exp_condition'] == 'chatbot']",
   "block_group": "2993d69a3a7f43299cd083844530fca2",
   "execution_count": null,
   "outputs": [],
   "outputs_reference": null,
   "content_dependencies": null
  },
  {
   "cell_type": "code",
   "metadata": {
    "source_hash": null,
    "execution_start": 1717729805364,
    "execution_millis": 593,
    "deepnote_chart_height": 405,
    "deepnote_variable_name": "filtered_columns_df",
    "deepnote_to_be_reexecuted": false,
    "deepnote_visualization_spec": {
     "layer": [
      {
       "layer": [
        {
         "mark": {
          "clip": true,
          "type": "bar",
          "color": "#2266D3",
          "tooltip": true
         },
         "encoding": {
          "x": {
           "sort": {
            "order": "ascending",
            "encoding": "y"
           },
           "type": "nominal",
           "field": "Exp_condition",
           "scale": {
            "type": "linear"
           }
          },
          "y": {
           "sort": null,
           "type": "quantitative",
           "field": "false_memories",
           "scale": {
            "type": "linear"
           },
           "format": {
            "type": "default",
            "decimals": null
           },
           "aggregate": "average",
           "formatType": "numberFormatFromNumberType"
          }
         }
        }
       ]
      }
     ],
     "title": "",
     "config": {
      "legend": {}
     },
     "$schema": "https://vega.github.io/schema/vega-lite/v5.json",
     "encoding": {},
     "usermeta": {
      "tooltipDefaultMode": true
     }
    },
    "cell_id": "6cb96ba99b13488db772d8d5597d8a60",
    "deepnote_cell_type": "visualization"
   },
   "source": "DeepnoteChart(filtered_columns_df, \"\"\"{\"layer\":[{\"layer\":[{\"mark\":{\"clip\":true,\"type\":\"bar\",\"color\":\"#2266D3\",\"tooltip\":true},\"encoding\":{\"x\":{\"sort\":{\"order\":\"ascending\",\"encoding\":\"y\"},\"type\":\"nominal\",\"field\":\"Exp_condition\",\"scale\":{\"type\":\"linear\"}},\"y\":{\"sort\":null,\"type\":\"quantitative\",\"field\":\"false_memories\",\"scale\":{\"type\":\"linear\"},\"format\":{\"type\":\"default\",\"decimals\":null},\"aggregate\":\"average\",\"formatType\":\"numberFormatFromNumberType\"}}}]}],\"title\":\"\",\"config\":{\"legend\":{}},\"$schema\":\"https://vega.github.io/schema/vega-lite/v5.json\",\"encoding\":{},\"usermeta\":{\"tooltipDefaultMode\":true}}\"\"\")",
   "block_group": "dcfb84eda7ab4288978f7669556d0ab3",
   "execution_count": null,
   "outputs": [
    {
     "output_type": "execute_result",
     "execution_count": 19,
     "data": {
      "application/vnd.vegalite.v5+json": {
       "layer": [
        {
         "layer": [
          {
           "mark": {
            "clip": true,
            "type": "bar",
            "color": "#2266D3",
            "tooltip": true
           },
           "encoding": {
            "x": {
             "sort": {
              "order": "ascending",
              "encoding": "y"
             },
             "type": "nominal",
             "field": "Exp_condition",
             "scale": {
              "type": "linear"
             }
            },
            "y": {
             "sort": null,
             "type": "quantitative",
             "field": "false_memories",
             "scale": {
              "type": "linear"
             },
             "format": {
              "type": "default",
              "decimals": null
             },
             "aggregate": "average",
             "formatType": "numberFormatFromNumberType"
            }
           }
          }
         ]
        }
       ],
       "title": "",
       "config": {
        "legend": {}
       },
       "$schema": "https://vega.github.io/schema/vega-lite/v5.json",
       "encoding": {},
       "usermeta": {
        "tooltipDefaultMode": true
       },
       "data": {
        "values": [
         {
          "Exp_condition": "survey-based",
          "PostQues_3": 4,
          "PostQues_10": 5,
          "PostQues_14": 4,
          "PostQues_20": 4,
          "PostQues_25": 2,
          "false_memories": 1
         },
         {
          "Exp_condition": "static-chatbot",
          "PostQues_3": 4,
          "PostQues_10": 3,
          "PostQues_14": 2,
          "PostQues_20": 4,
          "PostQues_25": 2,
          "false_memories": 0
         },
         {
          "Exp_condition": "none",
          "PostQues_3": 1,
          "PostQues_10": 2,
          "PostQues_14": 2,
          "PostQues_20": 4,
          "PostQues_25": 1,
          "false_memories": 0
         },
         {
          "Exp_condition": "chatbot",
          "PostQues_3": 4,
          "PostQues_10": 3,
          "PostQues_14": 2,
          "PostQues_20": 2,
          "PostQues_25": 2,
          "false_memories": 0
         },
         {
          "Exp_condition": "none",
          "PostQues_3": 2,
          "PostQues_10": 6,
          "PostQues_14": 2,
          "PostQues_20": 4,
          "PostQues_25": 2,
          "false_memories": 1
         },
         {
          "Exp_condition": "chatbot",
          "PostQues_3": 4,
          "PostQues_10": 4,
          "PostQues_14": 4,
          "PostQues_20": 4,
          "PostQues_25": 3,
          "false_memories": 0
         },
         {
          "Exp_condition": "static-chatbot",
          "PostQues_3": 1,
          "PostQues_10": 2,
          "PostQues_14": 2,
          "PostQues_20": 4,
          "PostQues_25": 4,
          "false_memories": 0
         },
         {
          "Exp_condition": "none",
          "PostQues_3": 2,
          "PostQues_10": 2,
          "PostQues_14": 1,
          "PostQues_20": 4,
          "PostQues_25": 1,
          "false_memories": 0
         },
         {
          "Exp_condition": "none",
          "PostQues_3": 1,
          "PostQues_10": 2,
          "PostQues_14": 2,
          "PostQues_20": 2,
          "PostQues_25": 1,
          "false_memories": 0
         },
         {
          "Exp_condition": "chatbot",
          "PostQues_3": 2,
          "PostQues_10": 5,
          "PostQues_14": 5,
          "PostQues_20": 2,
          "PostQues_25": 1,
          "false_memories": 2
         },
         {
          "Exp_condition": "chatbot",
          "PostQues_3": 1,
          "PostQues_10": 5,
          "PostQues_14": 3,
          "PostQues_20": 4,
          "PostQues_25": 2,
          "false_memories": 1
         },
         {
          "Exp_condition": "none",
          "PostQues_3": 2,
          "PostQues_10": 2,
          "PostQues_14": 2,
          "PostQues_20": 3,
          "PostQues_25": 1,
          "false_memories": 0
         },
         {
          "Exp_condition": "static-chatbot",
          "PostQues_3": 4,
          "PostQues_10": 4,
          "PostQues_14": 2,
          "PostQues_20": 5,
          "PostQues_25": 2,
          "false_memories": 1
         },
         {
          "Exp_condition": "none",
          "PostQues_3": 2,
          "PostQues_10": 6,
          "PostQues_14": 2,
          "PostQues_20": 6,
          "PostQues_25": 4,
          "false_memories": 2
         },
         {
          "Exp_condition": "static-chatbot",
          "PostQues_3": 2,
          "PostQues_10": 2,
          "PostQues_14": 2,
          "PostQues_20": 4,
          "PostQues_25": 2,
          "false_memories": 0
         },
         {
          "Exp_condition": "survey-based",
          "PostQues_3": 2,
          "PostQues_10": 2,
          "PostQues_14": 2,
          "PostQues_20": 6,
          "PostQues_25": 2,
          "false_memories": 1
         },
         {
          "Exp_condition": "none",
          "PostQues_3": 2,
          "PostQues_10": 4,
          "PostQues_14": 2,
          "PostQues_20": 3,
          "PostQues_25": 1,
          "false_memories": 0
         },
         {
          "Exp_condition": "none",
          "PostQues_3": 2,
          "PostQues_10": 3,
          "PostQues_14": 2,
          "PostQues_20": 5,
          "PostQues_25": 2,
          "false_memories": 1
         },
         {
          "Exp_condition": "chatbot",
          "PostQues_3": 4,
          "PostQues_10": 4,
          "PostQues_14": 4,
          "PostQues_20": 4,
          "PostQues_25": 2,
          "false_memories": 0
         },
         {
          "Exp_condition": "none",
          "PostQues_3": 2,
          "PostQues_10": 2,
          "PostQues_14": 2,
          "PostQues_20": 4,
          "PostQues_25": 2,
          "false_memories": 0
         },
         {
          "Exp_condition": "none",
          "PostQues_3": 2,
          "PostQues_10": 3,
          "PostQues_14": 1,
          "PostQues_20": 4,
          "PostQues_25": 1,
          "false_memories": 0
         },
         {
          "Exp_condition": "survey-based",
          "PostQues_3": 5,
          "PostQues_10": 2,
          "PostQues_14": 2,
          "PostQues_20": 2,
          "PostQues_25": 2,
          "false_memories": 1
         },
         {
          "Exp_condition": "static-chatbot",
          "PostQues_3": 6,
          "PostQues_10": 2,
          "PostQues_14": 2,
          "PostQues_20": 4,
          "PostQues_25": 1,
          "false_memories": 1
         },
         {
          "Exp_condition": "survey-based",
          "PostQues_3": 4,
          "PostQues_10": 4,
          "PostQues_14": 3,
          "PostQues_20": 3,
          "PostQues_25": 2,
          "false_memories": 0
         },
         {
          "Exp_condition": "survey-based",
          "PostQues_3": 2,
          "PostQues_10": 6,
          "PostQues_14": 2,
          "PostQues_20": 2,
          "PostQues_25": 2,
          "false_memories": 1
         },
         {
          "Exp_condition": "none",
          "PostQues_3": 5,
          "PostQues_10": 4,
          "PostQues_14": 3,
          "PostQues_20": 4,
          "PostQues_25": 2,
          "false_memories": 1
         },
         {
          "Exp_condition": "none",
          "PostQues_3": 4,
          "PostQues_10": 5,
          "PostQues_14": 4,
          "PostQues_20": 5,
          "PostQues_25": 2,
          "false_memories": 2
         },
         {
          "Exp_condition": "static-chatbot",
          "PostQues_3": 5,
          "PostQues_10": 5,
          "PostQues_14": 4,
          "PostQues_20": 5,
          "PostQues_25": 2,
          "false_memories": 3
         },
         {
          "Exp_condition": "chatbot",
          "PostQues_3": 7,
          "PostQues_10": 7,
          "PostQues_14": 7,
          "PostQues_20": 4,
          "PostQues_25": 7,
          "false_memories": 4
         },
         {
          "Exp_condition": "survey-based",
          "PostQues_3": 3,
          "PostQues_10": 5,
          "PostQues_14": 3,
          "PostQues_20": 4,
          "PostQues_25": 3,
          "false_memories": 1
         },
         {
          "Exp_condition": "static-chatbot",
          "PostQues_3": 1,
          "PostQues_10": 7,
          "PostQues_14": 1,
          "PostQues_20": 7,
          "PostQues_25": 2,
          "false_memories": 2
         },
         {
          "Exp_condition": "chatbot",
          "PostQues_3": 2,
          "PostQues_10": 3,
          "PostQues_14": 2,
          "PostQues_20": 4,
          "PostQues_25": 2,
          "false_memories": 0
         },
         {
          "Exp_condition": "none",
          "PostQues_3": 1,
          "PostQues_10": 2,
          "PostQues_14": 2,
          "PostQues_20": 2,
          "PostQues_25": 2,
          "false_memories": 0
         },
         {
          "Exp_condition": "survey-based",
          "PostQues_3": 1,
          "PostQues_10": 2,
          "PostQues_14": 1,
          "PostQues_20": 5,
          "PostQues_25": 2,
          "false_memories": 1
         },
         {
          "Exp_condition": "static-chatbot",
          "PostQues_3": 1,
          "PostQues_10": 3,
          "PostQues_14": 2,
          "PostQues_20": 5,
          "PostQues_25": 4,
          "false_memories": 1
         },
         {
          "Exp_condition": "none",
          "PostQues_3": 2,
          "PostQues_10": 5,
          "PostQues_14": 4,
          "PostQues_20": 4,
          "PostQues_25": 4,
          "false_memories": 1
         },
         {
          "Exp_condition": "survey-based",
          "PostQues_3": 2,
          "PostQues_10": 5,
          "PostQues_14": 4,
          "PostQues_20": 4,
          "PostQues_25": 4,
          "false_memories": 1
         },
         {
          "Exp_condition": "chatbot",
          "PostQues_3": 1,
          "PostQues_10": 7,
          "PostQues_14": 7,
          "PostQues_20": 7,
          "PostQues_25": 4,
          "false_memories": 3
         },
         {
          "Exp_condition": "none",
          "PostQues_3": 1,
          "PostQues_10": 4,
          "PostQues_14": 1,
          "PostQues_20": 4,
          "PostQues_25": 1,
          "false_memories": 0
         },
         {
          "Exp_condition": "survey-based",
          "PostQues_3": 2,
          "PostQues_10": 4,
          "PostQues_14": 2,
          "PostQues_20": 5,
          "PostQues_25": 4,
          "false_memories": 1
         },
         {
          "Exp_condition": "survey-based",
          "PostQues_3": 4,
          "PostQues_10": 6,
          "PostQues_14": 5,
          "PostQues_20": 2,
          "PostQues_25": 2,
          "false_memories": 2
         },
         {
          "Exp_condition": "none",
          "PostQues_3": 1,
          "PostQues_10": 6,
          "PostQues_14": 2,
          "PostQues_20": 6,
          "PostQues_25": 1,
          "false_memories": 2
         },
         {
          "Exp_condition": "static-chatbot",
          "PostQues_3": 2,
          "PostQues_10": 2,
          "PostQues_14": 2,
          "PostQues_20": 2,
          "PostQues_25": 2,
          "false_memories": 0
         },
         {
          "Exp_condition": "none",
          "PostQues_3": 2,
          "PostQues_10": 3,
          "PostQues_14": 6,
          "PostQues_20": 6,
          "PostQues_25": 2,
          "false_memories": 2
         },
         {
          "Exp_condition": "static-chatbot",
          "PostQues_3": 6,
          "PostQues_10": 6,
          "PostQues_14": 6,
          "PostQues_20": 7,
          "PostQues_25": 2,
          "false_memories": 4
         },
         {
          "Exp_condition": "static-chatbot",
          "PostQues_3": 4,
          "PostQues_10": 4,
          "PostQues_14": 4,
          "PostQues_20": 4,
          "PostQues_25": 4,
          "false_memories": 0
         },
         {
          "Exp_condition": "none",
          "PostQues_3": 2,
          "PostQues_10": 4,
          "PostQues_14": 4,
          "PostQues_20": 4,
          "PostQues_25": 2,
          "false_memories": 0
         },
         {
          "Exp_condition": "chatbot",
          "PostQues_3": 1,
          "PostQues_10": 5,
          "PostQues_14": 2,
          "PostQues_20": 6,
          "PostQues_25": 4,
          "false_memories": 2
         },
         {
          "Exp_condition": "none",
          "PostQues_3": 2,
          "PostQues_10": 4,
          "PostQues_14": 2,
          "PostQues_20": 4,
          "PostQues_25": 1,
          "false_memories": 0
         },
         {
          "Exp_condition": "survey-based",
          "PostQues_3": 5,
          "PostQues_10": 5,
          "PostQues_14": 3,
          "PostQues_20": 5,
          "PostQues_25": 2,
          "false_memories": 3
         },
         {
          "Exp_condition": "none",
          "PostQues_3": 2,
          "PostQues_10": 3,
          "PostQues_14": 2,
          "PostQues_20": 4,
          "PostQues_25": 2,
          "false_memories": 0
         },
         {
          "Exp_condition": "chatbot",
          "PostQues_3": 1,
          "PostQues_10": 2,
          "PostQues_14": 2,
          "PostQues_20": 6,
          "PostQues_25": 2,
          "false_memories": 1
         },
         {
          "Exp_condition": "chatbot",
          "PostQues_3": 6,
          "PostQues_10": 6,
          "PostQues_14": 6,
          "PostQues_20": 5,
          "PostQues_25": 5,
          "false_memories": 5
         },
         {
          "Exp_condition": "static-chatbot",
          "PostQues_3": 2,
          "PostQues_10": 5,
          "PostQues_14": 3,
          "PostQues_20": 4,
          "PostQues_25": 4,
          "false_memories": 1
         },
         {
          "Exp_condition": "static-chatbot",
          "PostQues_3": 2,
          "PostQues_10": 4,
          "PostQues_14": 4,
          "PostQues_20": 6,
          "PostQues_25": 4,
          "false_memories": 1
         },
         {
          "Exp_condition": "static-chatbot",
          "PostQues_3": 2,
          "PostQues_10": 2,
          "PostQues_14": 2,
          "PostQues_20": 5,
          "PostQues_25": 2,
          "false_memories": 1
         },
         {
          "Exp_condition": "chatbot",
          "PostQues_3": 5,
          "PostQues_10": 5,
          "PostQues_14": 5,
          "PostQues_20": 5,
          "PostQues_25": 2,
          "false_memories": 4
         },
         {
          "Exp_condition": "none",
          "PostQues_3": 2,
          "PostQues_10": 2,
          "PostQues_14": 2,
          "PostQues_20": 6,
          "PostQues_25": 2,
          "false_memories": 1
         },
         {
          "Exp_condition": "survey-based",
          "PostQues_3": 1,
          "PostQues_10": 6,
          "PostQues_14": 3,
          "PostQues_20": 4,
          "PostQues_25": 2,
          "false_memories": 1
         },
         {
          "Exp_condition": "none",
          "PostQues_3": 5,
          "PostQues_10": 2,
          "PostQues_14": 2,
          "PostQues_20": 4,
          "PostQues_25": 2,
          "false_memories": 1
         },
         {
          "Exp_condition": "static-chatbot",
          "PostQues_3": 2,
          "PostQues_10": 4,
          "PostQues_14": 2,
          "PostQues_20": 3,
          "PostQues_25": 1,
          "false_memories": 0
         },
         {
          "Exp_condition": "static-chatbot",
          "PostQues_3": 2,
          "PostQues_10": 3,
          "PostQues_14": 3,
          "PostQues_20": 4,
          "PostQues_25": 4,
          "false_memories": 0
         },
         {
          "Exp_condition": "none",
          "PostQues_3": 2,
          "PostQues_10": 2,
          "PostQues_14": 2,
          "PostQues_20": 4,
          "PostQues_25": 2,
          "false_memories": 0
         },
         {
          "Exp_condition": "none",
          "PostQues_3": 1,
          "PostQues_10": 2,
          "PostQues_14": 2,
          "PostQues_20": 3,
          "PostQues_25": 2,
          "false_memories": 0
         },
         {
          "Exp_condition": "static-chatbot",
          "PostQues_3": 6,
          "PostQues_10": 4,
          "PostQues_14": 2,
          "PostQues_20": 5,
          "PostQues_25": 5,
          "false_memories": 3
         },
         {
          "Exp_condition": "static-chatbot",
          "PostQues_3": 4,
          "PostQues_10": 5,
          "PostQues_14": 2,
          "PostQues_20": 4,
          "PostQues_25": 3,
          "false_memories": 1
         },
         {
          "Exp_condition": "static-chatbot",
          "PostQues_3": 3,
          "PostQues_10": 2,
          "PostQues_14": 2,
          "PostQues_20": 4,
          "PostQues_25": 2,
          "false_memories": 0
         },
         {
          "Exp_condition": "survey-based",
          "PostQues_3": 1,
          "PostQues_10": 5,
          "PostQues_14": 1,
          "PostQues_20": 4,
          "PostQues_25": 2,
          "false_memories": 1
         },
         {
          "Exp_condition": "survey-based",
          "PostQues_3": 5,
          "PostQues_10": 4,
          "PostQues_14": 4,
          "PostQues_20": 4,
          "PostQues_25": 4,
          "false_memories": 1
         },
         {
          "Exp_condition": "static-chatbot",
          "PostQues_3": 2,
          "PostQues_10": 5,
          "PostQues_14": 2,
          "PostQues_20": 2,
          "PostQues_25": 2,
          "false_memories": 1
         },
         {
          "Exp_condition": "survey-based",
          "PostQues_3": 4,
          "PostQues_10": 6,
          "PostQues_14": 2,
          "PostQues_20": 2,
          "PostQues_25": 3,
          "false_memories": 1
         },
         {
          "Exp_condition": "chatbot",
          "PostQues_3": 4,
          "PostQues_10": 6,
          "PostQues_14": 6,
          "PostQues_20": 4,
          "PostQues_25": 4,
          "false_memories": 2
         },
         {
          "Exp_condition": "none",
          "PostQues_3": 4,
          "PostQues_10": 2,
          "PostQues_14": 1,
          "PostQues_20": 2,
          "PostQues_25": 2,
          "false_memories": 0
         },
         {
          "Exp_condition": "survey-based",
          "PostQues_3": 2,
          "PostQues_10": 2,
          "PostQues_14": 2,
          "PostQues_20": 6,
          "PostQues_25": 4,
          "false_memories": 1
         },
         {
          "Exp_condition": "static-chatbot",
          "PostQues_3": 3,
          "PostQues_10": 7,
          "PostQues_14": 2,
          "PostQues_20": 5,
          "PostQues_25": 4,
          "false_memories": 2
         },
         {
          "Exp_condition": "none",
          "PostQues_3": 5,
          "PostQues_10": 2,
          "PostQues_14": 2,
          "PostQues_20": 4,
          "PostQues_25": 4,
          "false_memories": 1
         },
         {
          "Exp_condition": "none",
          "PostQues_3": 3,
          "PostQues_10": 2,
          "PostQues_14": 2,
          "PostQues_20": 2,
          "PostQues_25": 2,
          "false_memories": 0
         },
         {
          "Exp_condition": "chatbot",
          "PostQues_3": 4,
          "PostQues_10": 6,
          "PostQues_14": 2,
          "PostQues_20": 2,
          "PostQues_25": 4,
          "false_memories": 1
         },
         {
          "Exp_condition": "chatbot",
          "PostQues_3": 7,
          "PostQues_10": 4,
          "PostQues_14": 5,
          "PostQues_20": 4,
          "PostQues_25": 4,
          "false_memories": 2
         },
         {
          "Exp_condition": "chatbot",
          "PostQues_3": 6,
          "PostQues_10": 4,
          "PostQues_14": 3,
          "PostQues_20": 5,
          "PostQues_25": 5,
          "false_memories": 3
         },
         {
          "Exp_condition": "chatbot",
          "PostQues_3": 4,
          "PostQues_10": 6,
          "PostQues_14": 4,
          "PostQues_20": 7,
          "PostQues_25": 4,
          "false_memories": 2
         },
         {
          "Exp_condition": "static-chatbot",
          "PostQues_3": 1,
          "PostQues_10": 2,
          "PostQues_14": 1,
          "PostQues_20": 2,
          "PostQues_25": 2,
          "false_memories": 0
         },
         {
          "Exp_condition": "survey-based",
          "PostQues_3": 7,
          "PostQues_10": 6,
          "PostQues_14": 2,
          "PostQues_20": 4,
          "PostQues_25": 2,
          "false_memories": 2
         },
         {
          "Exp_condition": "static-chatbot",
          "PostQues_3": 1,
          "PostQues_10": 6,
          "PostQues_14": 2,
          "PostQues_20": 6,
          "PostQues_25": 4,
          "false_memories": 2
         },
         {
          "Exp_condition": "static-chatbot",
          "PostQues_3": 2,
          "PostQues_10": 3,
          "PostQues_14": 4,
          "PostQues_20": 4,
          "PostQues_25": 4,
          "false_memories": 0
         },
         {
          "Exp_condition": "chatbot",
          "PostQues_3": 6,
          "PostQues_10": 6,
          "PostQues_14": 2,
          "PostQues_20": 2,
          "PostQues_25": 2,
          "false_memories": 2
         },
         {
          "Exp_condition": "none",
          "PostQues_3": 4,
          "PostQues_10": 1,
          "PostQues_14": 2,
          "PostQues_20": 2,
          "PostQues_25": 1,
          "false_memories": 0
         },
         {
          "Exp_condition": "survey-based",
          "PostQues_3": 2,
          "PostQues_10": 4,
          "PostQues_14": 2,
          "PostQues_20": 2,
          "PostQues_25": 1,
          "false_memories": 0
         },
         {
          "Exp_condition": "chatbot",
          "PostQues_3": 7,
          "PostQues_10": 5,
          "PostQues_14": 1,
          "PostQues_20": 6,
          "PostQues_25": 2,
          "false_memories": 3
         },
         {
          "Exp_condition": "none",
          "PostQues_3": 1,
          "PostQues_10": 3,
          "PostQues_14": 2,
          "PostQues_20": 4,
          "PostQues_25": 4,
          "false_memories": 0
         },
         {
          "Exp_condition": "chatbot",
          "PostQues_3": 4,
          "PostQues_10": 4,
          "PostQues_14": 2,
          "PostQues_20": 4,
          "PostQues_25": 4,
          "false_memories": 0
         },
         {
          "Exp_condition": "static-chatbot",
          "PostQues_3": 2,
          "PostQues_10": 2,
          "PostQues_14": 2,
          "PostQues_20": 4,
          "PostQues_25": 2,
          "false_memories": 0
         },
         {
          "Exp_condition": "static-chatbot",
          "PostQues_3": 2,
          "PostQues_10": 7,
          "PostQues_14": 3,
          "PostQues_20": 4,
          "PostQues_25": 4,
          "false_memories": 1
         },
         {
          "Exp_condition": "static-chatbot",
          "PostQues_3": 3,
          "PostQues_10": 4,
          "PostQues_14": 3,
          "PostQues_20": 6,
          "PostQues_25": 2,
          "false_memories": 1
         },
         {
          "Exp_condition": "survey-based",
          "PostQues_3": 2,
          "PostQues_10": 5,
          "PostQues_14": 2,
          "PostQues_20": 2,
          "PostQues_25": 2,
          "false_memories": 1
         },
         {
          "Exp_condition": "survey-based",
          "PostQues_3": 3,
          "PostQues_10": 4,
          "PostQues_14": 2,
          "PostQues_20": 3,
          "PostQues_25": 1,
          "false_memories": 0
         },
         {
          "Exp_condition": "static-chatbot",
          "PostQues_3": 2,
          "PostQues_10": 2,
          "PostQues_14": 1,
          "PostQues_20": 1,
          "PostQues_25": 4,
          "false_memories": 0
         },
         {
          "Exp_condition": "chatbot",
          "PostQues_3": 1,
          "PostQues_10": 4,
          "PostQues_14": 7,
          "PostQues_20": 4,
          "PostQues_25": 4,
          "false_memories": 1
         },
         {
          "Exp_condition": "survey-based",
          "PostQues_3": 4,
          "PostQues_10": 4,
          "PostQues_14": 2,
          "PostQues_20": 4,
          "PostQues_25": 7,
          "false_memories": 1
         },
         {
          "Exp_condition": "chatbot",
          "PostQues_3": 2,
          "PostQues_10": 2,
          "PostQues_14": 1,
          "PostQues_20": 5,
          "PostQues_25": 1,
          "false_memories": 1
         },
         {
          "Exp_condition": "chatbot",
          "PostQues_3": 3,
          "PostQues_10": 7,
          "PostQues_14": 5,
          "PostQues_20": 5,
          "PostQues_25": 5,
          "false_memories": 4
         },
         {
          "Exp_condition": "static-chatbot",
          "PostQues_3": 2,
          "PostQues_10": 6,
          "PostQues_14": 3,
          "PostQues_20": 4,
          "PostQues_25": 4,
          "false_memories": 1
         },
         {
          "Exp_condition": "chatbot",
          "PostQues_3": 1,
          "PostQues_10": 6,
          "PostQues_14": 6,
          "PostQues_20": 4,
          "PostQues_25": 4,
          "false_memories": 2
         },
         {
          "Exp_condition": "survey-based",
          "PostQues_3": 4,
          "PostQues_10": 5,
          "PostQues_14": 2,
          "PostQues_20": 5,
          "PostQues_25": 3,
          "false_memories": 2
         },
         {
          "Exp_condition": "static-chatbot",
          "PostQues_3": 2,
          "PostQues_10": 2,
          "PostQues_14": 2,
          "PostQues_20": 6,
          "PostQues_25": 2,
          "false_memories": 1
         },
         {
          "Exp_condition": "survey-based",
          "PostQues_3": 1,
          "PostQues_10": 2,
          "PostQues_14": 1,
          "PostQues_20": 2,
          "PostQues_25": 1,
          "false_memories": 0
         },
         {
          "Exp_condition": "chatbot",
          "PostQues_3": 2,
          "PostQues_10": 3,
          "PostQues_14": 2,
          "PostQues_20": 4,
          "PostQues_25": 3,
          "false_memories": 0
         },
         {
          "Exp_condition": "survey-based",
          "PostQues_3": 5,
          "PostQues_10": 5,
          "PostQues_14": 3,
          "PostQues_20": 3,
          "PostQues_25": 2,
          "false_memories": 2
         },
         {
          "Exp_condition": "survey-based",
          "PostQues_3": 2,
          "PostQues_10": 2,
          "PostQues_14": 2,
          "PostQues_20": 2,
          "PostQues_25": 2,
          "false_memories": 0
         },
         {
          "Exp_condition": "survey-based",
          "PostQues_3": 2,
          "PostQues_10": 5,
          "PostQues_14": 4,
          "PostQues_20": 5,
          "PostQues_25": 2,
          "false_memories": 2
         },
         {
          "Exp_condition": "none",
          "PostQues_3": 7,
          "PostQues_10": 5,
          "PostQues_14": 2,
          "PostQues_20": 4,
          "PostQues_25": 2,
          "false_memories": 2
         },
         {
          "Exp_condition": "survey-based",
          "PostQues_3": 1,
          "PostQues_10": 4,
          "PostQues_14": 1,
          "PostQues_20": 4,
          "PostQues_25": 1,
          "false_memories": 0
         },
         {
          "Exp_condition": "none",
          "PostQues_3": 2,
          "PostQues_10": 2,
          "PostQues_14": 2,
          "PostQues_20": 4,
          "PostQues_25": 2,
          "false_memories": 0
         },
         {
          "Exp_condition": "survey-based",
          "PostQues_3": 2,
          "PostQues_10": 4,
          "PostQues_14": 2,
          "PostQues_20": 2,
          "PostQues_25": 2,
          "false_memories": 0
         },
         {
          "Exp_condition": "chatbot",
          "PostQues_3": 2,
          "PostQues_10": 6,
          "PostQues_14": 2,
          "PostQues_20": 6,
          "PostQues_25": 6,
          "false_memories": 3
         },
         {
          "Exp_condition": "chatbot",
          "PostQues_3": 2,
          "PostQues_10": 6,
          "PostQues_14": 2,
          "PostQues_20": 6,
          "PostQues_25": 1,
          "false_memories": 2
         },
         {
          "Exp_condition": "chatbot",
          "PostQues_3": 4,
          "PostQues_10": 4,
          "PostQues_14": 4,
          "PostQues_20": 4,
          "PostQues_25": 3,
          "false_memories": 0
         },
         {
          "Exp_condition": "chatbot",
          "PostQues_3": 6,
          "PostQues_10": 4,
          "PostQues_14": 4,
          "PostQues_20": 6,
          "PostQues_25": 4,
          "false_memories": 2
         },
         {
          "Exp_condition": "survey-based",
          "PostQues_3": 2,
          "PostQues_10": 4,
          "PostQues_14": 2,
          "PostQues_20": 7,
          "PostQues_25": 2,
          "false_memories": 1
         },
         {
          "Exp_condition": "chatbot",
          "PostQues_3": 2,
          "PostQues_10": 6,
          "PostQues_14": 4,
          "PostQues_20": 4,
          "PostQues_25": 4,
          "false_memories": 1
         },
         {
          "Exp_condition": "survey-based",
          "PostQues_3": 7,
          "PostQues_10": 5,
          "PostQues_14": 4,
          "PostQues_20": 4,
          "PostQues_25": 5,
          "false_memories": 3
         },
         {
          "Exp_condition": "static-chatbot",
          "PostQues_3": 6,
          "PostQues_10": 6,
          "PostQues_14": 6,
          "PostQues_20": 6,
          "PostQues_25": 4,
          "false_memories": 4
         },
         {
          "Exp_condition": "chatbot",
          "PostQues_3": 2,
          "PostQues_10": 5,
          "PostQues_14": 3,
          "PostQues_20": 5,
          "PostQues_25": 2,
          "false_memories": 2
         },
         {
          "Exp_condition": "static-chatbot",
          "PostQues_3": 3,
          "PostQues_10": 3,
          "PostQues_14": 5,
          "PostQues_20": 3,
          "PostQues_25": 4,
          "false_memories": 1
         },
         {
          "Exp_condition": "chatbot",
          "PostQues_3": 7,
          "PostQues_10": 5,
          "PostQues_14": 3,
          "PostQues_20": 5,
          "PostQues_25": 2,
          "false_memories": 3
         },
         {
          "Exp_condition": "static-chatbot",
          "PostQues_3": 5,
          "PostQues_10": 6,
          "PostQues_14": 4,
          "PostQues_20": 6,
          "PostQues_25": 7,
          "false_memories": 4
         },
         {
          "Exp_condition": "none",
          "PostQues_3": 1,
          "PostQues_10": 5,
          "PostQues_14": 2,
          "PostQues_20": 5,
          "PostQues_25": 2,
          "false_memories": 2
         },
         {
          "Exp_condition": "survey-based",
          "PostQues_3": 1,
          "PostQues_10": 2,
          "PostQues_14": 4,
          "PostQues_20": 3,
          "PostQues_25": 2,
          "false_memories": 0
         },
         {
          "Exp_condition": "none",
          "PostQues_3": 2,
          "PostQues_10": 2,
          "PostQues_14": 2,
          "PostQues_20": 4,
          "PostQues_25": 2,
          "false_memories": 0
         },
         {
          "Exp_condition": "survey-based",
          "PostQues_3": 4,
          "PostQues_10": 4,
          "PostQues_14": 2,
          "PostQues_20": 4,
          "PostQues_25": 4,
          "false_memories": 0
         },
         {
          "Exp_condition": "none",
          "PostQues_3": 3,
          "PostQues_10": 2,
          "PostQues_14": 3,
          "PostQues_20": 4,
          "PostQues_25": 4,
          "false_memories": 0
         },
         {
          "Exp_condition": "chatbot",
          "PostQues_3": 3,
          "PostQues_10": 3,
          "PostQues_14": 6,
          "PostQues_20": 5,
          "PostQues_25": 5,
          "false_memories": 3
         },
         {
          "Exp_condition": "none",
          "PostQues_3": 3,
          "PostQues_10": 4,
          "PostQues_14": 2,
          "PostQues_20": 2,
          "PostQues_25": 2,
          "false_memories": 0
         },
         {
          "Exp_condition": "static-chatbot",
          "PostQues_3": 2,
          "PostQues_10": 2,
          "PostQues_14": 1,
          "PostQues_20": 7,
          "PostQues_25": 1,
          "false_memories": 1
         },
         {
          "Exp_condition": "static-chatbot",
          "PostQues_3": 2,
          "PostQues_10": 4,
          "PostQues_14": 5,
          "PostQues_20": 5,
          "PostQues_25": 2,
          "false_memories": 2
         },
         {
          "Exp_condition": "chatbot",
          "PostQues_3": 7,
          "PostQues_10": 4,
          "PostQues_14": 4,
          "PostQues_20": 7,
          "PostQues_25": 4,
          "false_memories": 2
         },
         {
          "Exp_condition": "survey-based",
          "PostQues_3": 2,
          "PostQues_10": 2,
          "PostQues_14": 2,
          "PostQues_20": 2,
          "PostQues_25": 2,
          "false_memories": 0
         },
         {
          "Exp_condition": "survey-based",
          "PostQues_3": 5,
          "PostQues_10": 3,
          "PostQues_14": 2,
          "PostQues_20": 5,
          "PostQues_25": 2,
          "false_memories": 2
         },
         {
          "Exp_condition": "none",
          "PostQues_3": 1,
          "PostQues_10": 4,
          "PostQues_14": 1,
          "PostQues_20": 1,
          "PostQues_25": 4,
          "false_memories": 0
         },
         {
          "Exp_condition": "chatbot",
          "PostQues_3": 2,
          "PostQues_10": 5,
          "PostQues_14": 4,
          "PostQues_20": 5,
          "PostQues_25": 2,
          "false_memories": 2
         },
         {
          "Exp_condition": "chatbot",
          "PostQues_3": 2,
          "PostQues_10": 6,
          "PostQues_14": 2,
          "PostQues_20": 6,
          "PostQues_25": 4,
          "false_memories": 2
         },
         {
          "Exp_condition": "none",
          "PostQues_3": 4,
          "PostQues_10": 4,
          "PostQues_14": 2,
          "PostQues_20": 3,
          "PostQues_25": 1,
          "false_memories": 0
         },
         {
          "Exp_condition": "none",
          "PostQues_3": 6,
          "PostQues_10": 5,
          "PostQues_14": 7,
          "PostQues_20": 7,
          "PostQues_25": 3,
          "false_memories": 4
         },
         {
          "Exp_condition": "static-chatbot",
          "PostQues_3": 3,
          "PostQues_10": 7,
          "PostQues_14": 2,
          "PostQues_20": 4,
          "PostQues_25": 3,
          "false_memories": 1
         },
         {
          "Exp_condition": "none",
          "PostQues_3": 4,
          "PostQues_10": 4,
          "PostQues_14": 4,
          "PostQues_20": 1,
          "PostQues_25": 1,
          "false_memories": 0
         },
         {
          "Exp_condition": "none",
          "PostQues_3": 1,
          "PostQues_10": 4,
          "PostQues_14": 2,
          "PostQues_20": 4,
          "PostQues_25": 2,
          "false_memories": 0
         },
         {
          "Exp_condition": "chatbot",
          "PostQues_3": 6,
          "PostQues_10": 4,
          "PostQues_14": 2,
          "PostQues_20": 6,
          "PostQues_25": 2,
          "false_memories": 2
         },
         {
          "Exp_condition": "static-chatbot",
          "PostQues_3": 5,
          "PostQues_10": 4,
          "PostQues_14": 2,
          "PostQues_20": 5,
          "PostQues_25": 4,
          "false_memories": 2
         },
         {
          "Exp_condition": "none",
          "PostQues_3": 1,
          "PostQues_10": 3,
          "PostQues_14": 2,
          "PostQues_20": 5,
          "PostQues_25": 1,
          "false_memories": 1
         },
         {
          "Exp_condition": "survey-based",
          "PostQues_3": 4,
          "PostQues_10": 5,
          "PostQues_14": 2,
          "PostQues_20": 4,
          "PostQues_25": 4,
          "false_memories": 1
         },
         {
          "Exp_condition": "static-chatbot",
          "PostQues_3": 4,
          "PostQues_10": 4,
          "PostQues_14": 2,
          "PostQues_20": 4,
          "PostQues_25": 4,
          "false_memories": 0
         },
         {
          "Exp_condition": "chatbot",
          "PostQues_3": 2,
          "PostQues_10": 2,
          "PostQues_14": 2,
          "PostQues_20": 2,
          "PostQues_25": 2,
          "false_memories": 0
         },
         {
          "Exp_condition": "chatbot",
          "PostQues_3": 4,
          "PostQues_10": 5,
          "PostQues_14": 4,
          "PostQues_20": 5,
          "PostQues_25": 4,
          "false_memories": 2
         },
         {
          "Exp_condition": "none",
          "PostQues_3": 2,
          "PostQues_10": 4,
          "PostQues_14": 2,
          "PostQues_20": 4,
          "PostQues_25": 4,
          "false_memories": 0
         },
         {
          "Exp_condition": "static-chatbot",
          "PostQues_3": 4,
          "PostQues_10": 5,
          "PostQues_14": 5,
          "PostQues_20": 5,
          "PostQues_25": 3,
          "false_memories": 3
         },
         {
          "Exp_condition": "survey-based",
          "PostQues_3": 6,
          "PostQues_10": 4,
          "PostQues_14": 4,
          "PostQues_20": 5,
          "PostQues_25": 2,
          "false_memories": 2
         },
         {
          "Exp_condition": "survey-based",
          "PostQues_3": 3,
          "PostQues_10": 5,
          "PostQues_14": 2,
          "PostQues_20": 3,
          "PostQues_25": 2,
          "false_memories": 1
         },
         {
          "Exp_condition": "none",
          "PostQues_3": 2,
          "PostQues_10": 4,
          "PostQues_14": 2,
          "PostQues_20": 2,
          "PostQues_25": 2,
          "false_memories": 0
         },
         {
          "Exp_condition": "static-chatbot",
          "PostQues_3": 4,
          "PostQues_10": 4,
          "PostQues_14": 2,
          "PostQues_20": 6,
          "PostQues_25": 4,
          "false_memories": 1
         },
         {
          "Exp_condition": "none",
          "PostQues_3": 2,
          "PostQues_10": 2,
          "PostQues_14": 1,
          "PostQues_20": 6,
          "PostQues_25": 1,
          "false_memories": 1
         },
         {
          "Exp_condition": "none",
          "PostQues_3": 2,
          "PostQues_10": 3,
          "PostQues_14": 2,
          "PostQues_20": 4,
          "PostQues_25": 1,
          "false_memories": 0
         },
         {
          "Exp_condition": "none",
          "PostQues_3": 1,
          "PostQues_10": 3,
          "PostQues_14": 2,
          "PostQues_20": 3,
          "PostQues_25": 2,
          "false_memories": 0
         },
         {
          "Exp_condition": "chatbot",
          "PostQues_3": 2,
          "PostQues_10": 7,
          "PostQues_14": 7,
          "PostQues_20": 6,
          "PostQues_25": 4,
          "false_memories": 3
         },
         {
          "Exp_condition": "survey-based",
          "PostQues_3": 2,
          "PostQues_10": 6,
          "PostQues_14": 3,
          "PostQues_20": 2,
          "PostQues_25": 2,
          "false_memories": 1
         },
         {
          "Exp_condition": "chatbot",
          "PostQues_3": 5,
          "PostQues_10": 6,
          "PostQues_14": 5,
          "PostQues_20": 4,
          "PostQues_25": 4,
          "false_memories": 3
         },
         {
          "Exp_condition": "static-chatbot",
          "PostQues_3": 1,
          "PostQues_10": 3,
          "PostQues_14": 3,
          "PostQues_20": 1,
          "PostQues_25": 2,
          "false_memories": 0
         },
         {
          "Exp_condition": "survey-based",
          "PostQues_3": 4,
          "PostQues_10": 5,
          "PostQues_14": 2,
          "PostQues_20": 1,
          "PostQues_25": 4,
          "false_memories": 1
         },
         {
          "Exp_condition": "none",
          "PostQues_3": 1,
          "PostQues_10": 3,
          "PostQues_14": 2,
          "PostQues_20": 2,
          "PostQues_25": 4,
          "false_memories": 0
         },
         {
          "Exp_condition": "chatbot",
          "PostQues_3": 2,
          "PostQues_10": 5,
          "PostQues_14": 4,
          "PostQues_20": 6,
          "PostQues_25": 2,
          "false_memories": 2
         },
         {
          "Exp_condition": "static-chatbot",
          "PostQues_3": 5,
          "PostQues_10": 6,
          "PostQues_14": 5,
          "PostQues_20": 5,
          "PostQues_25": 4,
          "false_memories": 4
         },
         {
          "Exp_condition": "none",
          "PostQues_3": 2,
          "PostQues_10": 4,
          "PostQues_14": 2,
          "PostQues_20": 4,
          "PostQues_25": 3,
          "false_memories": 0
         },
         {
          "Exp_condition": "none",
          "PostQues_3": 2,
          "PostQues_10": 2,
          "PostQues_14": 2,
          "PostQues_20": 2,
          "PostQues_25": 4,
          "false_memories": 0
         },
         {
          "Exp_condition": "static-chatbot",
          "PostQues_3": 7,
          "PostQues_10": 7,
          "PostQues_14": 3,
          "PostQues_20": 6,
          "PostQues_25": 4,
          "false_memories": 3
         },
         {
          "Exp_condition": "chatbot",
          "PostQues_3": 6,
          "PostQues_10": 7,
          "PostQues_14": 4,
          "PostQues_20": 4,
          "PostQues_25": 4,
          "false_memories": 2
         },
         {
          "Exp_condition": "chatbot",
          "PostQues_3": 2,
          "PostQues_10": 7,
          "PostQues_14": 7,
          "PostQues_20": 7,
          "PostQues_25": 2,
          "false_memories": 3
         },
         {
          "Exp_condition": "chatbot",
          "PostQues_3": 2,
          "PostQues_10": 4,
          "PostQues_14": 3,
          "PostQues_20": 4,
          "PostQues_25": 4,
          "false_memories": 0
         },
         {
          "Exp_condition": "static-chatbot",
          "PostQues_3": 1,
          "PostQues_10": 6,
          "PostQues_14": 6,
          "PostQues_20": 6,
          "PostQues_25": 4,
          "false_memories": 3
         },
         {
          "Exp_condition": "survey-based",
          "PostQues_3": 1,
          "PostQues_10": 4,
          "PostQues_14": 2,
          "PostQues_20": 4,
          "PostQues_25": 2,
          "false_memories": 0
         },
         {
          "Exp_condition": "survey-based",
          "PostQues_3": 7,
          "PostQues_10": 2,
          "PostQues_14": 3,
          "PostQues_20": 4,
          "PostQues_25": 1,
          "false_memories": 1
         },
         {
          "Exp_condition": "survey-based",
          "PostQues_3": 6,
          "PostQues_10": 3,
          "PostQues_14": 2,
          "PostQues_20": 3,
          "PostQues_25": 2,
          "false_memories": 1
         },
         {
          "Exp_condition": "static-chatbot",
          "PostQues_3": 4,
          "PostQues_10": 5,
          "PostQues_14": 5,
          "PostQues_20": 6,
          "PostQues_25": 4,
          "false_memories": 3
         },
         {
          "Exp_condition": "chatbot",
          "PostQues_3": 4,
          "PostQues_10": 5,
          "PostQues_14": 2,
          "PostQues_20": 6,
          "PostQues_25": 5,
          "false_memories": 3
         },
         {
          "Exp_condition": "static-chatbot",
          "PostQues_3": 1,
          "PostQues_10": 2,
          "PostQues_14": 2,
          "PostQues_20": 4,
          "PostQues_25": 4,
          "false_memories": 0
         },
         {
          "Exp_condition": "none",
          "PostQues_3": 7,
          "PostQues_10": 6,
          "PostQues_14": 2,
          "PostQues_20": 3,
          "PostQues_25": 2,
          "false_memories": 2
         },
         {
          "Exp_condition": "static-chatbot",
          "PostQues_3": 4,
          "PostQues_10": 4,
          "PostQues_14": 2,
          "PostQues_20": 4,
          "PostQues_25": 3,
          "false_memories": 0
         },
         {
          "Exp_condition": "chatbot",
          "PostQues_3": 2,
          "PostQues_10": 3,
          "PostQues_14": 2,
          "PostQues_20": 2,
          "PostQues_25": 2,
          "false_memories": 0
         },
         {
          "Exp_condition": "chatbot",
          "PostQues_3": 2,
          "PostQues_10": 6,
          "PostQues_14": 6,
          "PostQues_20": 4,
          "PostQues_25": 2,
          "false_memories": 2
         },
         {
          "Exp_condition": "static-chatbot",
          "PostQues_3": 2,
          "PostQues_10": 6,
          "PostQues_14": 3,
          "PostQues_20": 5,
          "PostQues_25": 3,
          "false_memories": 2
         },
         {
          "Exp_condition": "chatbot",
          "PostQues_3": 4,
          "PostQues_10": 6,
          "PostQues_14": 2,
          "PostQues_20": 4,
          "PostQues_25": 4,
          "false_memories": 1
         },
         {
          "Exp_condition": "survey-based",
          "PostQues_3": 2,
          "PostQues_10": 6,
          "PostQues_14": 4,
          "PostQues_20": 6,
          "PostQues_25": 4,
          "false_memories": 2
         },
         {
          "Exp_condition": "survey-based",
          "PostQues_3": 4,
          "PostQues_10": 5,
          "PostQues_14": 6,
          "PostQues_20": 7,
          "PostQues_25": 1,
          "false_memories": 3
         },
         {
          "Exp_condition": "survey-based",
          "PostQues_3": 2,
          "PostQues_10": 6,
          "PostQues_14": 3,
          "PostQues_20": 5,
          "PostQues_25": 3,
          "false_memories": 2
         },
         {
          "Exp_condition": "survey-based",
          "PostQues_3": 2,
          "PostQues_10": 3,
          "PostQues_14": 2,
          "PostQues_20": 7,
          "PostQues_25": 2,
          "false_memories": 1
         },
         {
          "Exp_condition": "survey-based",
          "PostQues_3": 4,
          "PostQues_10": 4,
          "PostQues_14": 2,
          "PostQues_20": 4,
          "PostQues_25": 3,
          "false_memories": 0
         },
         {
          "Exp_condition": "survey-based",
          "PostQues_3": 1,
          "PostQues_10": 5,
          "PostQues_14": 4,
          "PostQues_20": 4,
          "PostQues_25": 5,
          "false_memories": 2
         },
         {
          "Exp_condition": "static-chatbot",
          "PostQues_3": 5,
          "PostQues_10": 7,
          "PostQues_14": 2,
          "PostQues_20": 6,
          "PostQues_25": 4,
          "false_memories": 3
         },
         {
          "Exp_condition": "static-chatbot",
          "PostQues_3": 1,
          "PostQues_10": 5,
          "PostQues_14": 3,
          "PostQues_20": 6,
          "PostQues_25": 4,
          "false_memories": 2
         },
         {
          "Exp_condition": "survey-based",
          "PostQues_3": 4,
          "PostQues_10": 2,
          "PostQues_14": 1,
          "PostQues_20": 7,
          "PostQues_25": 1,
          "false_memories": 1
         },
         {
          "Exp_condition": "chatbot",
          "PostQues_3": 4,
          "PostQues_10": 6,
          "PostQues_14": 2,
          "PostQues_20": 4,
          "PostQues_25": 2,
          "false_memories": 1
         },
         {
          "Exp_condition": "survey-based",
          "PostQues_3": 4,
          "PostQues_10": 5,
          "PostQues_14": 4,
          "PostQues_20": 4,
          "PostQues_25": 2,
          "false_memories": 1
         }
        ]
       }
      },
      "text/plain": "<__main__.DeepnoteChart at 0x7f59d7f9f9d0>"
     },
     "metadata": {}
    }
   ],
   "outputs_reference": "s3:deepnote-cell-outputs-production/8741dd57-4095-4579-8e73-48954278fddd"
  },
  {
   "cell_type": "code",
   "metadata": {
    "allow_embed": false,
    "source_hash": null,
    "execution_start": 1717729805530,
    "execution_millis": 427,
    "deepnote_chart_height": 405,
    "deepnote_variable_name": "control_df",
    "deepnote_to_be_reexecuted": false,
    "deepnote_visualization_spec": {
     "layer": [
      {
       "layer": [
        {
         "mark": {
          "clip": true,
          "type": "bar",
          "color": "#2266D3",
          "tooltip": true
         },
         "encoding": {
          "x": {
           "bin": true,
           "axis": {
            "grid": false
           },
           "sort": null,
           "type": "quantitative",
           "field": "false_memories"
          },
          "y": {
           "axis": {
            "grid": false
           },
           "sort": null,
           "type": "quantitative",
           "scale": {
            "type": "linear"
           },
           "format": {
            "type": "default",
            "decimals": null
           },
           "aggregate": "count",
           "formatType": "numberFormatFromNumberType"
          }
         }
        }
       ]
      }
     ],
     "title": "",
     "config": {
      "legend": {}
     },
     "$schema": "https://vega.github.io/schema/vega-lite/v5.json",
     "encoding": {},
     "usermeta": {
      "aditionalTypeInfo": {
       "histogramLayerIndexes": [
        0
       ]
      },
      "tooltipDefaultMode": true
     }
    },
    "cell_id": "b576c363082f48e8a536baa28b9b5a82",
    "deepnote_cell_type": "visualization"
   },
   "source": "DeepnoteChart(control_df, \"\"\"{\"layer\":[{\"layer\":[{\"mark\":{\"clip\":true,\"type\":\"bar\",\"color\":\"#2266D3\",\"tooltip\":true},\"encoding\":{\"x\":{\"bin\":true,\"axis\":{\"grid\":false},\"sort\":null,\"type\":\"quantitative\",\"field\":\"false_memories\"},\"y\":{\"axis\":{\"grid\":false},\"sort\":null,\"type\":\"quantitative\",\"scale\":{\"type\":\"linear\"},\"format\":{\"type\":\"default\",\"decimals\":null},\"aggregate\":\"count\",\"formatType\":\"numberFormatFromNumberType\"}}}]}],\"title\":\"\",\"config\":{\"legend\":{}},\"$schema\":\"https://vega.github.io/schema/vega-lite/v5.json\",\"encoding\":{},\"usermeta\":{\"aditionalTypeInfo\":{\"histogramLayerIndexes\":[0]},\"tooltipDefaultMode\":true}}\"\"\")",
   "block_group": "2aa31d241d67487ca5bd239ebe6689b8",
   "execution_count": null,
   "outputs": [
    {
     "output_type": "execute_result",
     "execution_count": 20,
     "data": {
      "application/vnd.vegalite.v5+json": {
       "layer": [
        {
         "layer": [
          {
           "mark": {
            "clip": true,
            "type": "bar",
            "color": "#2266D3",
            "tooltip": true
           },
           "encoding": {
            "x": {
             "bin": true,
             "axis": {
              "grid": false
             },
             "sort": null,
             "type": "quantitative",
             "field": "false_memories"
            },
            "y": {
             "axis": {
              "grid": false
             },
             "sort": null,
             "type": "quantitative",
             "scale": {
              "type": "linear"
             },
             "format": {
              "type": "default",
              "decimals": null
             },
             "aggregate": "count",
             "formatType": "numberFormatFromNumberType"
            }
           }
          }
         ]
        }
       ],
       "title": "",
       "config": {
        "legend": {}
       },
       "$schema": "https://vega.github.io/schema/vega-lite/v5.json",
       "encoding": {},
       "usermeta": {
        "aditionalTypeInfo": {
         "histogramLayerIndexes": [
          0
         ]
        },
        "tooltipDefaultMode": true
       },
       "data": {
        "values": [
         {
          "Exp_condition": "none",
          "PostQues_3": 1,
          "PostQues_10": 2,
          "PostQues_14": 2,
          "PostQues_20": 4,
          "PostQues_25": 1,
          "false_memories": 0
         },
         {
          "Exp_condition": "none",
          "PostQues_3": 2,
          "PostQues_10": 6,
          "PostQues_14": 2,
          "PostQues_20": 4,
          "PostQues_25": 2,
          "false_memories": 1
         },
         {
          "Exp_condition": "none",
          "PostQues_3": 2,
          "PostQues_10": 2,
          "PostQues_14": 1,
          "PostQues_20": 4,
          "PostQues_25": 1,
          "false_memories": 0
         },
         {
          "Exp_condition": "none",
          "PostQues_3": 1,
          "PostQues_10": 2,
          "PostQues_14": 2,
          "PostQues_20": 2,
          "PostQues_25": 1,
          "false_memories": 0
         },
         {
          "Exp_condition": "none",
          "PostQues_3": 2,
          "PostQues_10": 2,
          "PostQues_14": 2,
          "PostQues_20": 3,
          "PostQues_25": 1,
          "false_memories": 0
         },
         {
          "Exp_condition": "none",
          "PostQues_3": 2,
          "PostQues_10": 6,
          "PostQues_14": 2,
          "PostQues_20": 6,
          "PostQues_25": 4,
          "false_memories": 2
         },
         {
          "Exp_condition": "none",
          "PostQues_3": 2,
          "PostQues_10": 4,
          "PostQues_14": 2,
          "PostQues_20": 3,
          "PostQues_25": 1,
          "false_memories": 0
         },
         {
          "Exp_condition": "none",
          "PostQues_3": 2,
          "PostQues_10": 3,
          "PostQues_14": 2,
          "PostQues_20": 5,
          "PostQues_25": 2,
          "false_memories": 1
         },
         {
          "Exp_condition": "none",
          "PostQues_3": 2,
          "PostQues_10": 2,
          "PostQues_14": 2,
          "PostQues_20": 4,
          "PostQues_25": 2,
          "false_memories": 0
         },
         {
          "Exp_condition": "none",
          "PostQues_3": 2,
          "PostQues_10": 3,
          "PostQues_14": 1,
          "PostQues_20": 4,
          "PostQues_25": 1,
          "false_memories": 0
         },
         {
          "Exp_condition": "none",
          "PostQues_3": 5,
          "PostQues_10": 4,
          "PostQues_14": 3,
          "PostQues_20": 4,
          "PostQues_25": 2,
          "false_memories": 1
         },
         {
          "Exp_condition": "none",
          "PostQues_3": 4,
          "PostQues_10": 5,
          "PostQues_14": 4,
          "PostQues_20": 5,
          "PostQues_25": 2,
          "false_memories": 2
         },
         {
          "Exp_condition": "none",
          "PostQues_3": 1,
          "PostQues_10": 2,
          "PostQues_14": 2,
          "PostQues_20": 2,
          "PostQues_25": 2,
          "false_memories": 0
         },
         {
          "Exp_condition": "none",
          "PostQues_3": 2,
          "PostQues_10": 5,
          "PostQues_14": 4,
          "PostQues_20": 4,
          "PostQues_25": 4,
          "false_memories": 1
         },
         {
          "Exp_condition": "none",
          "PostQues_3": 1,
          "PostQues_10": 4,
          "PostQues_14": 1,
          "PostQues_20": 4,
          "PostQues_25": 1,
          "false_memories": 0
         },
         {
          "Exp_condition": "none",
          "PostQues_3": 1,
          "PostQues_10": 6,
          "PostQues_14": 2,
          "PostQues_20": 6,
          "PostQues_25": 1,
          "false_memories": 2
         },
         {
          "Exp_condition": "none",
          "PostQues_3": 2,
          "PostQues_10": 3,
          "PostQues_14": 6,
          "PostQues_20": 6,
          "PostQues_25": 2,
          "false_memories": 2
         },
         {
          "Exp_condition": "none",
          "PostQues_3": 2,
          "PostQues_10": 4,
          "PostQues_14": 4,
          "PostQues_20": 4,
          "PostQues_25": 2,
          "false_memories": 0
         },
         {
          "Exp_condition": "none",
          "PostQues_3": 2,
          "PostQues_10": 4,
          "PostQues_14": 2,
          "PostQues_20": 4,
          "PostQues_25": 1,
          "false_memories": 0
         },
         {
          "Exp_condition": "none",
          "PostQues_3": 2,
          "PostQues_10": 3,
          "PostQues_14": 2,
          "PostQues_20": 4,
          "PostQues_25": 2,
          "false_memories": 0
         },
         {
          "Exp_condition": "none",
          "PostQues_3": 2,
          "PostQues_10": 2,
          "PostQues_14": 2,
          "PostQues_20": 6,
          "PostQues_25": 2,
          "false_memories": 1
         },
         {
          "Exp_condition": "none",
          "PostQues_3": 5,
          "PostQues_10": 2,
          "PostQues_14": 2,
          "PostQues_20": 4,
          "PostQues_25": 2,
          "false_memories": 1
         },
         {
          "Exp_condition": "none",
          "PostQues_3": 2,
          "PostQues_10": 2,
          "PostQues_14": 2,
          "PostQues_20": 4,
          "PostQues_25": 2,
          "false_memories": 0
         },
         {
          "Exp_condition": "none",
          "PostQues_3": 1,
          "PostQues_10": 2,
          "PostQues_14": 2,
          "PostQues_20": 3,
          "PostQues_25": 2,
          "false_memories": 0
         },
         {
          "Exp_condition": "none",
          "PostQues_3": 4,
          "PostQues_10": 2,
          "PostQues_14": 1,
          "PostQues_20": 2,
          "PostQues_25": 2,
          "false_memories": 0
         },
         {
          "Exp_condition": "none",
          "PostQues_3": 5,
          "PostQues_10": 2,
          "PostQues_14": 2,
          "PostQues_20": 4,
          "PostQues_25": 4,
          "false_memories": 1
         },
         {
          "Exp_condition": "none",
          "PostQues_3": 3,
          "PostQues_10": 2,
          "PostQues_14": 2,
          "PostQues_20": 2,
          "PostQues_25": 2,
          "false_memories": 0
         },
         {
          "Exp_condition": "none",
          "PostQues_3": 4,
          "PostQues_10": 1,
          "PostQues_14": 2,
          "PostQues_20": 2,
          "PostQues_25": 1,
          "false_memories": 0
         },
         {
          "Exp_condition": "none",
          "PostQues_3": 1,
          "PostQues_10": 3,
          "PostQues_14": 2,
          "PostQues_20": 4,
          "PostQues_25": 4,
          "false_memories": 0
         },
         {
          "Exp_condition": "none",
          "PostQues_3": 7,
          "PostQues_10": 5,
          "PostQues_14": 2,
          "PostQues_20": 4,
          "PostQues_25": 2,
          "false_memories": 2
         },
         {
          "Exp_condition": "none",
          "PostQues_3": 2,
          "PostQues_10": 2,
          "PostQues_14": 2,
          "PostQues_20": 4,
          "PostQues_25": 2,
          "false_memories": 0
         },
         {
          "Exp_condition": "none",
          "PostQues_3": 1,
          "PostQues_10": 5,
          "PostQues_14": 2,
          "PostQues_20": 5,
          "PostQues_25": 2,
          "false_memories": 2
         },
         {
          "Exp_condition": "none",
          "PostQues_3": 2,
          "PostQues_10": 2,
          "PostQues_14": 2,
          "PostQues_20": 4,
          "PostQues_25": 2,
          "false_memories": 0
         },
         {
          "Exp_condition": "none",
          "PostQues_3": 3,
          "PostQues_10": 2,
          "PostQues_14": 3,
          "PostQues_20": 4,
          "PostQues_25": 4,
          "false_memories": 0
         },
         {
          "Exp_condition": "none",
          "PostQues_3": 3,
          "PostQues_10": 4,
          "PostQues_14": 2,
          "PostQues_20": 2,
          "PostQues_25": 2,
          "false_memories": 0
         },
         {
          "Exp_condition": "none",
          "PostQues_3": 1,
          "PostQues_10": 4,
          "PostQues_14": 1,
          "PostQues_20": 1,
          "PostQues_25": 4,
          "false_memories": 0
         },
         {
          "Exp_condition": "none",
          "PostQues_3": 4,
          "PostQues_10": 4,
          "PostQues_14": 2,
          "PostQues_20": 3,
          "PostQues_25": 1,
          "false_memories": 0
         },
         {
          "Exp_condition": "none",
          "PostQues_3": 6,
          "PostQues_10": 5,
          "PostQues_14": 7,
          "PostQues_20": 7,
          "PostQues_25": 3,
          "false_memories": 4
         },
         {
          "Exp_condition": "none",
          "PostQues_3": 4,
          "PostQues_10": 4,
          "PostQues_14": 4,
          "PostQues_20": 1,
          "PostQues_25": 1,
          "false_memories": 0
         },
         {
          "Exp_condition": "none",
          "PostQues_3": 1,
          "PostQues_10": 4,
          "PostQues_14": 2,
          "PostQues_20": 4,
          "PostQues_25": 2,
          "false_memories": 0
         },
         {
          "Exp_condition": "none",
          "PostQues_3": 1,
          "PostQues_10": 3,
          "PostQues_14": 2,
          "PostQues_20": 5,
          "PostQues_25": 1,
          "false_memories": 1
         },
         {
          "Exp_condition": "none",
          "PostQues_3": 2,
          "PostQues_10": 4,
          "PostQues_14": 2,
          "PostQues_20": 4,
          "PostQues_25": 4,
          "false_memories": 0
         },
         {
          "Exp_condition": "none",
          "PostQues_3": 2,
          "PostQues_10": 4,
          "PostQues_14": 2,
          "PostQues_20": 2,
          "PostQues_25": 2,
          "false_memories": 0
         },
         {
          "Exp_condition": "none",
          "PostQues_3": 2,
          "PostQues_10": 2,
          "PostQues_14": 1,
          "PostQues_20": 6,
          "PostQues_25": 1,
          "false_memories": 1
         },
         {
          "Exp_condition": "none",
          "PostQues_3": 2,
          "PostQues_10": 3,
          "PostQues_14": 2,
          "PostQues_20": 4,
          "PostQues_25": 1,
          "false_memories": 0
         },
         {
          "Exp_condition": "none",
          "PostQues_3": 1,
          "PostQues_10": 3,
          "PostQues_14": 2,
          "PostQues_20": 3,
          "PostQues_25": 2,
          "false_memories": 0
         },
         {
          "Exp_condition": "none",
          "PostQues_3": 1,
          "PostQues_10": 3,
          "PostQues_14": 2,
          "PostQues_20": 2,
          "PostQues_25": 4,
          "false_memories": 0
         },
         {
          "Exp_condition": "none",
          "PostQues_3": 2,
          "PostQues_10": 4,
          "PostQues_14": 2,
          "PostQues_20": 4,
          "PostQues_25": 3,
          "false_memories": 0
         },
         {
          "Exp_condition": "none",
          "PostQues_3": 2,
          "PostQues_10": 2,
          "PostQues_14": 2,
          "PostQues_20": 2,
          "PostQues_25": 4,
          "false_memories": 0
         },
         {
          "Exp_condition": "none",
          "PostQues_3": 7,
          "PostQues_10": 6,
          "PostQues_14": 2,
          "PostQues_20": 3,
          "PostQues_25": 2,
          "false_memories": 2
         }
        ]
       }
      },
      "text/plain": "<__main__.DeepnoteChart at 0x7f59d5afb6a0>"
     },
     "metadata": {}
    }
   ],
   "outputs_reference": "s3:deepnote-cell-outputs-production/39ec8fd6-9abb-4fe0-a6dc-ee6fa7ce74dd"
  },
  {
   "cell_type": "code",
   "metadata": {
    "allow_embed": false,
    "source_hash": null,
    "execution_start": 1717729805533,
    "execution_millis": 424,
    "deepnote_chart_height": 405,
    "deepnote_variable_name": "survey_df",
    "deepnote_to_be_reexecuted": false,
    "deepnote_visualization_spec": {
     "layer": [
      {
       "layer": [
        {
         "mark": {
          "clip": true,
          "type": "bar",
          "color": "#2266D3",
          "tooltip": true
         },
         "encoding": {
          "x": {
           "bin": true,
           "axis": {
            "grid": false
           },
           "sort": null,
           "type": "quantitative",
           "field": "false_memories"
          },
          "y": {
           "axis": {
            "grid": false
           },
           "sort": null,
           "type": "quantitative",
           "scale": {
            "type": "linear"
           },
           "format": {
            "type": "default",
            "decimals": null
           },
           "aggregate": "count",
           "formatType": "numberFormatFromNumberType"
          }
         }
        }
       ]
      }
     ],
     "title": "",
     "config": {
      "legend": {}
     },
     "$schema": "https://vega.github.io/schema/vega-lite/v5.json",
     "encoding": {},
     "usermeta": {
      "aditionalTypeInfo": {
       "histogramLayerIndexes": [
        0
       ]
      },
      "tooltipDefaultMode": true
     }
    },
    "cell_id": "a529e5460dae4ce78fc3d0cda7e3fd58",
    "deepnote_cell_type": "visualization"
   },
   "source": "DeepnoteChart(survey_df, \"\"\"{\"layer\":[{\"layer\":[{\"mark\":{\"clip\":true,\"type\":\"bar\",\"color\":\"#2266D3\",\"tooltip\":true},\"encoding\":{\"x\":{\"bin\":true,\"axis\":{\"grid\":false},\"sort\":null,\"type\":\"quantitative\",\"field\":\"false_memories\"},\"y\":{\"axis\":{\"grid\":false},\"sort\":null,\"type\":\"quantitative\",\"scale\":{\"type\":\"linear\"},\"format\":{\"type\":\"default\",\"decimals\":null},\"aggregate\":\"count\",\"formatType\":\"numberFormatFromNumberType\"}}}]}],\"title\":\"\",\"config\":{\"legend\":{}},\"$schema\":\"https://vega.github.io/schema/vega-lite/v5.json\",\"encoding\":{},\"usermeta\":{\"aditionalTypeInfo\":{\"histogramLayerIndexes\":[0]},\"tooltipDefaultMode\":true}}\"\"\")",
   "block_group": "e6a5be18758f410685a43c0c6be58bdf",
   "execution_count": null,
   "outputs": [
    {
     "output_type": "execute_result",
     "execution_count": 21,
     "data": {
      "application/vnd.vegalite.v5+json": {
       "layer": [
        {
         "layer": [
          {
           "mark": {
            "clip": true,
            "type": "bar",
            "color": "#2266D3",
            "tooltip": true
           },
           "encoding": {
            "x": {
             "bin": true,
             "axis": {
              "grid": false
             },
             "sort": null,
             "type": "quantitative",
             "field": "false_memories"
            },
            "y": {
             "axis": {
              "grid": false
             },
             "sort": null,
             "type": "quantitative",
             "scale": {
              "type": "linear"
             },
             "format": {
              "type": "default",
              "decimals": null
             },
             "aggregate": "count",
             "formatType": "numberFormatFromNumberType"
            }
           }
          }
         ]
        }
       ],
       "title": "",
       "config": {
        "legend": {}
       },
       "$schema": "https://vega.github.io/schema/vega-lite/v5.json",
       "encoding": {},
       "usermeta": {
        "aditionalTypeInfo": {
         "histogramLayerIndexes": [
          0
         ]
        },
        "tooltipDefaultMode": true
       },
       "data": {
        "values": [
         {
          "Exp_condition": "survey-based",
          "PostQues_3": 4,
          "PostQues_10": 5,
          "PostQues_14": 4,
          "PostQues_20": 4,
          "PostQues_25": 2,
          "false_memories": 1
         },
         {
          "Exp_condition": "survey-based",
          "PostQues_3": 2,
          "PostQues_10": 2,
          "PostQues_14": 2,
          "PostQues_20": 6,
          "PostQues_25": 2,
          "false_memories": 1
         },
         {
          "Exp_condition": "survey-based",
          "PostQues_3": 5,
          "PostQues_10": 2,
          "PostQues_14": 2,
          "PostQues_20": 2,
          "PostQues_25": 2,
          "false_memories": 1
         },
         {
          "Exp_condition": "survey-based",
          "PostQues_3": 4,
          "PostQues_10": 4,
          "PostQues_14": 3,
          "PostQues_20": 3,
          "PostQues_25": 2,
          "false_memories": 0
         },
         {
          "Exp_condition": "survey-based",
          "PostQues_3": 2,
          "PostQues_10": 6,
          "PostQues_14": 2,
          "PostQues_20": 2,
          "PostQues_25": 2,
          "false_memories": 1
         },
         {
          "Exp_condition": "survey-based",
          "PostQues_3": 3,
          "PostQues_10": 5,
          "PostQues_14": 3,
          "PostQues_20": 4,
          "PostQues_25": 3,
          "false_memories": 1
         },
         {
          "Exp_condition": "survey-based",
          "PostQues_3": 1,
          "PostQues_10": 2,
          "PostQues_14": 1,
          "PostQues_20": 5,
          "PostQues_25": 2,
          "false_memories": 1
         },
         {
          "Exp_condition": "survey-based",
          "PostQues_3": 2,
          "PostQues_10": 5,
          "PostQues_14": 4,
          "PostQues_20": 4,
          "PostQues_25": 4,
          "false_memories": 1
         },
         {
          "Exp_condition": "survey-based",
          "PostQues_3": 2,
          "PostQues_10": 4,
          "PostQues_14": 2,
          "PostQues_20": 5,
          "PostQues_25": 4,
          "false_memories": 1
         },
         {
          "Exp_condition": "survey-based",
          "PostQues_3": 4,
          "PostQues_10": 6,
          "PostQues_14": 5,
          "PostQues_20": 2,
          "PostQues_25": 2,
          "false_memories": 2
         },
         {
          "Exp_condition": "survey-based",
          "PostQues_3": 5,
          "PostQues_10": 5,
          "PostQues_14": 3,
          "PostQues_20": 5,
          "PostQues_25": 2,
          "false_memories": 3
         },
         {
          "Exp_condition": "survey-based",
          "PostQues_3": 1,
          "PostQues_10": 6,
          "PostQues_14": 3,
          "PostQues_20": 4,
          "PostQues_25": 2,
          "false_memories": 1
         },
         {
          "Exp_condition": "survey-based",
          "PostQues_3": 1,
          "PostQues_10": 5,
          "PostQues_14": 1,
          "PostQues_20": 4,
          "PostQues_25": 2,
          "false_memories": 1
         },
         {
          "Exp_condition": "survey-based",
          "PostQues_3": 5,
          "PostQues_10": 4,
          "PostQues_14": 4,
          "PostQues_20": 4,
          "PostQues_25": 4,
          "false_memories": 1
         },
         {
          "Exp_condition": "survey-based",
          "PostQues_3": 4,
          "PostQues_10": 6,
          "PostQues_14": 2,
          "PostQues_20": 2,
          "PostQues_25": 3,
          "false_memories": 1
         },
         {
          "Exp_condition": "survey-based",
          "PostQues_3": 2,
          "PostQues_10": 2,
          "PostQues_14": 2,
          "PostQues_20": 6,
          "PostQues_25": 4,
          "false_memories": 1
         },
         {
          "Exp_condition": "survey-based",
          "PostQues_3": 7,
          "PostQues_10": 6,
          "PostQues_14": 2,
          "PostQues_20": 4,
          "PostQues_25": 2,
          "false_memories": 2
         },
         {
          "Exp_condition": "survey-based",
          "PostQues_3": 2,
          "PostQues_10": 4,
          "PostQues_14": 2,
          "PostQues_20": 2,
          "PostQues_25": 1,
          "false_memories": 0
         },
         {
          "Exp_condition": "survey-based",
          "PostQues_3": 2,
          "PostQues_10": 5,
          "PostQues_14": 2,
          "PostQues_20": 2,
          "PostQues_25": 2,
          "false_memories": 1
         },
         {
          "Exp_condition": "survey-based",
          "PostQues_3": 3,
          "PostQues_10": 4,
          "PostQues_14": 2,
          "PostQues_20": 3,
          "PostQues_25": 1,
          "false_memories": 0
         },
         {
          "Exp_condition": "survey-based",
          "PostQues_3": 4,
          "PostQues_10": 4,
          "PostQues_14": 2,
          "PostQues_20": 4,
          "PostQues_25": 7,
          "false_memories": 1
         },
         {
          "Exp_condition": "survey-based",
          "PostQues_3": 4,
          "PostQues_10": 5,
          "PostQues_14": 2,
          "PostQues_20": 5,
          "PostQues_25": 3,
          "false_memories": 2
         },
         {
          "Exp_condition": "survey-based",
          "PostQues_3": 1,
          "PostQues_10": 2,
          "PostQues_14": 1,
          "PostQues_20": 2,
          "PostQues_25": 1,
          "false_memories": 0
         },
         {
          "Exp_condition": "survey-based",
          "PostQues_3": 5,
          "PostQues_10": 5,
          "PostQues_14": 3,
          "PostQues_20": 3,
          "PostQues_25": 2,
          "false_memories": 2
         },
         {
          "Exp_condition": "survey-based",
          "PostQues_3": 2,
          "PostQues_10": 2,
          "PostQues_14": 2,
          "PostQues_20": 2,
          "PostQues_25": 2,
          "false_memories": 0
         },
         {
          "Exp_condition": "survey-based",
          "PostQues_3": 2,
          "PostQues_10": 5,
          "PostQues_14": 4,
          "PostQues_20": 5,
          "PostQues_25": 2,
          "false_memories": 2
         },
         {
          "Exp_condition": "survey-based",
          "PostQues_3": 1,
          "PostQues_10": 4,
          "PostQues_14": 1,
          "PostQues_20": 4,
          "PostQues_25": 1,
          "false_memories": 0
         },
         {
          "Exp_condition": "survey-based",
          "PostQues_3": 2,
          "PostQues_10": 4,
          "PostQues_14": 2,
          "PostQues_20": 2,
          "PostQues_25": 2,
          "false_memories": 0
         },
         {
          "Exp_condition": "survey-based",
          "PostQues_3": 2,
          "PostQues_10": 4,
          "PostQues_14": 2,
          "PostQues_20": 7,
          "PostQues_25": 2,
          "false_memories": 1
         },
         {
          "Exp_condition": "survey-based",
          "PostQues_3": 7,
          "PostQues_10": 5,
          "PostQues_14": 4,
          "PostQues_20": 4,
          "PostQues_25": 5,
          "false_memories": 3
         },
         {
          "Exp_condition": "survey-based",
          "PostQues_3": 1,
          "PostQues_10": 2,
          "PostQues_14": 4,
          "PostQues_20": 3,
          "PostQues_25": 2,
          "false_memories": 0
         },
         {
          "Exp_condition": "survey-based",
          "PostQues_3": 4,
          "PostQues_10": 4,
          "PostQues_14": 2,
          "PostQues_20": 4,
          "PostQues_25": 4,
          "false_memories": 0
         },
         {
          "Exp_condition": "survey-based",
          "PostQues_3": 2,
          "PostQues_10": 2,
          "PostQues_14": 2,
          "PostQues_20": 2,
          "PostQues_25": 2,
          "false_memories": 0
         },
         {
          "Exp_condition": "survey-based",
          "PostQues_3": 5,
          "PostQues_10": 3,
          "PostQues_14": 2,
          "PostQues_20": 5,
          "PostQues_25": 2,
          "false_memories": 2
         },
         {
          "Exp_condition": "survey-based",
          "PostQues_3": 4,
          "PostQues_10": 5,
          "PostQues_14": 2,
          "PostQues_20": 4,
          "PostQues_25": 4,
          "false_memories": 1
         },
         {
          "Exp_condition": "survey-based",
          "PostQues_3": 6,
          "PostQues_10": 4,
          "PostQues_14": 4,
          "PostQues_20": 5,
          "PostQues_25": 2,
          "false_memories": 2
         },
         {
          "Exp_condition": "survey-based",
          "PostQues_3": 3,
          "PostQues_10": 5,
          "PostQues_14": 2,
          "PostQues_20": 3,
          "PostQues_25": 2,
          "false_memories": 1
         },
         {
          "Exp_condition": "survey-based",
          "PostQues_3": 2,
          "PostQues_10": 6,
          "PostQues_14": 3,
          "PostQues_20": 2,
          "PostQues_25": 2,
          "false_memories": 1
         },
         {
          "Exp_condition": "survey-based",
          "PostQues_3": 4,
          "PostQues_10": 5,
          "PostQues_14": 2,
          "PostQues_20": 1,
          "PostQues_25": 4,
          "false_memories": 1
         },
         {
          "Exp_condition": "survey-based",
          "PostQues_3": 1,
          "PostQues_10": 4,
          "PostQues_14": 2,
          "PostQues_20": 4,
          "PostQues_25": 2,
          "false_memories": 0
         },
         {
          "Exp_condition": "survey-based",
          "PostQues_3": 7,
          "PostQues_10": 2,
          "PostQues_14": 3,
          "PostQues_20": 4,
          "PostQues_25": 1,
          "false_memories": 1
         },
         {
          "Exp_condition": "survey-based",
          "PostQues_3": 6,
          "PostQues_10": 3,
          "PostQues_14": 2,
          "PostQues_20": 3,
          "PostQues_25": 2,
          "false_memories": 1
         },
         {
          "Exp_condition": "survey-based",
          "PostQues_3": 2,
          "PostQues_10": 6,
          "PostQues_14": 4,
          "PostQues_20": 6,
          "PostQues_25": 4,
          "false_memories": 2
         },
         {
          "Exp_condition": "survey-based",
          "PostQues_3": 4,
          "PostQues_10": 5,
          "PostQues_14": 6,
          "PostQues_20": 7,
          "PostQues_25": 1,
          "false_memories": 3
         },
         {
          "Exp_condition": "survey-based",
          "PostQues_3": 2,
          "PostQues_10": 6,
          "PostQues_14": 3,
          "PostQues_20": 5,
          "PostQues_25": 3,
          "false_memories": 2
         },
         {
          "Exp_condition": "survey-based",
          "PostQues_3": 2,
          "PostQues_10": 3,
          "PostQues_14": 2,
          "PostQues_20": 7,
          "PostQues_25": 2,
          "false_memories": 1
         },
         {
          "Exp_condition": "survey-based",
          "PostQues_3": 4,
          "PostQues_10": 4,
          "PostQues_14": 2,
          "PostQues_20": 4,
          "PostQues_25": 3,
          "false_memories": 0
         },
         {
          "Exp_condition": "survey-based",
          "PostQues_3": 1,
          "PostQues_10": 5,
          "PostQues_14": 4,
          "PostQues_20": 4,
          "PostQues_25": 5,
          "false_memories": 2
         },
         {
          "Exp_condition": "survey-based",
          "PostQues_3": 4,
          "PostQues_10": 2,
          "PostQues_14": 1,
          "PostQues_20": 7,
          "PostQues_25": 1,
          "false_memories": 1
         },
         {
          "Exp_condition": "survey-based",
          "PostQues_3": 4,
          "PostQues_10": 5,
          "PostQues_14": 4,
          "PostQues_20": 4,
          "PostQues_25": 2,
          "false_memories": 1
         }
        ]
       }
      },
      "text/plain": "<__main__.DeepnoteChart at 0x7f59d5a9ab50>"
     },
     "metadata": {}
    }
   ],
   "outputs_reference": "s3:deepnote-cell-outputs-production/bf915945-2549-4dc9-b121-88179be6da2c"
  },
  {
   "cell_type": "code",
   "metadata": {
    "allow_embed": false,
    "source_hash": null,
    "execution_start": 1717729805564,
    "execution_millis": 394,
    "deepnote_chart_height": 405,
    "deepnote_variable_name": "prescripted_df",
    "deepnote_to_be_reexecuted": false,
    "deepnote_visualization_spec": {
     "layer": [
      {
       "layer": [
        {
         "mark": {
          "clip": true,
          "type": "bar",
          "color": "#2266D3",
          "tooltip": true
         },
         "encoding": {
          "x": {
           "bin": true,
           "axis": {
            "grid": false
           },
           "sort": null,
           "type": "quantitative",
           "field": "false_memories"
          },
          "y": {
           "axis": {
            "grid": false
           },
           "sort": null,
           "type": "quantitative",
           "scale": {
            "type": "linear"
           },
           "format": {
            "type": "default",
            "decimals": null
           },
           "aggregate": "count",
           "formatType": "numberFormatFromNumberType"
          }
         }
        }
       ]
      }
     ],
     "title": "",
     "config": {
      "legend": {}
     },
     "$schema": "https://vega.github.io/schema/vega-lite/v5.json",
     "encoding": {},
     "usermeta": {
      "aditionalTypeInfo": {
       "histogramLayerIndexes": [
        0
       ]
      },
      "tooltipDefaultMode": true
     }
    },
    "cell_id": "287c24d3bf71427b9758e625018aefe7",
    "deepnote_cell_type": "visualization"
   },
   "source": "DeepnoteChart(prescripted_df, \"\"\"{\"layer\":[{\"layer\":[{\"mark\":{\"clip\":true,\"type\":\"bar\",\"color\":\"#2266D3\",\"tooltip\":true},\"encoding\":{\"x\":{\"bin\":true,\"axis\":{\"grid\":false},\"sort\":null,\"type\":\"quantitative\",\"field\":\"false_memories\"},\"y\":{\"axis\":{\"grid\":false},\"sort\":null,\"type\":\"quantitative\",\"scale\":{\"type\":\"linear\"},\"format\":{\"type\":\"default\",\"decimals\":null},\"aggregate\":\"count\",\"formatType\":\"numberFormatFromNumberType\"}}}]}],\"title\":\"\",\"config\":{\"legend\":{}},\"$schema\":\"https://vega.github.io/schema/vega-lite/v5.json\",\"encoding\":{},\"usermeta\":{\"aditionalTypeInfo\":{\"histogramLayerIndexes\":[0]},\"tooltipDefaultMode\":true}}\"\"\")",
   "block_group": "83d0d64b5928432198e9a7926e9bd679",
   "execution_count": null,
   "outputs": [
    {
     "output_type": "execute_result",
     "execution_count": 22,
     "data": {
      "application/vnd.vegalite.v5+json": {
       "layer": [
        {
         "layer": [
          {
           "mark": {
            "clip": true,
            "type": "bar",
            "color": "#2266D3",
            "tooltip": true
           },
           "encoding": {
            "x": {
             "bin": true,
             "axis": {
              "grid": false
             },
             "sort": null,
             "type": "quantitative",
             "field": "false_memories"
            },
            "y": {
             "axis": {
              "grid": false
             },
             "sort": null,
             "type": "quantitative",
             "scale": {
              "type": "linear"
             },
             "format": {
              "type": "default",
              "decimals": null
             },
             "aggregate": "count",
             "formatType": "numberFormatFromNumberType"
            }
           }
          }
         ]
        }
       ],
       "title": "",
       "config": {
        "legend": {}
       },
       "$schema": "https://vega.github.io/schema/vega-lite/v5.json",
       "encoding": {},
       "usermeta": {
        "aditionalTypeInfo": {
         "histogramLayerIndexes": [
          0
         ]
        },
        "tooltipDefaultMode": true
       },
       "data": {
        "values": [
         {
          "Exp_condition": "static-chatbot",
          "PostQues_3": 4,
          "PostQues_10": 3,
          "PostQues_14": 2,
          "PostQues_20": 4,
          "PostQues_25": 2,
          "false_memories": 0
         },
         {
          "Exp_condition": "static-chatbot",
          "PostQues_3": 1,
          "PostQues_10": 2,
          "PostQues_14": 2,
          "PostQues_20": 4,
          "PostQues_25": 4,
          "false_memories": 0
         },
         {
          "Exp_condition": "static-chatbot",
          "PostQues_3": 4,
          "PostQues_10": 4,
          "PostQues_14": 2,
          "PostQues_20": 5,
          "PostQues_25": 2,
          "false_memories": 1
         },
         {
          "Exp_condition": "static-chatbot",
          "PostQues_3": 2,
          "PostQues_10": 2,
          "PostQues_14": 2,
          "PostQues_20": 4,
          "PostQues_25": 2,
          "false_memories": 0
         },
         {
          "Exp_condition": "static-chatbot",
          "PostQues_3": 6,
          "PostQues_10": 2,
          "PostQues_14": 2,
          "PostQues_20": 4,
          "PostQues_25": 1,
          "false_memories": 1
         },
         {
          "Exp_condition": "static-chatbot",
          "PostQues_3": 5,
          "PostQues_10": 5,
          "PostQues_14": 4,
          "PostQues_20": 5,
          "PostQues_25": 2,
          "false_memories": 3
         },
         {
          "Exp_condition": "static-chatbot",
          "PostQues_3": 1,
          "PostQues_10": 7,
          "PostQues_14": 1,
          "PostQues_20": 7,
          "PostQues_25": 2,
          "false_memories": 2
         },
         {
          "Exp_condition": "static-chatbot",
          "PostQues_3": 1,
          "PostQues_10": 3,
          "PostQues_14": 2,
          "PostQues_20": 5,
          "PostQues_25": 4,
          "false_memories": 1
         },
         {
          "Exp_condition": "static-chatbot",
          "PostQues_3": 2,
          "PostQues_10": 2,
          "PostQues_14": 2,
          "PostQues_20": 2,
          "PostQues_25": 2,
          "false_memories": 0
         },
         {
          "Exp_condition": "static-chatbot",
          "PostQues_3": 6,
          "PostQues_10": 6,
          "PostQues_14": 6,
          "PostQues_20": 7,
          "PostQues_25": 2,
          "false_memories": 4
         },
         {
          "Exp_condition": "static-chatbot",
          "PostQues_3": 4,
          "PostQues_10": 4,
          "PostQues_14": 4,
          "PostQues_20": 4,
          "PostQues_25": 4,
          "false_memories": 0
         },
         {
          "Exp_condition": "static-chatbot",
          "PostQues_3": 2,
          "PostQues_10": 5,
          "PostQues_14": 3,
          "PostQues_20": 4,
          "PostQues_25": 4,
          "false_memories": 1
         },
         {
          "Exp_condition": "static-chatbot",
          "PostQues_3": 2,
          "PostQues_10": 4,
          "PostQues_14": 4,
          "PostQues_20": 6,
          "PostQues_25": 4,
          "false_memories": 1
         },
         {
          "Exp_condition": "static-chatbot",
          "PostQues_3": 2,
          "PostQues_10": 2,
          "PostQues_14": 2,
          "PostQues_20": 5,
          "PostQues_25": 2,
          "false_memories": 1
         },
         {
          "Exp_condition": "static-chatbot",
          "PostQues_3": 2,
          "PostQues_10": 4,
          "PostQues_14": 2,
          "PostQues_20": 3,
          "PostQues_25": 1,
          "false_memories": 0
         },
         {
          "Exp_condition": "static-chatbot",
          "PostQues_3": 2,
          "PostQues_10": 3,
          "PostQues_14": 3,
          "PostQues_20": 4,
          "PostQues_25": 4,
          "false_memories": 0
         },
         {
          "Exp_condition": "static-chatbot",
          "PostQues_3": 6,
          "PostQues_10": 4,
          "PostQues_14": 2,
          "PostQues_20": 5,
          "PostQues_25": 5,
          "false_memories": 3
         },
         {
          "Exp_condition": "static-chatbot",
          "PostQues_3": 4,
          "PostQues_10": 5,
          "PostQues_14": 2,
          "PostQues_20": 4,
          "PostQues_25": 3,
          "false_memories": 1
         },
         {
          "Exp_condition": "static-chatbot",
          "PostQues_3": 3,
          "PostQues_10": 2,
          "PostQues_14": 2,
          "PostQues_20": 4,
          "PostQues_25": 2,
          "false_memories": 0
         },
         {
          "Exp_condition": "static-chatbot",
          "PostQues_3": 2,
          "PostQues_10": 5,
          "PostQues_14": 2,
          "PostQues_20": 2,
          "PostQues_25": 2,
          "false_memories": 1
         },
         {
          "Exp_condition": "static-chatbot",
          "PostQues_3": 3,
          "PostQues_10": 7,
          "PostQues_14": 2,
          "PostQues_20": 5,
          "PostQues_25": 4,
          "false_memories": 2
         },
         {
          "Exp_condition": "static-chatbot",
          "PostQues_3": 1,
          "PostQues_10": 2,
          "PostQues_14": 1,
          "PostQues_20": 2,
          "PostQues_25": 2,
          "false_memories": 0
         },
         {
          "Exp_condition": "static-chatbot",
          "PostQues_3": 1,
          "PostQues_10": 6,
          "PostQues_14": 2,
          "PostQues_20": 6,
          "PostQues_25": 4,
          "false_memories": 2
         },
         {
          "Exp_condition": "static-chatbot",
          "PostQues_3": 2,
          "PostQues_10": 3,
          "PostQues_14": 4,
          "PostQues_20": 4,
          "PostQues_25": 4,
          "false_memories": 0
         },
         {
          "Exp_condition": "static-chatbot",
          "PostQues_3": 2,
          "PostQues_10": 2,
          "PostQues_14": 2,
          "PostQues_20": 4,
          "PostQues_25": 2,
          "false_memories": 0
         },
         {
          "Exp_condition": "static-chatbot",
          "PostQues_3": 2,
          "PostQues_10": 7,
          "PostQues_14": 3,
          "PostQues_20": 4,
          "PostQues_25": 4,
          "false_memories": 1
         },
         {
          "Exp_condition": "static-chatbot",
          "PostQues_3": 3,
          "PostQues_10": 4,
          "PostQues_14": 3,
          "PostQues_20": 6,
          "PostQues_25": 2,
          "false_memories": 1
         },
         {
          "Exp_condition": "static-chatbot",
          "PostQues_3": 2,
          "PostQues_10": 2,
          "PostQues_14": 1,
          "PostQues_20": 1,
          "PostQues_25": 4,
          "false_memories": 0
         },
         {
          "Exp_condition": "static-chatbot",
          "PostQues_3": 2,
          "PostQues_10": 6,
          "PostQues_14": 3,
          "PostQues_20": 4,
          "PostQues_25": 4,
          "false_memories": 1
         },
         {
          "Exp_condition": "static-chatbot",
          "PostQues_3": 2,
          "PostQues_10": 2,
          "PostQues_14": 2,
          "PostQues_20": 6,
          "PostQues_25": 2,
          "false_memories": 1
         },
         {
          "Exp_condition": "static-chatbot",
          "PostQues_3": 6,
          "PostQues_10": 6,
          "PostQues_14": 6,
          "PostQues_20": 6,
          "PostQues_25": 4,
          "false_memories": 4
         },
         {
          "Exp_condition": "static-chatbot",
          "PostQues_3": 3,
          "PostQues_10": 3,
          "PostQues_14": 5,
          "PostQues_20": 3,
          "PostQues_25": 4,
          "false_memories": 1
         },
         {
          "Exp_condition": "static-chatbot",
          "PostQues_3": 5,
          "PostQues_10": 6,
          "PostQues_14": 4,
          "PostQues_20": 6,
          "PostQues_25": 7,
          "false_memories": 4
         },
         {
          "Exp_condition": "static-chatbot",
          "PostQues_3": 2,
          "PostQues_10": 2,
          "PostQues_14": 1,
          "PostQues_20": 7,
          "PostQues_25": 1,
          "false_memories": 1
         },
         {
          "Exp_condition": "static-chatbot",
          "PostQues_3": 2,
          "PostQues_10": 4,
          "PostQues_14": 5,
          "PostQues_20": 5,
          "PostQues_25": 2,
          "false_memories": 2
         },
         {
          "Exp_condition": "static-chatbot",
          "PostQues_3": 3,
          "PostQues_10": 7,
          "PostQues_14": 2,
          "PostQues_20": 4,
          "PostQues_25": 3,
          "false_memories": 1
         },
         {
          "Exp_condition": "static-chatbot",
          "PostQues_3": 5,
          "PostQues_10": 4,
          "PostQues_14": 2,
          "PostQues_20": 5,
          "PostQues_25": 4,
          "false_memories": 2
         },
         {
          "Exp_condition": "static-chatbot",
          "PostQues_3": 4,
          "PostQues_10": 4,
          "PostQues_14": 2,
          "PostQues_20": 4,
          "PostQues_25": 4,
          "false_memories": 0
         },
         {
          "Exp_condition": "static-chatbot",
          "PostQues_3": 4,
          "PostQues_10": 5,
          "PostQues_14": 5,
          "PostQues_20": 5,
          "PostQues_25": 3,
          "false_memories": 3
         },
         {
          "Exp_condition": "static-chatbot",
          "PostQues_3": 4,
          "PostQues_10": 4,
          "PostQues_14": 2,
          "PostQues_20": 6,
          "PostQues_25": 4,
          "false_memories": 1
         },
         {
          "Exp_condition": "static-chatbot",
          "PostQues_3": 1,
          "PostQues_10": 3,
          "PostQues_14": 3,
          "PostQues_20": 1,
          "PostQues_25": 2,
          "false_memories": 0
         },
         {
          "Exp_condition": "static-chatbot",
          "PostQues_3": 5,
          "PostQues_10": 6,
          "PostQues_14": 5,
          "PostQues_20": 5,
          "PostQues_25": 4,
          "false_memories": 4
         },
         {
          "Exp_condition": "static-chatbot",
          "PostQues_3": 7,
          "PostQues_10": 7,
          "PostQues_14": 3,
          "PostQues_20": 6,
          "PostQues_25": 4,
          "false_memories": 3
         },
         {
          "Exp_condition": "static-chatbot",
          "PostQues_3": 1,
          "PostQues_10": 6,
          "PostQues_14": 6,
          "PostQues_20": 6,
          "PostQues_25": 4,
          "false_memories": 3
         },
         {
          "Exp_condition": "static-chatbot",
          "PostQues_3": 4,
          "PostQues_10": 5,
          "PostQues_14": 5,
          "PostQues_20": 6,
          "PostQues_25": 4,
          "false_memories": 3
         },
         {
          "Exp_condition": "static-chatbot",
          "PostQues_3": 1,
          "PostQues_10": 2,
          "PostQues_14": 2,
          "PostQues_20": 4,
          "PostQues_25": 4,
          "false_memories": 0
         },
         {
          "Exp_condition": "static-chatbot",
          "PostQues_3": 4,
          "PostQues_10": 4,
          "PostQues_14": 2,
          "PostQues_20": 4,
          "PostQues_25": 3,
          "false_memories": 0
         },
         {
          "Exp_condition": "static-chatbot",
          "PostQues_3": 2,
          "PostQues_10": 6,
          "PostQues_14": 3,
          "PostQues_20": 5,
          "PostQues_25": 3,
          "false_memories": 2
         },
         {
          "Exp_condition": "static-chatbot",
          "PostQues_3": 5,
          "PostQues_10": 7,
          "PostQues_14": 2,
          "PostQues_20": 6,
          "PostQues_25": 4,
          "false_memories": 3
         },
         {
          "Exp_condition": "static-chatbot",
          "PostQues_3": 1,
          "PostQues_10": 5,
          "PostQues_14": 3,
          "PostQues_20": 6,
          "PostQues_25": 4,
          "false_memories": 2
         }
        ]
       }
      },
      "text/plain": "<__main__.DeepnoteChart at 0x7f59d5aa91f0>"
     },
     "metadata": {}
    }
   ],
   "outputs_reference": "s3:deepnote-cell-outputs-production/ae68bc6f-8a76-46e6-bb5e-eb1b9567e7cb"
  },
  {
   "cell_type": "code",
   "metadata": {
    "allow_embed": false,
    "source_hash": null,
    "execution_start": 1717729805595,
    "execution_millis": 680,
    "deepnote_chart_height": 405,
    "deepnote_variable_name": "generative_df",
    "deepnote_to_be_reexecuted": false,
    "deepnote_visualization_spec": {
     "layer": [
      {
       "layer": [
        {
         "mark": {
          "clip": true,
          "type": "bar",
          "color": "#2266D3",
          "tooltip": true
         },
         "encoding": {
          "x": {
           "bin": true,
           "axis": {
            "grid": false
           },
           "sort": null,
           "type": "quantitative",
           "field": "false_memories"
          },
          "y": {
           "axis": {
            "grid": false
           },
           "sort": null,
           "type": "quantitative",
           "scale": {
            "type": "linear"
           },
           "format": {
            "type": "default",
            "decimals": null
           },
           "aggregate": "count",
           "formatType": "numberFormatFromNumberType"
          }
         }
        }
       ]
      }
     ],
     "title": "",
     "config": {
      "legend": {}
     },
     "$schema": "https://vega.github.io/schema/vega-lite/v5.json",
     "encoding": {},
     "usermeta": {
      "aditionalTypeInfo": {
       "histogramLayerIndexes": [
        0
       ]
      },
      "tooltipDefaultMode": true
     }
    },
    "cell_id": "2bd98b60df0446f48a583c5e0bdaac2c",
    "deepnote_cell_type": "visualization"
   },
   "source": "DeepnoteChart(generative_df, \"\"\"{\"layer\":[{\"layer\":[{\"mark\":{\"clip\":true,\"type\":\"bar\",\"color\":\"#2266D3\",\"tooltip\":true},\"encoding\":{\"x\":{\"bin\":true,\"axis\":{\"grid\":false},\"sort\":null,\"type\":\"quantitative\",\"field\":\"false_memories\"},\"y\":{\"axis\":{\"grid\":false},\"sort\":null,\"type\":\"quantitative\",\"scale\":{\"type\":\"linear\"},\"format\":{\"type\":\"default\",\"decimals\":null},\"aggregate\":\"count\",\"formatType\":\"numberFormatFromNumberType\"}}}]}],\"title\":\"\",\"config\":{\"legend\":{}},\"$schema\":\"https://vega.github.io/schema/vega-lite/v5.json\",\"encoding\":{},\"usermeta\":{\"aditionalTypeInfo\":{\"histogramLayerIndexes\":[0]},\"tooltipDefaultMode\":true}}\"\"\")",
   "block_group": "8c63caeddea847aaa248a7c792afd015",
   "execution_count": null,
   "outputs": [
    {
     "output_type": "execute_result",
     "execution_count": 23,
     "data": {
      "application/vnd.vegalite.v5+json": {
       "layer": [
        {
         "layer": [
          {
           "mark": {
            "clip": true,
            "type": "bar",
            "color": "#2266D3",
            "tooltip": true
           },
           "encoding": {
            "x": {
             "bin": true,
             "axis": {
              "grid": false
             },
             "sort": null,
             "type": "quantitative",
             "field": "false_memories"
            },
            "y": {
             "axis": {
              "grid": false
             },
             "sort": null,
             "type": "quantitative",
             "scale": {
              "type": "linear"
             },
             "format": {
              "type": "default",
              "decimals": null
             },
             "aggregate": "count",
             "formatType": "numberFormatFromNumberType"
            }
           }
          }
         ]
        }
       ],
       "title": "",
       "config": {
        "legend": {}
       },
       "$schema": "https://vega.github.io/schema/vega-lite/v5.json",
       "encoding": {},
       "usermeta": {
        "aditionalTypeInfo": {
         "histogramLayerIndexes": [
          0
         ]
        },
        "tooltipDefaultMode": true
       },
       "data": {
        "values": [
         {
          "Exp_condition": "chatbot",
          "PostQues_3": 4,
          "PostQues_10": 3,
          "PostQues_14": 2,
          "PostQues_20": 2,
          "PostQues_25": 2,
          "false_memories": 0
         },
         {
          "Exp_condition": "chatbot",
          "PostQues_3": 4,
          "PostQues_10": 4,
          "PostQues_14": 4,
          "PostQues_20": 4,
          "PostQues_25": 3,
          "false_memories": 0
         },
         {
          "Exp_condition": "chatbot",
          "PostQues_3": 2,
          "PostQues_10": 5,
          "PostQues_14": 5,
          "PostQues_20": 2,
          "PostQues_25": 1,
          "false_memories": 2
         },
         {
          "Exp_condition": "chatbot",
          "PostQues_3": 1,
          "PostQues_10": 5,
          "PostQues_14": 3,
          "PostQues_20": 4,
          "PostQues_25": 2,
          "false_memories": 1
         },
         {
          "Exp_condition": "chatbot",
          "PostQues_3": 4,
          "PostQues_10": 4,
          "PostQues_14": 4,
          "PostQues_20": 4,
          "PostQues_25": 2,
          "false_memories": 0
         },
         {
          "Exp_condition": "chatbot",
          "PostQues_3": 7,
          "PostQues_10": 7,
          "PostQues_14": 7,
          "PostQues_20": 4,
          "PostQues_25": 7,
          "false_memories": 4
         },
         {
          "Exp_condition": "chatbot",
          "PostQues_3": 2,
          "PostQues_10": 3,
          "PostQues_14": 2,
          "PostQues_20": 4,
          "PostQues_25": 2,
          "false_memories": 0
         },
         {
          "Exp_condition": "chatbot",
          "PostQues_3": 1,
          "PostQues_10": 7,
          "PostQues_14": 7,
          "PostQues_20": 7,
          "PostQues_25": 4,
          "false_memories": 3
         },
         {
          "Exp_condition": "chatbot",
          "PostQues_3": 1,
          "PostQues_10": 5,
          "PostQues_14": 2,
          "PostQues_20": 6,
          "PostQues_25": 4,
          "false_memories": 2
         },
         {
          "Exp_condition": "chatbot",
          "PostQues_3": 1,
          "PostQues_10": 2,
          "PostQues_14": 2,
          "PostQues_20": 6,
          "PostQues_25": 2,
          "false_memories": 1
         },
         {
          "Exp_condition": "chatbot",
          "PostQues_3": 6,
          "PostQues_10": 6,
          "PostQues_14": 6,
          "PostQues_20": 5,
          "PostQues_25": 5,
          "false_memories": 5
         },
         {
          "Exp_condition": "chatbot",
          "PostQues_3": 5,
          "PostQues_10": 5,
          "PostQues_14": 5,
          "PostQues_20": 5,
          "PostQues_25": 2,
          "false_memories": 4
         },
         {
          "Exp_condition": "chatbot",
          "PostQues_3": 4,
          "PostQues_10": 6,
          "PostQues_14": 6,
          "PostQues_20": 4,
          "PostQues_25": 4,
          "false_memories": 2
         },
         {
          "Exp_condition": "chatbot",
          "PostQues_3": 4,
          "PostQues_10": 6,
          "PostQues_14": 2,
          "PostQues_20": 2,
          "PostQues_25": 4,
          "false_memories": 1
         },
         {
          "Exp_condition": "chatbot",
          "PostQues_3": 7,
          "PostQues_10": 4,
          "PostQues_14": 5,
          "PostQues_20": 4,
          "PostQues_25": 4,
          "false_memories": 2
         },
         {
          "Exp_condition": "chatbot",
          "PostQues_3": 6,
          "PostQues_10": 4,
          "PostQues_14": 3,
          "PostQues_20": 5,
          "PostQues_25": 5,
          "false_memories": 3
         },
         {
          "Exp_condition": "chatbot",
          "PostQues_3": 4,
          "PostQues_10": 6,
          "PostQues_14": 4,
          "PostQues_20": 7,
          "PostQues_25": 4,
          "false_memories": 2
         },
         {
          "Exp_condition": "chatbot",
          "PostQues_3": 6,
          "PostQues_10": 6,
          "PostQues_14": 2,
          "PostQues_20": 2,
          "PostQues_25": 2,
          "false_memories": 2
         },
         {
          "Exp_condition": "chatbot",
          "PostQues_3": 7,
          "PostQues_10": 5,
          "PostQues_14": 1,
          "PostQues_20": 6,
          "PostQues_25": 2,
          "false_memories": 3
         },
         {
          "Exp_condition": "chatbot",
          "PostQues_3": 4,
          "PostQues_10": 4,
          "PostQues_14": 2,
          "PostQues_20": 4,
          "PostQues_25": 4,
          "false_memories": 0
         },
         {
          "Exp_condition": "chatbot",
          "PostQues_3": 1,
          "PostQues_10": 4,
          "PostQues_14": 7,
          "PostQues_20": 4,
          "PostQues_25": 4,
          "false_memories": 1
         },
         {
          "Exp_condition": "chatbot",
          "PostQues_3": 2,
          "PostQues_10": 2,
          "PostQues_14": 1,
          "PostQues_20": 5,
          "PostQues_25": 1,
          "false_memories": 1
         },
         {
          "Exp_condition": "chatbot",
          "PostQues_3": 3,
          "PostQues_10": 7,
          "PostQues_14": 5,
          "PostQues_20": 5,
          "PostQues_25": 5,
          "false_memories": 4
         },
         {
          "Exp_condition": "chatbot",
          "PostQues_3": 1,
          "PostQues_10": 6,
          "PostQues_14": 6,
          "PostQues_20": 4,
          "PostQues_25": 4,
          "false_memories": 2
         },
         {
          "Exp_condition": "chatbot",
          "PostQues_3": 2,
          "PostQues_10": 3,
          "PostQues_14": 2,
          "PostQues_20": 4,
          "PostQues_25": 3,
          "false_memories": 0
         },
         {
          "Exp_condition": "chatbot",
          "PostQues_3": 2,
          "PostQues_10": 6,
          "PostQues_14": 2,
          "PostQues_20": 6,
          "PostQues_25": 6,
          "false_memories": 3
         },
         {
          "Exp_condition": "chatbot",
          "PostQues_3": 2,
          "PostQues_10": 6,
          "PostQues_14": 2,
          "PostQues_20": 6,
          "PostQues_25": 1,
          "false_memories": 2
         },
         {
          "Exp_condition": "chatbot",
          "PostQues_3": 4,
          "PostQues_10": 4,
          "PostQues_14": 4,
          "PostQues_20": 4,
          "PostQues_25": 3,
          "false_memories": 0
         },
         {
          "Exp_condition": "chatbot",
          "PostQues_3": 6,
          "PostQues_10": 4,
          "PostQues_14": 4,
          "PostQues_20": 6,
          "PostQues_25": 4,
          "false_memories": 2
         },
         {
          "Exp_condition": "chatbot",
          "PostQues_3": 2,
          "PostQues_10": 6,
          "PostQues_14": 4,
          "PostQues_20": 4,
          "PostQues_25": 4,
          "false_memories": 1
         },
         {
          "Exp_condition": "chatbot",
          "PostQues_3": 2,
          "PostQues_10": 5,
          "PostQues_14": 3,
          "PostQues_20": 5,
          "PostQues_25": 2,
          "false_memories": 2
         },
         {
          "Exp_condition": "chatbot",
          "PostQues_3": 7,
          "PostQues_10": 5,
          "PostQues_14": 3,
          "PostQues_20": 5,
          "PostQues_25": 2,
          "false_memories": 3
         },
         {
          "Exp_condition": "chatbot",
          "PostQues_3": 3,
          "PostQues_10": 3,
          "PostQues_14": 6,
          "PostQues_20": 5,
          "PostQues_25": 5,
          "false_memories": 3
         },
         {
          "Exp_condition": "chatbot",
          "PostQues_3": 7,
          "PostQues_10": 4,
          "PostQues_14": 4,
          "PostQues_20": 7,
          "PostQues_25": 4,
          "false_memories": 2
         },
         {
          "Exp_condition": "chatbot",
          "PostQues_3": 2,
          "PostQues_10": 5,
          "PostQues_14": 4,
          "PostQues_20": 5,
          "PostQues_25": 2,
          "false_memories": 2
         },
         {
          "Exp_condition": "chatbot",
          "PostQues_3": 2,
          "PostQues_10": 6,
          "PostQues_14": 2,
          "PostQues_20": 6,
          "PostQues_25": 4,
          "false_memories": 2
         },
         {
          "Exp_condition": "chatbot",
          "PostQues_3": 6,
          "PostQues_10": 4,
          "PostQues_14": 2,
          "PostQues_20": 6,
          "PostQues_25": 2,
          "false_memories": 2
         },
         {
          "Exp_condition": "chatbot",
          "PostQues_3": 2,
          "PostQues_10": 2,
          "PostQues_14": 2,
          "PostQues_20": 2,
          "PostQues_25": 2,
          "false_memories": 0
         },
         {
          "Exp_condition": "chatbot",
          "PostQues_3": 4,
          "PostQues_10": 5,
          "PostQues_14": 4,
          "PostQues_20": 5,
          "PostQues_25": 4,
          "false_memories": 2
         },
         {
          "Exp_condition": "chatbot",
          "PostQues_3": 2,
          "PostQues_10": 7,
          "PostQues_14": 7,
          "PostQues_20": 6,
          "PostQues_25": 4,
          "false_memories": 3
         },
         {
          "Exp_condition": "chatbot",
          "PostQues_3": 5,
          "PostQues_10": 6,
          "PostQues_14": 5,
          "PostQues_20": 4,
          "PostQues_25": 4,
          "false_memories": 3
         },
         {
          "Exp_condition": "chatbot",
          "PostQues_3": 2,
          "PostQues_10": 5,
          "PostQues_14": 4,
          "PostQues_20": 6,
          "PostQues_25": 2,
          "false_memories": 2
         },
         {
          "Exp_condition": "chatbot",
          "PostQues_3": 6,
          "PostQues_10": 7,
          "PostQues_14": 4,
          "PostQues_20": 4,
          "PostQues_25": 4,
          "false_memories": 2
         },
         {
          "Exp_condition": "chatbot",
          "PostQues_3": 2,
          "PostQues_10": 7,
          "PostQues_14": 7,
          "PostQues_20": 7,
          "PostQues_25": 2,
          "false_memories": 3
         },
         {
          "Exp_condition": "chatbot",
          "PostQues_3": 2,
          "PostQues_10": 4,
          "PostQues_14": 3,
          "PostQues_20": 4,
          "PostQues_25": 4,
          "false_memories": 0
         },
         {
          "Exp_condition": "chatbot",
          "PostQues_3": 4,
          "PostQues_10": 5,
          "PostQues_14": 2,
          "PostQues_20": 6,
          "PostQues_25": 5,
          "false_memories": 3
         },
         {
          "Exp_condition": "chatbot",
          "PostQues_3": 2,
          "PostQues_10": 3,
          "PostQues_14": 2,
          "PostQues_20": 2,
          "PostQues_25": 2,
          "false_memories": 0
         },
         {
          "Exp_condition": "chatbot",
          "PostQues_3": 2,
          "PostQues_10": 6,
          "PostQues_14": 6,
          "PostQues_20": 4,
          "PostQues_25": 2,
          "false_memories": 2
         },
         {
          "Exp_condition": "chatbot",
          "PostQues_3": 4,
          "PostQues_10": 6,
          "PostQues_14": 2,
          "PostQues_20": 4,
          "PostQues_25": 4,
          "false_memories": 1
         },
         {
          "Exp_condition": "chatbot",
          "PostQues_3": 4,
          "PostQues_10": 6,
          "PostQues_14": 2,
          "PostQues_20": 4,
          "PostQues_25": 2,
          "false_memories": 1
         }
        ]
       }
      },
      "text/plain": "<__main__.DeepnoteChart at 0x7f59d5ab8670>"
     },
     "metadata": {}
    }
   ],
   "outputs_reference": "s3:deepnote-cell-outputs-production/c04b2f21-95aa-4e20-aedd-7131ffc40595"
  },
  {
   "cell_type": "code",
   "metadata": {
    "source_hash": null,
    "execution_start": 1717729805633,
    "execution_millis": 643,
    "deepnote_to_be_reexecuted": false,
    "cell_id": "44ec43bfc6ee485fb4e728e237f0e896",
    "deepnote_cell_type": "code"
   },
   "source": "# Assuming 'filtered_columns_df' is your DataFrame and it includes the 'Exp_condition' column\nexp_condition_counts = filtered_columns_df['Exp_condition'].value_counts()\n\n# Print the counts of each experimental condition\nprint(exp_condition_counts)",
   "block_group": "0dab5cda2443492cacca0dcde542681e",
   "execution_count": null,
   "outputs": [
    {
     "name": "stdout",
     "text": "Exp_condition\nsurvey-based      50\nstatic-chatbot    50\nnone              50\nchatbot           50\nName: count, dtype: int64\n",
     "output_type": "stream"
    }
   ],
   "outputs_reference": "dbtable:cell_outputs/97cc8cfe-516f-4364-b418-21aef75afe0a",
   "content_dependencies": null
  },
  {
   "cell_type": "code",
   "metadata": {
    "source_hash": null,
    "execution_start": 1717729805652,
    "execution_millis": 624,
    "deepnote_to_be_reexecuted": false,
    "cell_id": "45a9463d32954b1ebe9e5e3ab4b54672",
    "deepnote_cell_type": "code",
    "ExecuteTime": {
     "end_time": "2025-03-30T10:50:46.357110Z",
     "start_time": "2025-03-30T10:50:46.212620Z"
    }
   },
   "source": "# Initialize a dictionary to store lists of false_memories for each unique Exp_condition\ncondition_dict = {}\n\n# Loop through each row in the DataFrame\nfor index, row in filtered_columns_df.iterrows():\n    condition = row['Exp_condition']\n    memory = row['false_memories']  # Assuming 'false_memories' holds the values to store\n\n    # If the condition is not yet a key in the dictionary, add it with an empty list\n    if condition not in condition_dict:\n        condition_dict[condition] = []\n\n    # Append the false memory to the appropriate list\n    condition_dict[condition].append(memory)\n",
   "block_group": "0538f2dcc9534dffa1f23eadb04a0949",
   "outputs_reference": null,
   "content_dependencies": null,
   "outputs": [
    {
     "ename": "NameError",
     "evalue": "name 'filtered_columns_df' is not defined",
     "output_type": "error",
     "traceback": [
      "\u001B[31m---------------------------------------------------------------------------\u001B[39m",
      "\u001B[31mNameError\u001B[39m                                 Traceback (most recent call last)",
      "\u001B[36mCell\u001B[39m\u001B[36m \u001B[39m\u001B[32mIn[1]\u001B[39m\u001B[32m, line 5\u001B[39m\n\u001B[32m      2\u001B[39m condition_dict = {}\n\u001B[32m      4\u001B[39m \u001B[38;5;66;03m# Loop through each row in the DataFrame\u001B[39;00m\n\u001B[32m----> \u001B[39m\u001B[32m5\u001B[39m \u001B[38;5;28;01mfor\u001B[39;00m index, row \u001B[38;5;129;01min\u001B[39;00m \u001B[43mfiltered_columns_df\u001B[49m.iterrows():\n\u001B[32m      6\u001B[39m     condition = row[\u001B[33m'\u001B[39m\u001B[33mExp_condition\u001B[39m\u001B[33m'\u001B[39m]\n\u001B[32m      7\u001B[39m     memory = row[\u001B[33m'\u001B[39m\u001B[33mfalse_memories\u001B[39m\u001B[33m'\u001B[39m]  \u001B[38;5;66;03m# Assuming 'false_memories' holds the values to store\u001B[39;00m\n",
      "\u001B[31mNameError\u001B[39m: name 'filtered_columns_df' is not defined"
     ]
    }
   ],
   "execution_count": 1
  },
  {
   "cell_type": "code",
   "metadata": {
    "source_hash": null,
    "execution_start": 1717729805684,
    "execution_millis": 592,
    "deepnote_to_be_reexecuted": false,
    "cell_id": "280e65176679475dbcf4ce7f864e4a4f",
    "deepnote_cell_type": "code"
   },
   "source": "print(condition_dict)",
   "block_group": "c6759c8a2e314318b27c78f184c9d590",
   "execution_count": null,
   "outputs": [
    {
     "name": "stdout",
     "text": "{'survey-based': [1, 1, 1, 0, 1, 1, 1, 1, 1, 2, 3, 1, 1, 1, 1, 1, 2, 0, 1, 0, 1, 2, 0, 2, 0, 2, 0, 0, 1, 3, 0, 0, 0, 2, 1, 2, 1, 1, 1, 0, 1, 1, 2, 3, 2, 1, 0, 2, 1, 1], 'static-chatbot': [0, 0, 1, 0, 1, 3, 2, 1, 0, 4, 0, 1, 1, 1, 0, 0, 3, 1, 0, 1, 2, 0, 2, 0, 0, 1, 1, 0, 1, 1, 4, 1, 4, 1, 2, 1, 2, 0, 3, 1, 0, 4, 3, 3, 3, 0, 0, 2, 3, 2], 'none': [0, 1, 0, 0, 0, 2, 0, 1, 0, 0, 1, 2, 0, 1, 0, 2, 2, 0, 0, 0, 1, 1, 0, 0, 0, 1, 0, 0, 0, 2, 0, 2, 0, 0, 0, 0, 0, 4, 0, 0, 1, 0, 0, 1, 0, 0, 0, 0, 0, 2], 'chatbot': [0, 0, 2, 1, 0, 4, 0, 3, 2, 1, 5, 4, 2, 1, 2, 3, 2, 2, 3, 0, 1, 1, 4, 2, 0, 3, 2, 0, 2, 1, 2, 3, 3, 2, 2, 2, 2, 0, 2, 3, 3, 2, 2, 3, 0, 3, 0, 2, 1, 1]}\n",
     "output_type": "stream"
    }
   ],
   "outputs_reference": "dbtable:cell_outputs/0d221050-39b2-40e1-a3fb-9cd4f038b5e3",
   "content_dependencies": null
  },
  {
   "cell_type": "code",
   "metadata": {
    "source_hash": null,
    "execution_start": 1717729805684,
    "execution_millis": 593,
    "deepnote_to_be_reexecuted": false,
    "cell_id": "abeb16caf71b4fc39a9da1cb82df390e",
    "deepnote_cell_type": "code"
   },
   "source": "# Define the specific order of conditions\nordered_conditions = ['none', 'survey-based', 'static-chatbot', 'chatbot']\n\n# Prepare data for plotting according to the specified order\nmemory_lists_ordered = [condition_dict[condition] for condition in ordered_conditions if condition in condition_dict]",
   "block_group": "e5e0c429b69e4e9faa95d647688d5416",
   "execution_count": null,
   "outputs": [],
   "outputs_reference": null,
   "content_dependencies": null
  },
  {
   "cell_type": "code",
   "metadata": {
    "source_hash": null,
    "execution_start": 1717729805729,
    "execution_millis": 548,
    "deepnote_to_be_reexecuted": false,
    "cell_id": "af2ca3147c75429c8642146b2277430d",
    "deepnote_cell_type": "code"
   },
   "source": "# Prepare data for plotting according to the specified order and calculate mean and standard error\nmeans = []\nerrors = []\nsds = []\nfor condition in ordered_conditions:\n    if condition in condition_dict:\n        values = condition_dict[condition]\n        mean = np.mean(values)\n        # Calculate the standard error as the error bar (standard deviation divided by the square root of the sample size)\n        std = np.std(values)\n        error = np.std(values) / np.sqrt(len(values))\n        means.append(mean)\n        sds.append(std)\n        errors.append(error)",
   "block_group": "63d5c4482c174ffdb41b782f9e63215c",
   "execution_count": null,
   "outputs": [],
   "outputs_reference": null,
   "content_dependencies": null
  },
  {
   "cell_type": "code",
   "metadata": {
    "source_hash": null,
    "execution_start": 1717729805750,
    "execution_millis": 527,
    "deepnote_to_be_reexecuted": false,
    "cell_id": "59febae56c824effa6364017c0a92ced",
    "deepnote_cell_type": "code"
   },
   "source": "ordered_labels = ['none', 'survey based', 'prescripted chatbot', 'generative chatbot']\ncolors = ['#B0B0B0', '#88CCEE', '#DDCC77', '#CC6677']",
   "block_group": "5cb2297b98744be2b4e74a53dc3a720b",
   "execution_count": null,
   "outputs": [],
   "outputs_reference": null,
   "content_dependencies": null
  },
  {
   "cell_type": "code",
   "metadata": {
    "source_hash": null,
    "execution_start": 1717729805750,
    "execution_millis": 528,
    "deepnote_to_be_reexecuted": false,
    "cell_id": "a73832e6dd074a84950ea0170a1440d2",
    "deepnote_cell_type": "code"
   },
   "source": " # X positions\nx_pos = np.arange(len(ordered_conditions))\n\n# Significance values (p-values) for the significance markers\nsignificance_values = [\n    ((0, 1), '*'), # Between 'none' and 'survey-based'\n    ((0, 2), '*'), # Between 'none' and 'static-chatbot'\n    ((0, 3), '*'),# Between 'none' and 'chatbot'    \n    ((1, 3), '*'), # Between 'survey-based' and 'chatbot'\n]\n\n# Creating the bar plot with error bars\nplt.figure(figsize=(8, 6))\nbars = plt.bar(x_pos, means, yerr=errors, capsize=5, color='grey')\nplt.title('Immediate False Memories by Experimental Condition with Error Bars')\nplt.ylabel('Average False Memory Score')\nplt.xlabel('Experimental Condition')\nplt.xticks(x_pos, ordered_labels)\n\n# Adding significance markers with p-values, separate and not overlapping\ny_base_offset = 0.6  # Base vertical offset for significance lines\ny_increment = 0.5  # Increment for each subsequent significance marker\n\n# Initialize the first y position above the highest bar\ncurrent_y_position = min(means) + max(errors) + y_base_offset\n\nfor idx, ((i, j), label) in enumerate(significance_values):\n    x1, x2 = x_pos[i], x_pos[j]\n    print(\"{1} and {2} with id: {0}\".format(idx, x1, x2))\n    y = current_y_position\n    h, col = 0.1, 'k'\n    plt.plot([x1, x1, x2, x2], [y, y+h, y+h, y], lw=1.5, c=col)\n    plt.text((x1 + x2) * 0.5, y + h, label, ha='center', va='bottom', color=col)\n    current_y_position += y_increment  # Update the y position for the next marker\n\n# Adjust plot limits to make space for significance markers\nplt.ylim(0, current_y_position + y_increment)\n\n# Improve layout\nplt.tight_layout()\n\n# Show the plot\nplt.show()",
   "block_group": "a7f0f2c4a7ad4d5a8bf31a30a71dc3d9",
   "execution_count": null,
   "outputs": [
    {
     "name": "stdout",
     "text": "0 and 1 with id: 0\n0 and 2 with id: 1\n0 and 3 with id: 2\n1 and 3 with id: 3\n",
     "output_type": "stream"
    },
    {
     "data": {
      "text/plain": "<Figure size 800x600 with 1 Axes>",
      "image/png": "[encoded data removed]"
     },
     "metadata": {
      "image/png": {
       "width": 790,
       "height": 590
      }
     },
     "output_type": "display_data"
    }
   ],
   "outputs_reference": "s3:deepnote-cell-outputs-production/35b699be-335e-4722-ae20-096df69feec7",
   "content_dependencies": null
  },
  {
   "cell_type": "code",
   "metadata": {
    "source_hash": null,
    "execution_start": 1717731455708,
    "execution_millis": 749,
    "deepnote_to_be_reexecuted": false,
    "cell_id": "e2c1d2089c5d4883a7f799baea7e2347",
    "deepnote_cell_type": "code"
   },
   "source": " # X positions\nx_pos = np.arange(len(ordered_conditions))\n\n# Significance values (p-values) for the significance markers\nsignificance_values = [\n    ((0, 1), '** P=0.0058'), # Between 'none' and 'survey-based'\n    ((0, 2), '** P=0.0014'), # Between 'none' and 'prescript-chatbot'\n    ((0, 3), '**** P=1.01e-7'),# Between 'none' and 'generative chatbot'    \n    ((1, 3), '* P=0.0115'), # Between 'survey-based' and 'generative chatbot'\n    ((2, 3), '* P=0.0395'), # Between 'prescript-chatbot' and 'generative chatbot'\n]\n\n# Creating the bar plot with error bars\nplt.figure(figsize=(8, 6))\nbars = plt.bar(x_pos, means, yerr=errors, capsize=5, color=colors)\nplt.title('Immediate False Memories by Experimental Condition with Error Bars')\nplt.ylabel('Average Number of False Memories')\nplt.xlabel('Experimental Condition')\nplt.xticks(x_pos, ordered_labels)\n\n# Adding significance markers with p-values, separate and not overlapping\ny_base_offset = 0.7  # Base vertical offset for significance lines\ny_increment = 0.3  # Increment for each subsequent significance marker\n\n# Initialize the first y position above the highest bar\ncurrent_y_position = min(means) + max(errors) + y_base_offset\n\nfor idx, ((i, j), label) in enumerate(significance_values):\n    x1, x2 = x_pos[i], x_pos[j]\n    print(\"{1} and {2} with id: {0}\".format(idx, x1, x2))\n    y = current_y_position\n    h, col = 0.1, 'k'\n    plt.plot([x1, x1, x2, x2], [y, y+h, y+h, y], lw=1.5, c=col)\n    plt.text((x1 + x2) * 0.5, y + h, label, ha='center', va='bottom', color=col)\n    current_y_position += y_increment  # Update the y position for the next marker\n\n# Adjust plot limits to make space for significance markers\nplt.ylim(0, current_y_position + y_increment)\n\n# Improve layout\nplt.tight_layout()\n\nplt.savefig('immediate_false_mem.png')\n#plt.savefig('foo.png', bbox_inches='tight')\n\n# Show the plot\nplt.show()\n\n\n",
   "block_group": "01fbf642b5c245909f058c2ee712c1aa",
   "execution_count": null,
   "outputs": [
    {
     "name": "stdout",
     "text": "0 and 1 with id: 0\n0 and 2 with id: 1\n0 and 3 with id: 2\n1 and 3 with id: 3\n2 and 3 with id: 4\n",
     "output_type": "stream"
    },
    {
     "data": {
      "text/plain": "<Figure size 800x600 with 1 Axes>",
      "image/png": "[encoded data removed]"
     },
     "metadata": {
      "image/png": {
       "width": 790,
       "height": 590
      }
     },
     "output_type": "display_data"
    }
   ],
   "outputs_reference": "s3:deepnote-cell-outputs-production/ea197539-464a-4a20-bb21-b979cb8e5e5c",
   "content_dependencies": null
  },
  {
   "cell_type": "markdown",
   "metadata": {
    "formattedRanges": [],
    "cell_id": "0bc600f7443b4d67bd53e24bef76abeb",
    "deepnote_cell_type": "text-cell-h2"
   },
   "source": "## Mean, SD, Error for Immediate False Memories",
   "block_group": "74bbc9496fce4ee9a84ed2f8ae091cf5"
  },
  {
   "cell_type": "code",
   "metadata": {
    "source_hash": null,
    "execution_start": 1717729806726,
    "execution_millis": 163,
    "deepnote_to_be_reexecuted": false,
    "cell_id": "2a4c26e8f27c427489cd15238cd4f356",
    "deepnote_cell_type": "code"
   },
   "source": "print(ordered_conditions)\nprint (means) \nprint(sds)\nprint(errors)",
   "block_group": "56e4917a4f1343e5a9aec255c3d9c0fa",
   "execution_count": null,
   "outputs": [
    {
     "name": "stdout",
     "text": "['none', 'survey-based', 'static-chatbot', 'chatbot']\n[0.54, 1.08, 1.34, 1.82]\n[0.8765842800324449, 0.8207313811473276, 1.2745195173083856, 1.2440257232067187]\n[0.12396773773849386, 0.11606894502837525, 0.18024427868867296, 0.17593180496999394]\n",
     "output_type": "stream"
    }
   ],
   "outputs_reference": "dbtable:cell_outputs/ec492f22-bd29-4bbd-a22d-4e6ea074d77c",
   "content_dependencies": null
  },
  {
   "cell_type": "markdown",
   "metadata": {
    "formattedRanges": [],
    "cell_id": "9c63020828c74774bc989241cea8464a",
    "deepnote_cell_type": "text-cell-h1"
   },
   "source": "# Normality testing",
   "block_group": "64fae9137aa94d08bacadd1fd4566b29"
  },
  {
   "cell_type": "code",
   "metadata": {
    "source_hash": null,
    "execution_start": 1717729806732,
    "execution_millis": 158,
    "deepnote_to_be_reexecuted": false,
    "cell_id": "77e1c5408a094acc87e127d5dec74750",
    "deepnote_cell_type": "code"
   },
   "source": "from scipy.stats import shapiro\n\n# Initialize a dictionary to store the test results\nshapiro_results = {}\n\n# Perform the Shapiro-Wilk test for each condition and store the results\nfor condition in ordered_conditions:\n    if condition in condition_dict:\n        values = np.array(condition_dict[condition])  # Convert list to NumPy array for processing\n        test_statistic, p_value = shapiro(values)\n        shapiro_results[condition] = (test_statistic, p_value)\n\n# Display the results\nfor condition, results in shapiro_results.items():\n    print(f\"Condition: {condition}\\nShapiro-Wilk Test Statistic: {results[0]}, P-Value: {results[1]}\\n\")\n\n# ",
   "block_group": "596b7bbc5df8421bbc9da88ba6e25959",
   "execution_count": null,
   "outputs": [
    {
     "name": "stdout",
     "text": "Condition: none\nShapiro-Wilk Test Statistic: 0.654495358467102, P-Value: 1.3753266303595524e-09\n\nCondition: survey-based\nShapiro-Wilk Test Statistic: 0.8469160795211792, P-Value: 1.277861520065926e-05\n\nCondition: static-chatbot\nShapiro-Wilk Test Statistic: 0.8532589077949524, P-Value: 1.8978433217853308e-05\n\nCondition: chatbot\nShapiro-Wilk Test Statistic: 0.9147146940231323, P-Value: 0.0015269122086465359\n\n",
     "output_type": "stream"
    }
   ],
   "outputs_reference": "dbtable:cell_outputs/1c7c528c-2b87-4233-bee6-9ccb248d33ec",
   "content_dependencies": null
  },
  {
   "cell_type": "markdown",
   "metadata": {
    "is_collapsed": false,
    "formattedRanges": [],
    "deepnote_app_block_visible": false,
    "cell_id": "e72fd1287fd143b1a5deb7728c5c2a48",
    "deepnote_cell_type": "text-cell-h1"
   },
   "source": "# Kruskal-Wallis Test",
   "block_group": "8ba973642e40416e92d986a182fb8afc"
  },
  {
   "cell_type": "code",
   "metadata": {
    "source_hash": null,
    "execution_start": 1717729806740,
    "execution_millis": 150,
    "deepnote_to_be_reexecuted": false,
    "cell_id": "d2759e467f68438390649e70bd414c5c",
    "deepnote_cell_type": "code"
   },
   "source": "from scipy.stats import kruskal\n\n# Prepare data for the test, ensuring only non-empty lists are included\ndata = [condition_dict[condition] for condition in ordered_conditions if condition in condition_dict and len(condition_dict[condition]) > 0]\n\n# Check if we have enough groups with data to perform Kruskal-Wallis\nif len(data) >= 2:  # We need at least two groups to compare\n    # Perform the Kruskal-Wallis H Test\n    test_statistic, p_value = kruskal(*data)\n    print(f\"Kruskal-Wallis H Test Statistic: {test_statistic}, P-Value: {p_value}\")\nelse:\n    print(\"Not enough data to perform Kruskal-Wallis test.\")\n",
   "block_group": "5e06ecd69fd3496bb1d2256f6b0a5e07",
   "execution_count": null,
   "outputs": [
    {
     "name": "stdout",
     "text": "Kruskal-Wallis H Test Statistic: 32.46793346238702, P-Value: 4.1701516687862675e-07\n",
     "output_type": "stream"
    }
   ],
   "outputs_reference": "dbtable:cell_outputs/11a6ef97-94a0-4865-bcc3-e4067970a2ec",
   "content_dependencies": null
  },
  {
   "cell_type": "code",
   "metadata": {
    "source_hash": null,
    "execution_start": 1717729806754,
    "execution_millis": 137,
    "deepnote_to_be_reexecuted": false,
    "cell_id": "bc8a847e55c3435db90f86665feb025a",
    "deepnote_cell_type": "code"
   },
   "source": "# checking how data looks like\nprint(data)",
   "block_group": "4aa14918dcc74312921716028e9f374c",
   "execution_count": null,
   "outputs": [
    {
     "name": "stdout",
     "text": "[[0, 1, 0, 0, 0, 2, 0, 1, 0, 0, 1, 2, 0, 1, 0, 2, 2, 0, 0, 0, 1, 1, 0, 0, 0, 1, 0, 0, 0, 2, 0, 2, 0, 0, 0, 0, 0, 4, 0, 0, 1, 0, 0, 1, 0, 0, 0, 0, 0, 2], [1, 1, 1, 0, 1, 1, 1, 1, 1, 2, 3, 1, 1, 1, 1, 1, 2, 0, 1, 0, 1, 2, 0, 2, 0, 2, 0, 0, 1, 3, 0, 0, 0, 2, 1, 2, 1, 1, 1, 0, 1, 1, 2, 3, 2, 1, 0, 2, 1, 1], [0, 0, 1, 0, 1, 3, 2, 1, 0, 4, 0, 1, 1, 1, 0, 0, 3, 1, 0, 1, 2, 0, 2, 0, 0, 1, 1, 0, 1, 1, 4, 1, 4, 1, 2, 1, 2, 0, 3, 1, 0, 4, 3, 3, 3, 0, 0, 2, 3, 2], [0, 0, 2, 1, 0, 4, 0, 3, 2, 1, 5, 4, 2, 1, 2, 3, 2, 2, 3, 0, 1, 1, 4, 2, 0, 3, 2, 0, 2, 1, 2, 3, 3, 2, 2, 2, 2, 0, 2, 3, 3, 2, 2, 3, 0, 3, 0, 2, 1, 1]]\n",
     "output_type": "stream"
    }
   ],
   "outputs_reference": "dbtable:cell_outputs/15e15166-93fc-446d-8760-9b1d58725cf2",
   "content_dependencies": null
  },
  {
   "cell_type": "markdown",
   "metadata": {
    "formattedRanges": [],
    "cell_id": "6600db98a42544c589d7373c9510a2ad",
    "deepnote_cell_type": "text-cell-h2"
   },
   "source": "## Posthoc Dunn Test with Benjamini–Hochberg FDR",
   "block_group": "41745098e8504a8195c4f6d6f2f0e8d2"
  },
  {
   "cell_type": "code",
   "metadata": {
    "allow_embed": false,
    "source_hash": null,
    "execution_start": 1717729806841,
    "execution_millis": 50,
    "deepnote_to_be_reexecuted": false,
    "cell_id": "331e20c367344159be847fab93a76b02",
    "deepnote_cell_type": "code"
   },
   "source": "#Dunn Test with Benjamini–Hochberg FDR correction\n\ndunn_results_fdr = sp.posthoc_dunn(data, group_col='condition', p_adjust='fdr_bh')\n\n# Print the adjusted p-values for pairwise comparisons\nprint(\"Adjusted p-values for pairwise comparisons with FDR:\")\nprint(dunn_results_fdr)\nprint(dunn_results_fdr <0.05)\n\n#None - 1, survey - 2, prescript - 3, generative - 4",
   "block_group": "eb76456af8e543d49e690762dbc1f30c",
   "execution_count": null,
   "outputs": [
    {
     "name": "stdout",
     "text": "Adjusted p-values for pairwise comparisons with FDR:\n              1         2         3             4\n1  1.000000e+00  0.005846  0.001351  1.010307e-07\n2  5.846217e-03  1.000000  0.594022  1.151449e-02\n3  1.350770e-03  0.594022  1.000000  3.951287e-02\n4  1.010307e-07  0.011514  0.039513  1.000000e+00\n       1      2      3      4\n1  False   True   True   True\n2   True  False  False   True\n3   True  False  False   True\n4   True   True   True  False\n",
     "output_type": "stream"
    }
   ],
   "outputs_reference": "dbtable:cell_outputs/6bbee236-f3f1-4727-98c3-3a1d4e2e140f",
   "content_dependencies": null
  },
  {
   "cell_type": "markdown",
   "source": "<a style='text-decoration:none;line-height:16px;display:flex;color:#5B5B62;padding:10px;justify-content:end;' href='https://deepnote.com?utm_source=created-in-deepnote-cell&projectId=e32e89f2-6d44-49b2-bfdc-83c1c87a0fb5' target=\"_blank\">\n<img alt='Created in deepnote.com' style='display:inline;max-height:16px;margin:0px;margin-right:7.5px;' src='data:image/svg+xml;base64,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' > </img>\nCreated in <span style='font-weight:600;margin-left:4px;'>Deepnote</span></a>",
   "metadata": {
    "created_in_deepnote_cell": true,
    "deepnote_cell_type": "markdown"
   }
  }
 ],
 "nbformat": 4,
 "nbformat_minor": 0,
 "metadata": {
  "deepnote_persisted_session": {
   "createdAt": "2024-06-07T07:00:43.013Z"
  },
  "deepnote_notebook_id": "60cb51a574194297a88f6b615f56291d",
  "deepnote_execution_queue": [],
  "kernelspec": {
   "name": "python3",
   "language": "python",
   "display_name": "Python 3 (ipykernel)"
  }
 }
}
