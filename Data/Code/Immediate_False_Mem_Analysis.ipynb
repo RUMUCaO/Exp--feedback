{
 "cells": [
  {
   "cell_type": "markdown",
   "metadata": {
    "cell_id": "764b5ce1321047eaa7596f8e061cc825",
    "deepnote_cell_type": "text-cell-h1",
    "formattedRanges": []
   },
   "source": [
    "# Immediate False Memories Analysis"
   ]
  },
  {
   "cell_type": "code",
   "execution_count": null,
   "metadata": {
    "ExecuteTime": {
     "end_time": "2025-03-30T11:12:54.018216Z",
     "start_time": "2025-03-30T11:12:54.005130Z"
    },
    "cell_id": "65a33d6c03e64f7ba1c5d13411f3c2ce",
    "deepnote_cell_type": "code",
    "deepnote_to_be_reexecuted": false,
    "execution_millis": 1227,
    "execution_start": 1717729802937,
    "source_hash": null
   },
   "outputs": [],
   "source": [
    "import matplotlib.pyplot as plt\n",
    "import pandas as pd\n",
    "import numpy as np\n",
    "import scikit_posthocs as sp\n",
    "\n",
    "\n",
    "# Load data\n",
    "# Assuming 'df' is your DataFrame and it has columns 'none', 'survey-based', 'static-chatbot', 'chatbot' with the data\n",
    "df = pd.read_csv('main_data.csv')\n",
    "\n",
    "# # Create a new DataFrame with only the columns you need\n",
    "# df_classes = df[['none', 'survey-based', 'static-chatbot', 'chatbot']]"
   ]
  },
  {
   "cell_type": "code",
   "execution_count": null,
   "metadata": {
    "cell_id": "cb8fd429f7d045648dc7daa0ad619776",
    "deepnote_cell_type": "code",
    "deepnote_table_loading": false,
    "deepnote_table_state": {
     "filters": [],
     "pageIndex": 11,
     "pageSize": 10,
     "sortBy": []
    },
    "deepnote_to_be_reexecuted": false,
    "execution_millis": 271,
    "execution_start": 1717729804435,
    "source_hash": null
   },
   "outputs": [],
   "source": [
    "# Removing header rows\n",
    "df = df.iloc[2:]\n",
    "df"
   ]
  },
  {
   "cell_type": "code",
   "execution_count": null,
   "metadata": {
    "cell_id": "60dd8a934e2d490089fddd78ae8d7927",
    "deepnote_cell_type": "code",
    "deepnote_to_be_reexecuted": false,
    "execution_millis": 435,
    "execution_start": 1717729804628,
    "source_hash": null
   },
   "outputs": [],
   "source": [
    "# Convert 'StartDate' to datetime using .loc to avoid SettingWithCopyWarning\n",
    "df.loc[:, 'StartDate'] = pd.to_datetime(df['StartDate'])"
   ]
  },
  {
   "cell_type": "code",
   "execution_count": null,
   "metadata": {
    "cell_id": "fa36d757de7f492d924f22d34d1fa570",
    "deepnote_cell_type": "code",
    "deepnote_to_be_reexecuted": false,
    "execution_millis": 469,
    "execution_start": 1717729804829,
    "source_hash": null
   },
   "outputs": [],
   "source": [
    "# Convert 'StartDate' to datetime using .loc to avoid SettingWithCopyWarning\n",
    "df.loc[:, 'StartDate'] = pd.to_datetime(df['StartDate'])\n",
    "\n",
    "# Example filter: All entries after March 1, 2024\n",
    "filter_date = pd.Timestamp('15-04-2024')\n",
    "\n",
    "# Assuming 'ResponseId' might be used as a placeholder for an ID filter\n",
    "# This is just a demonstration since we don't have specifics about the prolific ID.\n",
    "# filtered_df = df[(df['StartDate'] >= filter_date) & (df['Status'] != 'Survey Preview') & ((df['attention_check_1'] != 'Probably not') or (df['attention_check_2'] != 'Yes') or (df['attention_check_3'] != 'Definitely not'))]\n",
    "\n",
    "filtered_df = df[\n",
    "    (df['StartDate'] >= filter_date) &\n",
    "    (df['Status'] != 'Survey Preview') &\n",
    "    (\n",
    "        (df['attention_check_1'] == 'Probably not') &\n",
    "        (df['attention_check_2'] == 'Yes') &\n",
    "        (df['attention_check_3'] == 'Definitely not')\n",
    "    )\n",
    "]\n"
   ]
  },
  {
   "cell_type": "code",
   "execution_count": null,
   "metadata": {
    "cell_id": "f8be4b2675eb46d9a2401e20d2121e4d",
    "deepnote_cell_type": "code",
    "deepnote_to_be_reexecuted": false,
    "execution_millis": 510,
    "execution_start": 1717729805066,
    "source_hash": null
   },
   "outputs": [],
   "source": [
    "latest_index_1 = filtered_df[filtered_df['Exp_condition'] == 'none'].index[-1]\n",
    "latest_index_2 = filtered_df[filtered_df['Exp_condition'] == 'chatbot'].index[-1]\n",
    "filtered_df = filtered_df.drop(index=latest_index_1)\n",
    "filtered_df = filtered_df.drop(index=latest_index_2)"
   ]
  },
  {
   "cell_type": "code",
   "execution_count": null,
   "metadata": {
    "cell_id": "2336b1959e6248bc806bf8db920d3a61",
    "deepnote_cell_type": "code",
    "deepnote_to_be_reexecuted": false,
    "execution_millis": 483,
    "execution_start": 1717729805093,
    "source_hash": null
   },
   "outputs": [],
   "source": [
    "# Specifying the columns to keep\n",
    "columns_to_keep = ['Exp_condition', 'PostQues_3', 'PostQues_10', 'PostQues_14', 'PostQues_20', 'PostQues_25']\n",
    "\n",
    "# Creating a new DataFrame with only the selected columns\n",
    "filtered_columns_df = filtered_df[columns_to_keep]"
   ]
  },
  {
   "cell_type": "code",
   "execution_count": 24,
   "metadata": {
    "cell_id": "3f6797168c744e94bb924a5cd94fe246",
    "deepnote_cell_type": "code",
    "deepnote_to_be_reexecuted": false,
    "execution_millis": 457,
    "execution_start": 1717729805120,
    "source_hash": null
   },
   "outputs": [
    {
     "data": {
      "text/html": [
       "<div>\n",
       "<style scoped>\n",
       "    .dataframe tbody tr th:only-of-type {\n",
       "        vertical-align: middle;\n",
       "    }\n",
       "\n",
       "    .dataframe tbody tr th {\n",
       "        vertical-align: top;\n",
       "    }\n",
       "\n",
       "    .dataframe thead th {\n",
       "        text-align: right;\n",
       "    }\n",
       "</style>\n",
       "<table border=\"1\" class=\"dataframe\">\n",
       "  <thead>\n",
       "    <tr style=\"text-align: right;\">\n",
       "      <th></th>\n",
       "      <th>Exp_condition</th>\n",
       "      <th>PostQues_3</th>\n",
       "      <th>PostQues_10</th>\n",
       "      <th>PostQues_14</th>\n",
       "      <th>PostQues_20</th>\n",
       "      <th>PostQues_25</th>\n",
       "    </tr>\n",
       "  </thead>\n",
       "  <tbody>\n",
       "    <tr>\n",
       "      <th>36</th>\n",
       "      <td>survey-based</td>\n",
       "      <td>Uncertain if yes or no</td>\n",
       "      <td>Probably yes</td>\n",
       "      <td>Uncertain if yes or no</td>\n",
       "      <td>Uncertain if yes or no</td>\n",
       "      <td>No</td>\n",
       "    </tr>\n",
       "    <tr>\n",
       "      <th>37</th>\n",
       "      <td>static-chatbot</td>\n",
       "      <td>Uncertain if yes or no</td>\n",
       "      <td>Probably not</td>\n",
       "      <td>No</td>\n",
       "      <td>Uncertain if yes or no</td>\n",
       "      <td>No</td>\n",
       "    </tr>\n",
       "    <tr>\n",
       "      <th>38</th>\n",
       "      <td>none</td>\n",
       "      <td>Definitely not</td>\n",
       "      <td>No</td>\n",
       "      <td>No</td>\n",
       "      <td>Uncertain if yes or no</td>\n",
       "      <td>Definitely not</td>\n",
       "    </tr>\n",
       "    <tr>\n",
       "      <th>39</th>\n",
       "      <td>chatbot</td>\n",
       "      <td>Uncertain if yes or no</td>\n",
       "      <td>Probably not</td>\n",
       "      <td>No</td>\n",
       "      <td>No</td>\n",
       "      <td>No</td>\n",
       "    </tr>\n",
       "    <tr>\n",
       "      <th>40</th>\n",
       "      <td>none</td>\n",
       "      <td>No</td>\n",
       "      <td>Yes</td>\n",
       "      <td>No</td>\n",
       "      <td>Uncertain if yes or no</td>\n",
       "      <td>No</td>\n",
       "    </tr>\n",
       "    <tr>\n",
       "      <th>...</th>\n",
       "      <td>...</td>\n",
       "      <td>...</td>\n",
       "      <td>...</td>\n",
       "      <td>...</td>\n",
       "      <td>...</td>\n",
       "      <td>...</td>\n",
       "    </tr>\n",
       "    <tr>\n",
       "      <th>236</th>\n",
       "      <td>static-chatbot</td>\n",
       "      <td>Probably yes</td>\n",
       "      <td>Definitely yes</td>\n",
       "      <td>No</td>\n",
       "      <td>Yes</td>\n",
       "      <td>Uncertain if yes or no</td>\n",
       "    </tr>\n",
       "    <tr>\n",
       "      <th>237</th>\n",
       "      <td>static-chatbot</td>\n",
       "      <td>Definitely not</td>\n",
       "      <td>Probably yes</td>\n",
       "      <td>Probably not</td>\n",
       "      <td>Yes</td>\n",
       "      <td>Uncertain if yes or no</td>\n",
       "    </tr>\n",
       "    <tr>\n",
       "      <th>239</th>\n",
       "      <td>survey-based</td>\n",
       "      <td>Uncertain if yes or no</td>\n",
       "      <td>No</td>\n",
       "      <td>Definitely not</td>\n",
       "      <td>Definitely yes</td>\n",
       "      <td>Definitely not</td>\n",
       "    </tr>\n",
       "    <tr>\n",
       "      <th>240</th>\n",
       "      <td>chatbot</td>\n",
       "      <td>Uncertain if yes or no</td>\n",
       "      <td>Yes</td>\n",
       "      <td>No</td>\n",
       "      <td>Uncertain if yes or no</td>\n",
       "      <td>No</td>\n",
       "    </tr>\n",
       "    <tr>\n",
       "      <th>242</th>\n",
       "      <td>survey-based</td>\n",
       "      <td>Uncertain if yes or no</td>\n",
       "      <td>Probably yes</td>\n",
       "      <td>Uncertain if yes or no</td>\n",
       "      <td>Uncertain if yes or no</td>\n",
       "      <td>No</td>\n",
       "    </tr>\n",
       "  </tbody>\n",
       "</table>\n",
       "<p>200 rows × 6 columns</p>\n",
       "</div>"
      ],
      "text/plain": [
       "      Exp_condition              PostQues_3     PostQues_10  \\\n",
       "36     survey-based  Uncertain if yes or no    Probably yes   \n",
       "37   static-chatbot  Uncertain if yes or no    Probably not   \n",
       "38             none          Definitely not              No   \n",
       "39          chatbot  Uncertain if yes or no    Probably not   \n",
       "40             none                      No             Yes   \n",
       "..              ...                     ...             ...   \n",
       "236  static-chatbot            Probably yes  Definitely yes   \n",
       "237  static-chatbot          Definitely not    Probably yes   \n",
       "239    survey-based  Uncertain if yes or no              No   \n",
       "240         chatbot  Uncertain if yes or no             Yes   \n",
       "242    survey-based  Uncertain if yes or no    Probably yes   \n",
       "\n",
       "                PostQues_14             PostQues_20             PostQues_25  \n",
       "36   Uncertain if yes or no  Uncertain if yes or no                      No  \n",
       "37                       No  Uncertain if yes or no                      No  \n",
       "38                       No  Uncertain if yes or no          Definitely not  \n",
       "39                       No                      No                      No  \n",
       "40                       No  Uncertain if yes or no                      No  \n",
       "..                      ...                     ...                     ...  \n",
       "236                      No                     Yes  Uncertain if yes or no  \n",
       "237            Probably not                     Yes  Uncertain if yes or no  \n",
       "239          Definitely not          Definitely yes          Definitely not  \n",
       "240                      No  Uncertain if yes or no                      No  \n",
       "242  Uncertain if yes or no  Uncertain if yes or no                      No  \n",
       "\n",
       "[200 rows x 6 columns]"
      ]
     },
     "execution_count": 24,
     "metadata": {},
     "output_type": "execute_result"
    }
   ],
   "source": [
    "filtered_columns_df"
   ]
  },
  {
   "cell_type": "code",
   "execution_count": 28,
   "metadata": {
    "cell_id": "d3539036a1284bd6ab86f7c18ffe8e04",
    "deepnote_cell_type": "code",
    "deepnote_to_be_reexecuted": false,
    "execution_millis": 423,
    "execution_start": 1717729805154,
    "source_hash": null
   },
   "outputs": [
    {
     "name": "stderr",
     "output_type": "stream",
     "text": [
      "C:\\Users\\rumucao\\AppData\\Local\\Temp\\ipykernel_6564\\3387297250.py:13: FutureWarning: Downcasting behavior in `replace` is deprecated and will be removed in a future version. To retain the old behavior, explicitly call `result.infer_objects(copy=False)`. To opt-in to the future behavior, set `pd.set_option('future.no_silent_downcasting', True)`\n",
      "  filtered_columns_df.replace(replacement_map, inplace=True)\n",
      "C:\\Users\\rumucao\\AppData\\Local\\Temp\\ipykernel_6564\\3387297250.py:13: SettingWithCopyWarning: \n",
      "A value is trying to be set on a copy of a slice from a DataFrame\n",
      "\n",
      "See the caveats in the documentation: https://pandas.pydata.org/pandas-docs/stable/user_guide/indexing.html#returning-a-view-versus-a-copy\n",
      "  filtered_columns_df.replace(replacement_map, inplace=True)\n"
     ]
    },
    {
     "data": {
      "text/html": [
       "<div>\n",
       "<style scoped>\n",
       "    .dataframe tbody tr th:only-of-type {\n",
       "        vertical-align: middle;\n",
       "    }\n",
       "\n",
       "    .dataframe tbody tr th {\n",
       "        vertical-align: top;\n",
       "    }\n",
       "\n",
       "    .dataframe thead th {\n",
       "        text-align: right;\n",
       "    }\n",
       "</style>\n",
       "<table border=\"1\" class=\"dataframe\">\n",
       "  <thead>\n",
       "    <tr style=\"text-align: right;\">\n",
       "      <th></th>\n",
       "      <th>Exp_condition</th>\n",
       "      <th>PostQues_3</th>\n",
       "      <th>PostQues_10</th>\n",
       "      <th>PostQues_14</th>\n",
       "      <th>PostQues_20</th>\n",
       "      <th>PostQues_25</th>\n",
       "    </tr>\n",
       "  </thead>\n",
       "  <tbody>\n",
       "    <tr>\n",
       "      <th>36</th>\n",
       "      <td>survey-based</td>\n",
       "      <td>4</td>\n",
       "      <td>5</td>\n",
       "      <td>4</td>\n",
       "      <td>4</td>\n",
       "      <td>2</td>\n",
       "    </tr>\n",
       "    <tr>\n",
       "      <th>37</th>\n",
       "      <td>static-chatbot</td>\n",
       "      <td>4</td>\n",
       "      <td>3</td>\n",
       "      <td>2</td>\n",
       "      <td>4</td>\n",
       "      <td>2</td>\n",
       "    </tr>\n",
       "    <tr>\n",
       "      <th>38</th>\n",
       "      <td>none</td>\n",
       "      <td>1</td>\n",
       "      <td>2</td>\n",
       "      <td>2</td>\n",
       "      <td>4</td>\n",
       "      <td>1</td>\n",
       "    </tr>\n",
       "    <tr>\n",
       "      <th>39</th>\n",
       "      <td>chatbot</td>\n",
       "      <td>4</td>\n",
       "      <td>3</td>\n",
       "      <td>2</td>\n",
       "      <td>2</td>\n",
       "      <td>2</td>\n",
       "    </tr>\n",
       "    <tr>\n",
       "      <th>40</th>\n",
       "      <td>none</td>\n",
       "      <td>2</td>\n",
       "      <td>6</td>\n",
       "      <td>2</td>\n",
       "      <td>4</td>\n",
       "      <td>2</td>\n",
       "    </tr>\n",
       "    <tr>\n",
       "      <th>...</th>\n",
       "      <td>...</td>\n",
       "      <td>...</td>\n",
       "      <td>...</td>\n",
       "      <td>...</td>\n",
       "      <td>...</td>\n",
       "      <td>...</td>\n",
       "    </tr>\n",
       "    <tr>\n",
       "      <th>236</th>\n",
       "      <td>static-chatbot</td>\n",
       "      <td>5</td>\n",
       "      <td>7</td>\n",
       "      <td>2</td>\n",
       "      <td>6</td>\n",
       "      <td>4</td>\n",
       "    </tr>\n",
       "    <tr>\n",
       "      <th>237</th>\n",
       "      <td>static-chatbot</td>\n",
       "      <td>1</td>\n",
       "      <td>5</td>\n",
       "      <td>3</td>\n",
       "      <td>6</td>\n",
       "      <td>4</td>\n",
       "    </tr>\n",
       "    <tr>\n",
       "      <th>239</th>\n",
       "      <td>survey-based</td>\n",
       "      <td>4</td>\n",
       "      <td>2</td>\n",
       "      <td>1</td>\n",
       "      <td>7</td>\n",
       "      <td>1</td>\n",
       "    </tr>\n",
       "    <tr>\n",
       "      <th>240</th>\n",
       "      <td>chatbot</td>\n",
       "      <td>4</td>\n",
       "      <td>6</td>\n",
       "      <td>2</td>\n",
       "      <td>4</td>\n",
       "      <td>2</td>\n",
       "    </tr>\n",
       "    <tr>\n",
       "      <th>242</th>\n",
       "      <td>survey-based</td>\n",
       "      <td>4</td>\n",
       "      <td>5</td>\n",
       "      <td>4</td>\n",
       "      <td>4</td>\n",
       "      <td>2</td>\n",
       "    </tr>\n",
       "  </tbody>\n",
       "</table>\n",
       "<p>200 rows × 6 columns</p>\n",
       "</div>"
      ],
      "text/plain": [
       "      Exp_condition  PostQues_3  PostQues_10  PostQues_14  PostQues_20  \\\n",
       "36     survey-based           4            5            4            4   \n",
       "37   static-chatbot           4            3            2            4   \n",
       "38             none           1            2            2            4   \n",
       "39          chatbot           4            3            2            2   \n",
       "40             none           2            6            2            4   \n",
       "..              ...         ...          ...          ...          ...   \n",
       "236  static-chatbot           5            7            2            6   \n",
       "237  static-chatbot           1            5            3            6   \n",
       "239    survey-based           4            2            1            7   \n",
       "240         chatbot           4            6            2            4   \n",
       "242    survey-based           4            5            4            4   \n",
       "\n",
       "     PostQues_25  \n",
       "36             2  \n",
       "37             2  \n",
       "38             1  \n",
       "39             2  \n",
       "40             2  \n",
       "..           ...  \n",
       "236            4  \n",
       "237            4  \n",
       "239            1  \n",
       "240            2  \n",
       "242            2  \n",
       "\n",
       "[200 rows x 6 columns]"
      ]
     },
     "execution_count": 28,
     "metadata": {},
     "output_type": "execute_result"
    }
   ],
   "source": [
    " # Define the mapping from text to numeric values\n",
    "replacement_map = {\n",
    "    'Definitely yes': 7,\n",
    "    'Yes': 6,\n",
    "    'Probably yes': 5,\n",
    "    'Uncertain if yes or no': 4,\n",
    "    'Probably not': 3,\n",
    "    'No': 2,\n",
    "    'Definitely not': 1\n",
    "}\n",
    "\n",
    "# Replace the categorical responses with numeric values across the Da|taFrame\n",
    "filtered_columns_df.replace(replacement_map, inplace=True)\n",
    "\n",
    "# Display the first few rows to confirm the replacements\n",
    "filtered_columns_df"
   ]
  },
  {
   "cell_type": "code",
   "execution_count": 30,
   "metadata": {
    "cell_id": "e8c4b769821a4fdc8783404e1469a397",
    "deepnote_cell_type": "code",
    "deepnote_table_loading": false,
    "deepnote_table_state": {
     "filters": [],
     "pageIndex": 0,
     "pageSize": 50,
     "sortBy": []
    },
    "deepnote_to_be_reexecuted": false,
    "execution_millis": 358,
    "execution_start": 1717729805219,
    "source_hash": null
   },
   "outputs": [
    {
     "data": {
      "text/html": [
       "<div>\n",
       "<style scoped>\n",
       "    .dataframe tbody tr th:only-of-type {\n",
       "        vertical-align: middle;\n",
       "    }\n",
       "\n",
       "    .dataframe tbody tr th {\n",
       "        vertical-align: top;\n",
       "    }\n",
       "\n",
       "    .dataframe thead th {\n",
       "        text-align: right;\n",
       "    }\n",
       "</style>\n",
       "<table border=\"1\" class=\"dataframe\">\n",
       "  <thead>\n",
       "    <tr style=\"text-align: right;\">\n",
       "      <th></th>\n",
       "      <th>Exp_condition</th>\n",
       "      <th>PostQues_3</th>\n",
       "      <th>PostQues_10</th>\n",
       "      <th>PostQues_14</th>\n",
       "      <th>PostQues_20</th>\n",
       "      <th>PostQues_25</th>\n",
       "    </tr>\n",
       "  </thead>\n",
       "  <tbody>\n",
       "    <tr>\n",
       "      <th>36</th>\n",
       "      <td>survey-based</td>\n",
       "      <td>4</td>\n",
       "      <td>5</td>\n",
       "      <td>4</td>\n",
       "      <td>4</td>\n",
       "      <td>2</td>\n",
       "    </tr>\n",
       "    <tr>\n",
       "      <th>37</th>\n",
       "      <td>static-chatbot</td>\n",
       "      <td>4</td>\n",
       "      <td>3</td>\n",
       "      <td>2</td>\n",
       "      <td>4</td>\n",
       "      <td>2</td>\n",
       "    </tr>\n",
       "    <tr>\n",
       "      <th>38</th>\n",
       "      <td>none</td>\n",
       "      <td>1</td>\n",
       "      <td>2</td>\n",
       "      <td>2</td>\n",
       "      <td>4</td>\n",
       "      <td>1</td>\n",
       "    </tr>\n",
       "    <tr>\n",
       "      <th>39</th>\n",
       "      <td>chatbot</td>\n",
       "      <td>4</td>\n",
       "      <td>3</td>\n",
       "      <td>2</td>\n",
       "      <td>2</td>\n",
       "      <td>2</td>\n",
       "    </tr>\n",
       "    <tr>\n",
       "      <th>40</th>\n",
       "      <td>none</td>\n",
       "      <td>2</td>\n",
       "      <td>6</td>\n",
       "      <td>2</td>\n",
       "      <td>4</td>\n",
       "      <td>2</td>\n",
       "    </tr>\n",
       "    <tr>\n",
       "      <th>...</th>\n",
       "      <td>...</td>\n",
       "      <td>...</td>\n",
       "      <td>...</td>\n",
       "      <td>...</td>\n",
       "      <td>...</td>\n",
       "      <td>...</td>\n",
       "    </tr>\n",
       "    <tr>\n",
       "      <th>236</th>\n",
       "      <td>static-chatbot</td>\n",
       "      <td>5</td>\n",
       "      <td>7</td>\n",
       "      <td>2</td>\n",
       "      <td>6</td>\n",
       "      <td>4</td>\n",
       "    </tr>\n",
       "    <tr>\n",
       "      <th>237</th>\n",
       "      <td>static-chatbot</td>\n",
       "      <td>1</td>\n",
       "      <td>5</td>\n",
       "      <td>3</td>\n",
       "      <td>6</td>\n",
       "      <td>4</td>\n",
       "    </tr>\n",
       "    <tr>\n",
       "      <th>239</th>\n",
       "      <td>survey-based</td>\n",
       "      <td>4</td>\n",
       "      <td>2</td>\n",
       "      <td>1</td>\n",
       "      <td>7</td>\n",
       "      <td>1</td>\n",
       "    </tr>\n",
       "    <tr>\n",
       "      <th>240</th>\n",
       "      <td>chatbot</td>\n",
       "      <td>4</td>\n",
       "      <td>6</td>\n",
       "      <td>2</td>\n",
       "      <td>4</td>\n",
       "      <td>2</td>\n",
       "    </tr>\n",
       "    <tr>\n",
       "      <th>242</th>\n",
       "      <td>survey-based</td>\n",
       "      <td>4</td>\n",
       "      <td>5</td>\n",
       "      <td>4</td>\n",
       "      <td>4</td>\n",
       "      <td>2</td>\n",
       "    </tr>\n",
       "  </tbody>\n",
       "</table>\n",
       "<p>200 rows × 6 columns</p>\n",
       "</div>"
      ],
      "text/plain": [
       "      Exp_condition  PostQues_3  PostQues_10  PostQues_14  PostQues_20  \\\n",
       "36     survey-based           4            5            4            4   \n",
       "37   static-chatbot           4            3            2            4   \n",
       "38             none           1            2            2            4   \n",
       "39          chatbot           4            3            2            2   \n",
       "40             none           2            6            2            4   \n",
       "..              ...         ...          ...          ...          ...   \n",
       "236  static-chatbot           5            7            2            6   \n",
       "237  static-chatbot           1            5            3            6   \n",
       "239    survey-based           4            2            1            7   \n",
       "240         chatbot           4            6            2            4   \n",
       "242    survey-based           4            5            4            4   \n",
       "\n",
       "     PostQues_25  \n",
       "36             2  \n",
       "37             2  \n",
       "38             1  \n",
       "39             2  \n",
       "40             2  \n",
       "..           ...  \n",
       "236            4  \n",
       "237            4  \n",
       "239            1  \n",
       "240            2  \n",
       "242            2  \n",
       "\n",
       "[200 rows x 6 columns]"
      ]
     },
     "execution_count": 30,
     "metadata": {},
     "output_type": "execute_result"
    }
   ],
   "source": [
    "filtered_columns_df"
   ]
  },
  {
   "cell_type": "code",
   "execution_count": 48,
   "metadata": {
    "cell_id": "918a6680fe8c48eab778baf3a2eff259",
    "deepnote_cell_type": "code",
    "deepnote_to_be_reexecuted": false,
    "execution_millis": 294,
    "execution_start": 1717729805284,
    "source_hash": null
   },
   "outputs": [
    {
     "name": "stderr",
     "output_type": "stream",
     "text": [
      "C:\\Users\\rumucao\\AppData\\Local\\Temp\\ipykernel_6564\\4278997254.py:1: SettingWithCopyWarning: \n",
      "A value is trying to be set on a copy of a slice from a DataFrame.\n",
      "Try using .loc[row_indexer,col_indexer] = value instead\n",
      "\n",
      "See the caveats in the documentation: https://pandas.pydata.org/pandas-docs/stable/user_guide/indexing.html#returning-a-view-versus-a-copy\n",
      "  filtered_columns_df['false_memories'] = filtered_columns_df.apply(lambda row: (row.iloc[1:] > 4).sum(), axis=1)\n"
     ]
    }
   ],
   "source": [
    "filtered_columns_df['false_memories'] = filtered_columns_df.apply(lambda row: (row.iloc[1:] > 4).sum(), axis=1)"
   ]
  },
  {
   "cell_type": "code",
   "execution_count": 54,
   "metadata": {
    "cell_id": "546de37f5e2b4f2f90c26e158b4b4044",
    "deepnote_cell_type": "code",
    "deepnote_table_loading": false,
    "deepnote_table_state": {
     "filters": [],
     "pageIndex": 0,
     "pageSize": 5,
     "sortBy": []
    },
    "deepnote_to_be_reexecuted": false,
    "execution_millis": 630,
    "execution_start": 1717729805326,
    "source_hash": null
   },
   "outputs": [
    {
     "ename": "NameError",
     "evalue": "name 'write' is not defined",
     "output_type": "error",
     "traceback": [
      "\u001b[1;31m---------------------------------------------------------------------------\u001b[0m",
      "\u001b[1;31mNameError\u001b[0m                                 Traceback (most recent call last)",
      "Cell \u001b[1;32mIn[54], line 2\u001b[0m\n\u001b[0;32m      1\u001b[0m filtered_columns_df\n\u001b[1;32m----> 2\u001b[0m write\u001b[38;5;241m.\u001b[39mcsv(filtered_columns_df, \u001b[38;5;124m\"\u001b[39m\u001b[38;5;124mfiltered_columns_df.csv\u001b[39m\u001b[38;5;124m\"\u001b[39m, row\u001b[38;5;241m.\u001b[39mnames \u001b[38;5;241m==\u001b[39m FALSE)\n",
      "\u001b[1;31mNameError\u001b[0m: name 'write' is not defined"
     ]
    }
   ],
   "source": [
    "filtered_columns_df\n",
    "write.csv(filtered_columns_df, \"filtered_columns_df.csv\", row.names == FALSE)"
   ]
  },
  {
   "cell_type": "code",
   "execution_count": null,
   "metadata": {
    "cell_id": "27093d4f2ea443bd9a3a472f43b93ccc",
    "deepnote_cell_type": "code",
    "deepnote_to_be_reexecuted": false,
    "execution_millis": 604,
    "execution_start": 1717729805352,
    "source_hash": null
   },
   "outputs": [],
   "source": [
    "control_df = filtered_columns_df.loc[filtered_columns_df['Exp_condition'] == 'none']\n",
    "survey_df = filtered_columns_df.loc[filtered_columns_df['Exp_condition'] == 'survey-based']\n",
    "prescripted_df = filtered_columns_df.loc[filtered_columns_df['Exp_condition'] == 'static-chatbot']\n",
    "generative_df = filtered_columns_df.loc[filtered_columns_df['Exp_condition'] == 'chatbot']"
   ]
  },
  {
   "cell_type": "code",
   "execution_count": null,
   "metadata": {
    "cell_id": "6cb96ba99b13488db772d8d5597d8a60",
    "deepnote_cell_type": "visualization",
    "deepnote_chart_height": 405,
    "deepnote_to_be_reexecuted": false,
    "deepnote_variable_name": "filtered_columns_df",
    "deepnote_visualization_spec": {
     "$schema": "https://vega.github.io/schema/vega-lite/v5.json",
     "config": {
      "legend": {}
     },
     "encoding": {},
     "layer": [
      {
       "layer": [
        {
         "encoding": {
          "x": {
           "field": "Exp_condition",
           "scale": {
            "type": "linear"
           },
           "sort": {
            "encoding": "y",
            "order": "ascending"
           },
           "type": "nominal"
          },
          "y": {
           "aggregate": "average",
           "field": "false_memories",
           "format": {
            "decimals": null,
            "type": "default"
           },
           "formatType": "numberFormatFromNumberType",
           "scale": {
            "type": "linear"
           },
           "sort": null,
           "type": "quantitative"
          }
         },
         "mark": {
          "clip": true,
          "color": "#2266D3",
          "tooltip": true,
          "type": "bar"
         }
        }
       ]
      }
     ],
     "title": "",
     "usermeta": {
      "tooltipDefaultMode": true
     }
    },
    "execution_millis": 593,
    "execution_start": 1717729805364,
    "source_hash": null
   },
   "outputs": [],
   "source": [
    "DeepnoteChart(filtered_columns_df, \"\"\"{\"layer\":[{\"layer\":[{\"mark\":{\"clip\":true,\"type\":\"bar\",\"color\":\"#2266D3\",\"tooltip\":true},\"encoding\":{\"x\":{\"sort\":{\"order\":\"ascending\",\"encoding\":\"y\"},\"type\":\"nominal\",\"field\":\"Exp_condition\",\"scale\":{\"type\":\"linear\"}},\"y\":{\"sort\":null,\"type\":\"quantitative\",\"field\":\"false_memories\",\"scale\":{\"type\":\"linear\"},\"format\":{\"type\":\"default\",\"decimals\":null},\"aggregate\":\"average\",\"formatType\":\"numberFormatFromNumberType\"}}}]}],\"title\":\"\",\"config\":{\"legend\":{}},\"$schema\":\"https://vega.github.io/schema/vega-lite/v5.json\",\"encoding\":{},\"usermeta\":{\"tooltipDefaultMode\":true}}\"\"\")"
   ]
  },
  {
   "cell_type": "code",
   "execution_count": null,
   "metadata": {
    "allow_embed": false,
    "cell_id": "b576c363082f48e8a536baa28b9b5a82",
    "deepnote_cell_type": "visualization",
    "deepnote_chart_height": 405,
    "deepnote_to_be_reexecuted": false,
    "deepnote_variable_name": "control_df",
    "deepnote_visualization_spec": {
     "$schema": "https://vega.github.io/schema/vega-lite/v5.json",
     "config": {
      "legend": {}
     },
     "encoding": {},
     "layer": [
      {
       "layer": [
        {
         "encoding": {
          "x": {
           "axis": {
            "grid": false
           },
           "bin": true,
           "field": "false_memories",
           "sort": null,
           "type": "quantitative"
          },
          "y": {
           "aggregate": "count",
           "axis": {
            "grid": false
           },
           "format": {
            "decimals": null,
            "type": "default"
           },
           "formatType": "numberFormatFromNumberType",
           "scale": {
            "type": "linear"
           },
           "sort": null,
           "type": "quantitative"
          }
         },
         "mark": {
          "clip": true,
          "color": "#2266D3",
          "tooltip": true,
          "type": "bar"
         }
        }
       ]
      }
     ],
     "title": "",
     "usermeta": {
      "aditionalTypeInfo": {
       "histogramLayerIndexes": [
        0
       ]
      },
      "tooltipDefaultMode": true
     }
    },
    "execution_millis": 427,
    "execution_start": 1717729805530,
    "source_hash": null
   },
   "outputs": [],
   "source": [
    "DeepnoteChart(control_df, \"\"\"{\"layer\":[{\"layer\":[{\"mark\":{\"clip\":true,\"type\":\"bar\",\"color\":\"#2266D3\",\"tooltip\":true},\"encoding\":{\"x\":{\"bin\":true,\"axis\":{\"grid\":false},\"sort\":null,\"type\":\"quantitative\",\"field\":\"false_memories\"},\"y\":{\"axis\":{\"grid\":false},\"sort\":null,\"type\":\"quantitative\",\"scale\":{\"type\":\"linear\"},\"format\":{\"type\":\"default\",\"decimals\":null},\"aggregate\":\"count\",\"formatType\":\"numberFormatFromNumberType\"}}}]}],\"title\":\"\",\"config\":{\"legend\":{}},\"$schema\":\"https://vega.github.io/schema/vega-lite/v5.json\",\"encoding\":{},\"usermeta\":{\"aditionalTypeInfo\":{\"histogramLayerIndexes\":[0]},\"tooltipDefaultMode\":true}}\"\"\")"
   ]
  },
  {
   "cell_type": "code",
   "execution_count": null,
   "metadata": {
    "allow_embed": false,
    "cell_id": "a529e5460dae4ce78fc3d0cda7e3fd58",
    "deepnote_cell_type": "visualization",
    "deepnote_chart_height": 405,
    "deepnote_to_be_reexecuted": false,
    "deepnote_variable_name": "survey_df",
    "deepnote_visualization_spec": {
     "$schema": "https://vega.github.io/schema/vega-lite/v5.json",
     "config": {
      "legend": {}
     },
     "encoding": {},
     "layer": [
      {
       "layer": [
        {
         "encoding": {
          "x": {
           "axis": {
            "grid": false
           },
           "bin": true,
           "field": "false_memories",
           "sort": null,
           "type": "quantitative"
          },
          "y": {
           "aggregate": "count",
           "axis": {
            "grid": false
           },
           "format": {
            "decimals": null,
            "type": "default"
           },
           "formatType": "numberFormatFromNumberType",
           "scale": {
            "type": "linear"
           },
           "sort": null,
           "type": "quantitative"
          }
         },
         "mark": {
          "clip": true,
          "color": "#2266D3",
          "tooltip": true,
          "type": "bar"
         }
        }
       ]
      }
     ],
     "title": "",
     "usermeta": {
      "aditionalTypeInfo": {
       "histogramLayerIndexes": [
        0
       ]
      },
      "tooltipDefaultMode": true
     }
    },
    "execution_millis": 424,
    "execution_start": 1717729805533,
    "source_hash": null
   },
   "outputs": [],
   "source": [
    "DeepnoteChart(survey_df, \"\"\"{\"layer\":[{\"layer\":[{\"mark\":{\"clip\":true,\"type\":\"bar\",\"color\":\"#2266D3\",\"tooltip\":true},\"encoding\":{\"x\":{\"bin\":true,\"axis\":{\"grid\":false},\"sort\":null,\"type\":\"quantitative\",\"field\":\"false_memories\"},\"y\":{\"axis\":{\"grid\":false},\"sort\":null,\"type\":\"quantitative\",\"scale\":{\"type\":\"linear\"},\"format\":{\"type\":\"default\",\"decimals\":null},\"aggregate\":\"count\",\"formatType\":\"numberFormatFromNumberType\"}}}]}],\"title\":\"\",\"config\":{\"legend\":{}},\"$schema\":\"https://vega.github.io/schema/vega-lite/v5.json\",\"encoding\":{},\"usermeta\":{\"aditionalTypeInfo\":{\"histogramLayerIndexes\":[0]},\"tooltipDefaultMode\":true}}\"\"\")"
   ]
  },
  {
   "cell_type": "code",
   "execution_count": null,
   "metadata": {
    "allow_embed": false,
    "cell_id": "287c24d3bf71427b9758e625018aefe7",
    "deepnote_cell_type": "visualization",
    "deepnote_chart_height": 405,
    "deepnote_to_be_reexecuted": false,
    "deepnote_variable_name": "prescripted_df",
    "deepnote_visualization_spec": {
     "$schema": "https://vega.github.io/schema/vega-lite/v5.json",
     "config": {
      "legend": {}
     },
     "encoding": {},
     "layer": [
      {
       "layer": [
        {
         "encoding": {
          "x": {
           "axis": {
            "grid": false
           },
           "bin": true,
           "field": "false_memories",
           "sort": null,
           "type": "quantitative"
          },
          "y": {
           "aggregate": "count",
           "axis": {
            "grid": false
           },
           "format": {
            "decimals": null,
            "type": "default"
           },
           "formatType": "numberFormatFromNumberType",
           "scale": {
            "type": "linear"
           },
           "sort": null,
           "type": "quantitative"
          }
         },
         "mark": {
          "clip": true,
          "color": "#2266D3",
          "tooltip": true,
          "type": "bar"
         }
        }
       ]
      }
     ],
     "title": "",
     "usermeta": {
      "aditionalTypeInfo": {
       "histogramLayerIndexes": [
        0
       ]
      },
      "tooltipDefaultMode": true
     }
    },
    "execution_millis": 394,
    "execution_start": 1717729805564,
    "source_hash": null
   },
   "outputs": [],
   "source": [
    "DeepnoteChart(prescripted_df, \"\"\"{\"layer\":[{\"layer\":[{\"mark\":{\"clip\":true,\"type\":\"bar\",\"color\":\"#2266D3\",\"tooltip\":true},\"encoding\":{\"x\":{\"bin\":true,\"axis\":{\"grid\":false},\"sort\":null,\"type\":\"quantitative\",\"field\":\"false_memories\"},\"y\":{\"axis\":{\"grid\":false},\"sort\":null,\"type\":\"quantitative\",\"scale\":{\"type\":\"linear\"},\"format\":{\"type\":\"default\",\"decimals\":null},\"aggregate\":\"count\",\"formatType\":\"numberFormatFromNumberType\"}}}]}],\"title\":\"\",\"config\":{\"legend\":{}},\"$schema\":\"https://vega.github.io/schema/vega-lite/v5.json\",\"encoding\":{},\"usermeta\":{\"aditionalTypeInfo\":{\"histogramLayerIndexes\":[0]},\"tooltipDefaultMode\":true}}\"\"\")"
   ]
  },
  {
   "cell_type": "code",
   "execution_count": null,
   "metadata": {
    "allow_embed": false,
    "cell_id": "2bd98b60df0446f48a583c5e0bdaac2c",
    "deepnote_cell_type": "visualization",
    "deepnote_chart_height": 405,
    "deepnote_to_be_reexecuted": false,
    "deepnote_variable_name": "generative_df",
    "deepnote_visualization_spec": {
     "$schema": "https://vega.github.io/schema/vega-lite/v5.json",
     "config": {
      "legend": {}
     },
     "encoding": {},
     "layer": [
      {
       "layer": [
        {
         "encoding": {
          "x": {
           "axis": {
            "grid": false
           },
           "bin": true,
           "field": "false_memories",
           "sort": null,
           "type": "quantitative"
          },
          "y": {
           "aggregate": "count",
           "axis": {
            "grid": false
           },
           "format": {
            "decimals": null,
            "type": "default"
           },
           "formatType": "numberFormatFromNumberType",
           "scale": {
            "type": "linear"
           },
           "sort": null,
           "type": "quantitative"
          }
         },
         "mark": {
          "clip": true,
          "color": "#2266D3",
          "tooltip": true,
          "type": "bar"
         }
        }
       ]
      }
     ],
     "title": "",
     "usermeta": {
      "aditionalTypeInfo": {
       "histogramLayerIndexes": [
        0
       ]
      },
      "tooltipDefaultMode": true
     }
    },
    "execution_millis": 680,
    "execution_start": 1717729805595,
    "source_hash": null
   },
   "outputs": [],
   "source": [
    "DeepnoteChart(generative_df, \"\"\"{\"layer\":[{\"layer\":[{\"mark\":{\"clip\":true,\"type\":\"bar\",\"color\":\"#2266D3\",\"tooltip\":true},\"encoding\":{\"x\":{\"bin\":true,\"axis\":{\"grid\":false},\"sort\":null,\"type\":\"quantitative\",\"field\":\"false_memories\"},\"y\":{\"axis\":{\"grid\":false},\"sort\":null,\"type\":\"quantitative\",\"scale\":{\"type\":\"linear\"},\"format\":{\"type\":\"default\",\"decimals\":null},\"aggregate\":\"count\",\"formatType\":\"numberFormatFromNumberType\"}}}]}],\"title\":\"\",\"config\":{\"legend\":{}},\"$schema\":\"https://vega.github.io/schema/vega-lite/v5.json\",\"encoding\":{},\"usermeta\":{\"aditionalTypeInfo\":{\"histogramLayerIndexes\":[0]},\"tooltipDefaultMode\":true}}\"\"\")"
   ]
  },
  {
   "cell_type": "code",
   "execution_count": 34,
   "metadata": {
    "cell_id": "44ec43bfc6ee485fb4e728e237f0e896",
    "deepnote_cell_type": "code",
    "deepnote_to_be_reexecuted": false,
    "execution_millis": 643,
    "execution_start": 1717729805633,
    "source_hash": null
   },
   "outputs": [
    {
     "name": "stdout",
     "output_type": "stream",
     "text": [
      "Exp_condition\n",
      "survey-based      50\n",
      "static-chatbot    50\n",
      "none              50\n",
      "chatbot           50\n",
      "Name: count, dtype: int64\n"
     ]
    }
   ],
   "source": [
    "# Assuming 'filtered_columns_df' is your DataFrame and it includes the 'Exp_condition' column\n",
    "exp_condition_counts = filtered_columns_df['Exp_condition'].value_counts()\n",
    "\n",
    "# Print the counts of each experimental condition\n",
    "print(exp_condition_counts)"
   ]
  },
  {
   "cell_type": "code",
   "execution_count": 36,
   "metadata": {
    "ExecuteTime": {
     "end_time": "2025-03-30T10:50:46.357110Z",
     "start_time": "2025-03-30T10:50:46.212620Z"
    },
    "cell_id": "45a9463d32954b1ebe9e5e3ab4b54672",
    "deepnote_cell_type": "code",
    "deepnote_to_be_reexecuted": false,
    "execution_millis": 624,
    "execution_start": 1717729805652,
    "source_hash": null
   },
   "outputs": [],
   "source": [
    "# Initialize a dictionary to store lists of false_memories for each unique Exp_condition\n",
    "condition_dict = {}\n",
    "\n",
    "# Loop through each row in the DataFrame\n",
    "for index, row in filtered_columns_df.iterrows():\n",
    "    condition = row['Exp_condition']\n",
    "    memory = row['false_memories']  # Assuming 'false_memories' holds the values to store\n",
    "\n",
    "    # If the condition is not yet a key in the dictionary, add it with an empty list\n",
    "    if condition not in condition_dict:\n",
    "        condition_dict[condition] = []\n",
    "\n",
    "    # Append the false memory to the appropriate list\n",
    "    condition_dict[condition].append(memory)\n"
   ]
  },
  {
   "cell_type": "code",
   "execution_count": 38,
   "metadata": {
    "cell_id": "280e65176679475dbcf4ce7f864e4a4f",
    "deepnote_cell_type": "code",
    "deepnote_to_be_reexecuted": false,
    "execution_millis": 592,
    "execution_start": 1717729805684,
    "source_hash": null
   },
   "outputs": [
    {
     "name": "stdout",
     "output_type": "stream",
     "text": [
      "{'survey-based': [1, 1, 1, 0, 1, 1, 1, 1, 1, 2, 3, 1, 1, 1, 1, 1, 2, 0, 1, 0, 1, 2, 0, 2, 0, 2, 0, 0, 1, 3, 0, 0, 0, 2, 1, 2, 1, 1, 1, 0, 1, 1, 2, 3, 2, 1, 0, 2, 1, 1], 'static-chatbot': [0, 0, 1, 0, 1, 3, 2, 1, 0, 4, 0, 1, 1, 1, 0, 0, 3, 1, 0, 1, 2, 0, 2, 0, 0, 1, 1, 0, 1, 1, 4, 1, 4, 1, 2, 1, 2, 0, 3, 1, 0, 4, 3, 3, 3, 0, 0, 2, 3, 2], 'none': [0, 1, 0, 0, 0, 2, 0, 1, 0, 0, 1, 2, 0, 1, 0, 2, 2, 0, 0, 0, 1, 1, 0, 0, 0, 1, 0, 0, 0, 2, 0, 2, 0, 0, 0, 0, 0, 4, 0, 0, 1, 0, 0, 1, 0, 0, 0, 0, 0, 2], 'chatbot': [0, 0, 2, 1, 0, 4, 0, 3, 2, 1, 5, 4, 2, 1, 2, 3, 2, 2, 3, 0, 1, 1, 4, 2, 0, 3, 2, 0, 2, 1, 2, 3, 3, 2, 2, 2, 2, 0, 2, 3, 3, 2, 2, 3, 0, 3, 0, 2, 1, 1]}\n"
     ]
    }
   ],
   "source": [
    "print(condition_dict)"
   ]
  },
  {
   "cell_type": "code",
   "execution_count": 40,
   "metadata": {
    "cell_id": "abeb16caf71b4fc39a9da1cb82df390e",
    "deepnote_cell_type": "code",
    "deepnote_to_be_reexecuted": false,
    "execution_millis": 593,
    "execution_start": 1717729805684,
    "source_hash": null
   },
   "outputs": [],
   "source": [
    "# Define the specific order of conditions\n",
    "ordered_conditions = ['none', 'survey-based', 'static-chatbot', 'chatbot']\n",
    "\n",
    "# Prepare data for plotting according to the specified order\n",
    "memory_lists_ordered = [condition_dict[condition] for condition in ordered_conditions if condition in condition_dict]"
   ]
  },
  {
   "cell_type": "code",
   "execution_count": 42,
   "metadata": {
    "cell_id": "af2ca3147c75429c8642146b2277430d",
    "deepnote_cell_type": "code",
    "deepnote_to_be_reexecuted": false,
    "execution_millis": 548,
    "execution_start": 1717729805729,
    "source_hash": null
   },
   "outputs": [],
   "source": [
    "# Prepare data for plotting according to the specified order and calculate mean and standard error\n",
    "means = []\n",
    "errors = []\n",
    "sds = []\n",
    "for condition in ordered_conditions:\n",
    "    if condition in condition_dict:\n",
    "        values = condition_dict[condition]\n",
    "        mean = np.mean(values)\n",
    "        # Calculate the standard error as the error bar (standard deviation divided by the square root of the sample size)\n",
    "        std = np.std(values)\n",
    "        error = np.std(values) / np.sqrt(len(values))\n",
    "        means.append(mean)\n",
    "        sds.append(std)\n",
    "        errors.append(error)"
   ]
  },
  {
   "cell_type": "code",
   "execution_count": 44,
   "metadata": {
    "cell_id": "59febae56c824effa6364017c0a92ced",
    "deepnote_cell_type": "code",
    "deepnote_to_be_reexecuted": false,
    "execution_millis": 527,
    "execution_start": 1717729805750,
    "source_hash": null
   },
   "outputs": [],
   "source": [
    "ordered_labels = ['none', 'survey based', 'prescripted chatbot', 'generative chatbot']\n",
    "colors = ['#B0B0B0', '#88CCEE', '#DDCC77', '#CC6677']"
   ]
  },
  {
   "cell_type": "code",
   "execution_count": 46,
   "metadata": {
    "cell_id": "a73832e6dd074a84950ea0170a1440d2",
    "deepnote_cell_type": "code",
    "deepnote_to_be_reexecuted": false,
    "execution_millis": 528,
    "execution_start": 1717729805750,
    "source_hash": null
   },
   "outputs": [
    {
     "name": "stdout",
     "output_type": "stream",
     "text": [
      "0 and 1 with id: 0\n",
      "0 and 2 with id: 1\n",
      "0 and 3 with id: 2\n",
      "1 and 3 with id: 3\n"
     ]
    },
    {
     "data": {
      "image/png": "[encoded data removed]",
      "text/plain": [
       "<Figure size 800x600 with 1 Axes>"
      ]
     },
     "metadata": {},
     "output_type": "display_data"
    }
   ],
   "source": [
    " # X positions\n",
    "x_pos = np.arange(len(ordered_conditions))\n",
    "\n",
    "# Significance values (p-values) for the significance markers\n",
    "significance_values = [\n",
    "    ((0, 1), '*'), # Between 'none' and 'survey-based'\n",
    "    ((0, 2), '*'), # Between 'none' and 'static-chatbot'\n",
    "    ((0, 3), '*'),# Between 'none' and 'chatbot'    \n",
    "    ((1, 3), '*'), # Between 'survey-based' and 'chatbot'\n",
    "]\n",
    "\n",
    "# Creating the bar plot with error bars\n",
    "plt.figure(figsize=(8, 6))\n",
    "bars = plt.bar(x_pos, means, yerr=errors, capsize=5, color='grey')\n",
    "plt.title('Immediate False Memories by Experimental Condition with Error Bars')\n",
    "plt.ylabel('Average False Memory Score')\n",
    "plt.xlabel('Experimental Condition')\n",
    "plt.xticks(x_pos, ordered_labels)\n",
    "\n",
    "# Adding significance markers with p-values, separate and not overlapping\n",
    "y_base_offset = 0.6  # Base vertical offset for significance lines\n",
    "y_increment = 0.5  # Increment for each subsequent significance marker\n",
    "\n",
    "# Initialize the first y position above the highest bar\n",
    "current_y_position = min(means) + max(errors) + y_base_offset\n",
    "\n",
    "for idx, ((i, j), label) in enumerate(significance_values):\n",
    "    x1, x2 = x_pos[i], x_pos[j]\n",
    "    print(\"{1} and {2} with id: {0}\".format(idx, x1, x2))\n",
    "    y = current_y_position\n",
    "    h, col = 0.1, 'k'\n",
    "    plt.plot([x1, x1, x2, x2], [y, y+h, y+h, y], lw=1.5, c=col)\n",
    "    plt.text((x1 + x2) * 0.5, y + h, label, ha='center', va='bottom', color=col)\n",
    "    current_y_position += y_increment  # Update the y position for the next marker\n",
    "\n",
    "# Adjust plot limits to make space for significance markers\n",
    "plt.ylim(0, current_y_position + y_increment)\n",
    "\n",
    "# Improve layout\n",
    "plt.tight_layout()\n",
    "\n",
    "# Show the plot\n",
    "plt.show()"
   ]
  },
  {
   "cell_type": "code",
   "execution_count": null,
   "metadata": {
    "cell_id": "e2c1d2089c5d4883a7f799baea7e2347",
    "deepnote_cell_type": "code",
    "deepnote_to_be_reexecuted": false,
    "execution_millis": 749,
    "execution_start": 1717731455708,
    "source_hash": null
   },
   "outputs": [],
   "source": [
    " # X positions\n",
    "x_pos = np.arange(len(ordered_conditions))\n",
    "\n",
    "# Significance values (p-values) for the significance markers\n",
    "significance_values = [\n",
    "    ((0, 1), '** P=0.0058'), # Between 'none' and 'survey-based'\n",
    "    ((0, 2), '** P=0.0014'), # Between 'none' and 'prescript-chatbot'\n",
    "    ((0, 3), '**** P=1.01e-7'),# Between 'none' and 'generative chatbot'    \n",
    "    ((1, 3), '* P=0.0115'), # Between 'survey-based' and 'generative chatbot'\n",
    "    ((2, 3), '* P=0.0395'), # Between 'prescript-chatbot' and 'generative chatbot'\n",
    "]\n",
    "\n",
    "# Creating the bar plot with error bars\n",
    "plt.figure(figsize=(8, 6))\n",
    "bars = plt.bar(x_pos, means, yerr=errors, capsize=5, color=colors)\n",
    "plt.title('Immediate False Memories by Experimental Condition with Error Bars')\n",
    "plt.ylabel('Average Number of False Memories')\n",
    "plt.xlabel('Experimental Condition')\n",
    "plt.xticks(x_pos, ordered_labels)\n",
    "\n",
    "# Adding significance markers with p-values, separate and not overlapping\n",
    "y_base_offset = 0.7  # Base vertical offset for significance lines\n",
    "y_increment = 0.3  # Increment for each subsequent significance marker\n",
    "\n",
    "# Initialize the first y position above the highest bar\n",
    "current_y_position = min(means) + max(errors) + y_base_offset\n",
    "\n",
    "for idx, ((i, j), label) in enumerate(significance_values):\n",
    "    x1, x2 = x_pos[i], x_pos[j]\n",
    "    print(\"{1} and {2} with id: {0}\".format(idx, x1, x2))\n",
    "    y = current_y_position\n",
    "    h, col = 0.1, 'k'\n",
    "    plt.plot([x1, x1, x2, x2], [y, y+h, y+h, y], lw=1.5, c=col)\n",
    "    plt.text((x1 + x2) * 0.5, y + h, label, ha='center', va='bottom', color=col)\n",
    "    current_y_position += y_increment  # Update the y position for the next marker\n",
    "\n",
    "# Adjust plot limits to make space for significance markers\n",
    "plt.ylim(0, current_y_position + y_increment)\n",
    "\n",
    "# Improve layout\n",
    "plt.tight_layout()\n",
    "\n",
    "plt.savefig('immediate_false_mem.png')\n",
    "#plt.savefig('foo.png', bbox_inches='tight')\n",
    "\n",
    "# Show the plot\n",
    "plt.show()\n",
    "\n",
    "\n"
   ]
  },
  {
   "cell_type": "markdown",
   "metadata": {
    "cell_id": "0bc600f7443b4d67bd53e24bef76abeb",
    "deepnote_cell_type": "text-cell-h2",
    "formattedRanges": []
   },
   "source": [
    "## Mean, SD, Error for Immediate False Memories"
   ]
  },
  {
   "cell_type": "code",
   "execution_count": null,
   "metadata": {
    "cell_id": "2a4c26e8f27c427489cd15238cd4f356",
    "deepnote_cell_type": "code",
    "deepnote_to_be_reexecuted": false,
    "execution_millis": 163,
    "execution_start": 1717729806726,
    "source_hash": null
   },
   "outputs": [],
   "source": [
    "print(ordered_conditions)\n",
    "print (means) \n",
    "print(sds)\n",
    "print(errors)"
   ]
  },
  {
   "cell_type": "markdown",
   "metadata": {
    "cell_id": "9c63020828c74774bc989241cea8464a",
    "deepnote_cell_type": "text-cell-h1",
    "formattedRanges": []
   },
   "source": [
    "# Normality testing"
   ]
  },
  {
   "cell_type": "code",
   "execution_count": null,
   "metadata": {
    "cell_id": "77e1c5408a094acc87e127d5dec74750",
    "deepnote_cell_type": "code",
    "deepnote_to_be_reexecuted": false,
    "execution_millis": 158,
    "execution_start": 1717729806732,
    "source_hash": null
   },
   "outputs": [],
   "source": [
    "from scipy.stats import shapiro\n",
    "\n",
    "# Initialize a dictionary to store the test results\n",
    "shapiro_results = {}\n",
    "\n",
    "# Perform the Shapiro-Wilk test for each condition and store the results\n",
    "for condition in ordered_conditions:\n",
    "    if condition in condition_dict:\n",
    "        values = np.array(condition_dict[condition])  # Convert list to NumPy array for processing\n",
    "        test_statistic, p_value = shapiro(values)\n",
    "        shapiro_results[condition] = (test_statistic, p_value)\n",
    "\n",
    "# Display the results\n",
    "for condition, results in shapiro_results.items():\n",
    "    print(f\"Condition: {condition}\\nShapiro-Wilk Test Statistic: {results[0]}, P-Value: {results[1]}\\n\")\n",
    "\n",
    "# "
   ]
  },
  {
   "cell_type": "markdown",
   "metadata": {
    "cell_id": "e72fd1287fd143b1a5deb7728c5c2a48",
    "deepnote_app_block_visible": false,
    "deepnote_cell_type": "text-cell-h1",
    "formattedRanges": [],
    "is_collapsed": false
   },
   "source": [
    "# Kruskal-Wallis Test"
   ]
  },
  {
   "cell_type": "code",
   "execution_count": null,
   "metadata": {
    "cell_id": "d2759e467f68438390649e70bd414c5c",
    "deepnote_cell_type": "code",
    "deepnote_to_be_reexecuted": false,
    "execution_millis": 150,
    "execution_start": 1717729806740,
    "source_hash": null
   },
   "outputs": [],
   "source": [
    "from scipy.stats import kruskal\n",
    "\n",
    "# Prepare data for the test, ensuring only non-empty lists are included\n",
    "data = [condition_dict[condition] for condition in ordered_conditions if condition in condition_dict and len(condition_dict[condition]) > 0]\n",
    "\n",
    "# Check if we have enough groups with data to perform Kruskal-Wallis\n",
    "if len(data) >= 2:  # We need at least two groups to compare\n",
    "    # Perform the Kruskal-Wallis H Test\n",
    "    test_statistic, p_value = kruskal(*data)\n",
    "    print(f\"Kruskal-Wallis H Test Statistic: {test_statistic}, P-Value: {p_value}\")\n",
    "else:\n",
    "    print(\"Not enough data to perform Kruskal-Wallis test.\")\n"
   ]
  },
  {
   "cell_type": "code",
   "execution_count": null,
   "metadata": {
    "cell_id": "bc8a847e55c3435db90f86665feb025a",
    "deepnote_cell_type": "code",
    "deepnote_to_be_reexecuted": false,
    "execution_millis": 137,
    "execution_start": 1717729806754,
    "source_hash": null
   },
   "outputs": [],
   "source": [
    "# checking how data looks like\n",
    "print(data)"
   ]
  },
  {
   "cell_type": "markdown",
   "metadata": {
    "cell_id": "6600db98a42544c589d7373c9510a2ad",
    "deepnote_cell_type": "text-cell-h2",
    "formattedRanges": []
   },
   "source": [
    "## Posthoc Dunn Test with Benjamini–Hochberg FDR"
   ]
  },
  {
   "cell_type": "code",
   "execution_count": null,
   "metadata": {
    "allow_embed": false,
    "cell_id": "331e20c367344159be847fab93a76b02",
    "deepnote_cell_type": "code",
    "deepnote_to_be_reexecuted": false,
    "execution_millis": 50,
    "execution_start": 1717729806841,
    "source_hash": null
   },
   "outputs": [],
   "source": [
    "#Dunn Test with Benjamini–Hochberg FDR correction\n",
    "\n",
    "dunn_results_fdr = sp.posthoc_dunn(data, group_col='condition', p_adjust='fdr_bh')\n",
    "\n",
    "# Print the adjusted p-values for pairwise comparisons\n",
    "print(\"Adjusted p-values for pairwise comparisons with FDR:\")\n",
    "print(dunn_results_fdr)\n",
    "print(dunn_results_fdr <0.05)\n",
    "\n",
    "#None - 1, survey - 2, prescript - 3, generative - 4"
   ]
  },
  {
   "cell_type": "markdown",
   "metadata": {
    "created_in_deepnote_cell": true,
    "deepnote_cell_type": "markdown"
   },
   "source": [
    "<a style='text-decoration:none;line-height:16px;display:flex;color:#5B5B62;padding:10px;justify-content:end;' href='https://deepnote.com?utm_source=created-in-deepnote-cell&projectId=e32e89f2-6d44-49b2-bfdc-83c1c87a0fb5' target=\"_blank\">\n",
    "<img alt='Created in deepnote.com' style='display:inline;max-height:16px;margin:0px;margin-right:7.5px;' src='data:image/svg+xml;base64,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' > </img>\n",
    "Created in <span style='font-weight:600;margin-left:4px;'>Deepnote</span></a>"
   ]
  }
 ],
 "metadata": {
  "deepnote_execution_queue": [],
  "deepnote_notebook_id": "60cb51a574194297a88f6b615f56291d",
  "deepnote_persisted_session": {
   "createdAt": "2024-06-07T07:00:43.013Z"
  },
  "kernelspec": {
   "display_name": "Python 3 (ipykernel)",
   "language": "python",
   "name": "python3"
  },
  "language_info": {
   "codemirror_mode": {
    "name": "ipython",
    "version": 3
   },
   "file_extension": ".py",
   "mimetype": "text/x-python",
   "name": "python",
   "nbconvert_exporter": "python",
   "pygments_lexer": "ipython3",
   "version": "3.12.7"
  }
 },
 "nbformat": 4,
 "nbformat_minor": 4
}
